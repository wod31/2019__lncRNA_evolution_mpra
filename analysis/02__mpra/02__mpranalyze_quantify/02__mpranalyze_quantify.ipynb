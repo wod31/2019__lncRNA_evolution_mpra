{
 "cells": [
  {
   "cell_type": "markdown",
   "metadata": {},
   "source": [
    "# 02__mpranalyze_quantify\n",
    "\n",
    "in this notebook, i run the R package MPRAnalyze on the set of TSSs in order to quantify TSS activities. i first have MPRAnalyze estimate the library depth correction factors based on the full set of elements (though HUES64 is downsampled). then i have it run in quantify mode, using the RANDOM sequences as negative controls."
   ]
  },
  {
   "cell_type": "code",
   "execution_count": 1,
   "metadata": {},
   "outputs": [
    {
     "name": "stderr",
     "output_type": "stream",
     "text": [
      "Bioconductor version 3.8 (BiocManager 1.30.4), R 3.5.1 (2018-07-02)\n",
      "Installing package(s) 'MPRAnalyze'\n",
      "Updating HTML index of packages in '.Library'\n",
      "Making 'packages.html' ... done\n",
      "Update old packages: 'assertthat', 'backports', 'BH', 'boot', 'broom', 'callr',\n",
      "  'caret', 'class', 'cli', 'clipr', 'cluster', 'codetools', 'colorspace',\n",
      "  'curl', 'data.table', 'dbplyr', 'ddalpha', 'digest', 'dimRed', 'dplyr',\n",
      "  'evaluate', 'fansi', 'forcats', 'formatR', 'geometry', 'ggplot2', 'glmnet',\n",
      "  'glue', 'gower', 'gtable', 'haven', 'hexbin', 'highr', 'htmlwidgets',\n",
      "  'httpuv', 'httr', 'ipred', 'IRdisplay', 'IRkernel', 'jsonlite', 'kernlab',\n",
      "  'knitr', 'later', 'lattice', 'lava', 'lazyeval', 'magic', 'markdown', 'MASS',\n",
      "  'Matrix', 'mgcv', 'mime', 'ModelMetrics', 'modelr', 'nlme', 'openssl',\n",
      "  'pillar', 'pkgconfig', 'pls', 'processx', 'progress', 'purrr', 'quantmod',\n",
      "  'R6', 'Rcpp', 'readr', 'readxl', 'recipes', 'repr', 'reprex', 'rlang',\n",
      "  'rmarkdown', 'robustbase', 'rpart', 'rstudioapi', 'rvest', 'scales',\n",
      "  'sfsmisc', 'shiny', 'stringi', 'stringr', 'survival', 'testthat', 'tibble',\n",
      "  'tidyr', 'tidyselect', 'tinytex', 'TTR', 'xfun', 'xtable', 'xts', 'zoo'\n"
     ]
    }
   ],
   "source": [
    "# install MPRAnalyze\n",
    "if (!requireNamespace(\"BiocManager\", quietly = TRUE))\n",
    "  install.packages(\"BiocManager\")\n",
    "BiocManager::install(\"MPRAnalyze\", version = \"3.8\")"
   ]
  },
  {
   "cell_type": "code",
   "execution_count": 2,
   "metadata": {},
   "outputs": [
    {
     "name": "stderr",
     "output_type": "stream",
     "text": [
      "Warning message in install.packages(\"RCurl\"):\n",
      "“installation of package ‘RCurl’ had non-zero exit status”Updating HTML index of packages in '.Library'\n",
      "Making 'packages.html' ... done\n"
     ]
    }
   ],
   "source": [
    "# install RCurl -- not installing separately was causing errors\n",
    "install.packages(\"RCurl\")"
   ]
  },
  {
   "cell_type": "code",
   "execution_count": 3,
   "metadata": {},
   "outputs": [],
   "source": [
    "# load the mpranalyze package\n",
    "library(MPRAnalyze)"
   ]
  },
  {
   "cell_type": "markdown",
   "metadata": {},
   "source": [
    "## 1. load data\n",
    "\n",
    "### first the data for library depth correction"
   ]
  },
  {
   "cell_type": "code",
   "execution_count": 4,
   "metadata": {},
   "outputs": [],
   "source": [
    "dna_counts_depth <- read.table(\"../../../data/02__mpra/01__counts/mpranalyze_files/dna_counts.for_depth_estimation.mpranalyze.txt\", sep=\"\\t\", header=TRUE)\n",
    "\n",
    "# since we only have 1 dna replicate -- add another so code doesn't crash (expects matrix)\n",
    "dna_counts_depth[\"dna_2\"] <- dna_counts_depth[\"dna_1\"]\n",
    "\n",
    "row.names(dna_counts_depth) <- dna_counts_depth$element\n",
    "dna_counts_depth <- dna_counts_depth[ , !(names(dna_counts_depth) %in% c(\"element\")), drop=FALSE]\n",
    "dna_counts_depth <- as.matrix(dna_counts_depth)"
   ]
  },
  {
   "cell_type": "code",
   "execution_count": 5,
   "metadata": {},
   "outputs": [],
   "source": [
    "rna_counts_depth <- read.table(\"../../../data/02__mpra/01__counts/mpranalyze_files/rna_counts.for_depth_estimation.mpranalyze.txt\", sep=\"\\t\", header=TRUE)\n",
    "row.names(rna_counts_depth) <- rna_counts_depth$element\n",
    "rna_counts_depth <- rna_counts_depth[ , !(names(rna_counts_depth) %in% c(\"element\")), drop=FALSE]\n",
    "rna_counts_depth <- as.matrix(rna_counts_depth)"
   ]
  },
  {
   "cell_type": "code",
   "execution_count": 6,
   "metadata": {},
   "outputs": [
    {
     "data": {
      "text/html": [
       "<table>\n",
       "<thead><tr><th></th><th scope=col>id</th><th scope=col>condition</th><th scope=col>sample</th></tr></thead>\n",
       "<tbody>\n",
       "\t<tr><th scope=row>dna_1</th><td>dna_1</td><td>dna  </td><td>1    </td></tr>\n",
       "\t<tr><th scope=row>dna_2</th><td>dna_2</td><td>dna  </td><td>2    </td></tr>\n",
       "</tbody>\n",
       "</table>\n"
      ],
      "text/latex": [
       "\\begin{tabular}{r|lll}\n",
       "  & id & condition & sample\\\\\n",
       "\\hline\n",
       "\tdna\\_1 & dna\\_1 & dna     & 1      \\\\\n",
       "\tdna\\_2 & dna\\_2 & dna     & 2      \\\\\n",
       "\\end{tabular}\n"
      ],
      "text/markdown": [
       "\n",
       "| <!--/--> | id | condition | sample | \n",
       "|---|---|\n",
       "| dna_1 | dna_1 | dna   | 1     | \n",
       "| dna_2 | dna_2 | dna   | 2     | \n",
       "\n",
       "\n"
      ],
      "text/plain": [
       "      id    condition sample\n",
       "dna_1 dna_1 dna       1     \n",
       "dna_2 dna_2 dna       2     "
      ]
     },
     "metadata": {},
     "output_type": "display_data"
    }
   ],
   "source": [
    "dna_cols_depth <- read.table(\"../../../data/02__mpra/01__counts/mpranalyze_files/dna_col_ann.for_depth_estimation.mpranalyze.txt\", sep=\"\\t\", header=TRUE)\n",
    "names(dna_cols_depth) <- c(\"id\", \"condition\", \"sample\")\n",
    "\n",
    "# add second row to dna_cols_depth\n",
    "row2 <- data.frame(id=\"dna_2\", condition=\"dna\", sample=\"2\")\n",
    "dna_cols_depth <- rbind(dna_cols_depth, row2)\n",
    "row.names(dna_cols_depth) <- dna_cols_depth$id\n",
    "\n",
    "rna_cols_depth <- read.table(\"../../../data/02__mpra/01__counts/mpranalyze_files/rna_col_ann.for_depth_estimation.mpranalyze.txt\", sep=\"\\t\", header=TRUE)\n",
    "names(rna_cols_depth) <- c(\"id\", \"condition\", \"sample\")\n",
    "row.names(rna_cols_depth) <- rna_cols_depth$id\n",
    "dna_cols_depth"
   ]
  },
  {
   "cell_type": "code",
   "execution_count": 7,
   "metadata": {},
   "outputs": [],
   "source": [
    "# make sure everything is a factor\n",
    "dna_cols_depth$sample <- as.factor(dna_cols_depth$sample)\n",
    "rna_cols_depth$sample <- as.factor(rna_cols_depth$sample)\n",
    "dna_cols_depth$condition <- as.factor(dna_cols_depth$condition)\n",
    "rna_cols_depth$condition <- as.factor(rna_cols_depth$condition)"
   ]
  },
  {
   "cell_type": "markdown",
   "metadata": {},
   "source": [
    "### then the data to model"
   ]
  },
  {
   "cell_type": "code",
   "execution_count": 8,
   "metadata": {},
   "outputs": [],
   "source": [
    "dna_counts <- read.table(\"../../../data/02__mpra/01__counts/mpranalyze_files/dna_counts.mpranalyze.for_quantification.txt\", sep=\"\\t\", header=TRUE)\n",
    "row.names(dna_counts) <- dna_counts$element\n",
    "dna_counts <- dna_counts[ , !(names(dna_counts) %in% c(\"element\"))]\n",
    "dna_counts <- as.matrix(dna_counts)"
   ]
  },
  {
   "cell_type": "code",
   "execution_count": 9,
   "metadata": {},
   "outputs": [],
   "source": [
    "rna_counts <- read.table(\"../../../data/02__mpra/01__counts/mpranalyze_files/rna_counts.mpranalyze.for_quantification.txt\", sep=\"\\t\", header=TRUE)\n",
    "row.names(rna_counts) <- rna_counts$element\n",
    "rna_counts <- rna_counts[ , !(names(rna_counts) %in% c(\"element\"))]\n",
    "rna_counts <- as.matrix(rna_counts)"
   ]
  },
  {
   "cell_type": "code",
   "execution_count": 10,
   "metadata": {},
   "outputs": [],
   "source": [
    "dna_cols <- read.table(\"../../../data/02__mpra/01__counts/mpranalyze_files/dna_col_ann.mpranalyze.for_quantification.txt\", sep=\"\\t\", header=TRUE)\n",
    "row.names(dna_cols) <- dna_cols$X\n",
    "rna_cols <- read.table(\"../../../data/02__mpra/01__counts/mpranalyze_files/rna_col_ann.mpranalyze.for_quantification.txt\", sep=\"\\t\", header=TRUE)\n",
    "row.names(rna_cols) <- rna_cols$X"
   ]
  },
  {
   "cell_type": "code",
   "execution_count": 11,
   "metadata": {},
   "outputs": [],
   "source": [
    "# make sure everything is a factor\n",
    "dna_cols$barcode <- as.factor(dna_cols$barcode)\n",
    "rna_cols$barcode <- as.factor(rna_cols$barcode)\n",
    "dna_cols$sample <- as.factor(dna_cols$sample)\n",
    "rna_cols$sample <- as.factor(rna_cols$sample)\n",
    "dna_cols$condition <- as.factor(dna_cols$condition)\n",
    "rna_cols$condition <- as.factor(rna_cols$condition)"
   ]
  },
  {
   "cell_type": "code",
   "execution_count": 12,
   "metadata": {},
   "outputs": [],
   "source": [
    "ctrls <- read.table(\"../../../data/02__mpra/01__counts/mpranalyze_files/ctrl_status.mpranalyze.for_quantification.txt\", sep=\"\\t\", header=TRUE)\n",
    "ctrls <- as.logical(ctrls$ctrl_status)"
   ]
  },
  {
   "cell_type": "code",
   "execution_count": 13,
   "metadata": {},
   "outputs": [
    {
     "data": {
      "text/html": [
       "<table>\n",
       "<thead><tr><th></th><th scope=col>X</th><th scope=col>sample</th><th scope=col>condition</th><th scope=col>barcode</th></tr></thead>\n",
       "<tbody>\n",
       "\t<tr><th scope=row>samp:HUES64_rep1__barc:1</th><td>samp:HUES64_rep1__barc:1 </td><td>rep1                     </td><td>HUES64                   </td><td>1                        </td></tr>\n",
       "\t<tr><th scope=row>samp:HUES64_rep1__barc:10</th><td>samp:HUES64_rep1__barc:10</td><td>rep1                     </td><td>HUES64                   </td><td>10                       </td></tr>\n",
       "\t<tr><th scope=row>samp:HUES64_rep1__barc:11</th><td>samp:HUES64_rep1__barc:11</td><td>rep1                     </td><td>HUES64                   </td><td>11                       </td></tr>\n",
       "\t<tr><th scope=row>samp:HUES64_rep1__barc:12</th><td>samp:HUES64_rep1__barc:12</td><td>rep1                     </td><td>HUES64                   </td><td>12                       </td></tr>\n",
       "\t<tr><th scope=row>samp:HUES64_rep1__barc:13</th><td>samp:HUES64_rep1__barc:13</td><td>rep1                     </td><td>HUES64                   </td><td>13                       </td></tr>\n",
       "\t<tr><th scope=row>samp:HUES64_rep1__barc:2</th><td>samp:HUES64_rep1__barc:2 </td><td>rep1                     </td><td>HUES64                   </td><td>2                        </td></tr>\n",
       "</tbody>\n",
       "</table>\n"
      ],
      "text/latex": [
       "\\begin{tabular}{r|llll}\n",
       "  & X & sample & condition & barcode\\\\\n",
       "\\hline\n",
       "\tsamp:HUES64\\_rep1\\_\\_barc:1 & samp:HUES64\\_rep1\\_\\_barc:1  & rep1                            & HUES64                          & 1                              \\\\\n",
       "\tsamp:HUES64\\_rep1\\_\\_barc:10 & samp:HUES64\\_rep1\\_\\_barc:10 & rep1                            & HUES64                          & 10                             \\\\\n",
       "\tsamp:HUES64\\_rep1\\_\\_barc:11 & samp:HUES64\\_rep1\\_\\_barc:11 & rep1                            & HUES64                          & 11                             \\\\\n",
       "\tsamp:HUES64\\_rep1\\_\\_barc:12 & samp:HUES64\\_rep1\\_\\_barc:12 & rep1                            & HUES64                          & 12                             \\\\\n",
       "\tsamp:HUES64\\_rep1\\_\\_barc:13 & samp:HUES64\\_rep1\\_\\_barc:13 & rep1                            & HUES64                          & 13                             \\\\\n",
       "\tsamp:HUES64\\_rep1\\_\\_barc:2 & samp:HUES64\\_rep1\\_\\_barc:2  & rep1                            & HUES64                          & 2                              \\\\\n",
       "\\end{tabular}\n"
      ],
      "text/markdown": [
       "\n",
       "| <!--/--> | X | sample | condition | barcode | \n",
       "|---|---|---|---|---|---|\n",
       "| samp:HUES64_rep1__barc:1 | samp:HUES64_rep1__barc:1  | rep1                      | HUES64                    | 1                         | \n",
       "| samp:HUES64_rep1__barc:10 | samp:HUES64_rep1__barc:10 | rep1                      | HUES64                    | 10                        | \n",
       "| samp:HUES64_rep1__barc:11 | samp:HUES64_rep1__barc:11 | rep1                      | HUES64                    | 11                        | \n",
       "| samp:HUES64_rep1__barc:12 | samp:HUES64_rep1__barc:12 | rep1                      | HUES64                    | 12                        | \n",
       "| samp:HUES64_rep1__barc:13 | samp:HUES64_rep1__barc:13 | rep1                      | HUES64                    | 13                        | \n",
       "| samp:HUES64_rep1__barc:2 | samp:HUES64_rep1__barc:2  | rep1                      | HUES64                    | 2                         | \n",
       "\n",
       "\n"
      ],
      "text/plain": [
       "                          X                         sample condition barcode\n",
       "samp:HUES64_rep1__barc:1  samp:HUES64_rep1__barc:1  rep1   HUES64    1      \n",
       "samp:HUES64_rep1__barc:10 samp:HUES64_rep1__barc:10 rep1   HUES64    10     \n",
       "samp:HUES64_rep1__barc:11 samp:HUES64_rep1__barc:11 rep1   HUES64    11     \n",
       "samp:HUES64_rep1__barc:12 samp:HUES64_rep1__barc:12 rep1   HUES64    12     \n",
       "samp:HUES64_rep1__barc:13 samp:HUES64_rep1__barc:13 rep1   HUES64    13     \n",
       "samp:HUES64_rep1__barc:2  samp:HUES64_rep1__barc:2  rep1   HUES64    2      "
      ]
     },
     "metadata": {},
     "output_type": "display_data"
    }
   ],
   "source": [
    "head(rna_cols)"
   ]
  },
  {
   "cell_type": "markdown",
   "metadata": {},
   "source": [
    "## 2. estimate library depth for sample/condition pair\n",
    "\n",
    "since our library has many more sequences than just the TSSs we want to model, estimate the library depth based on the full seq output (or downsampled counts, in HUES64 case), then manually provide this estimation to the model"
   ]
  },
  {
   "cell_type": "code",
   "execution_count": 14,
   "metadata": {},
   "outputs": [],
   "source": [
    "# create MPRA object\n",
    "depth_obj <- MpraObject(dnaCounts = dna_counts_depth, rnaCounts = rna_counts_depth, \n",
    "                        dnaAnnot = dna_cols_depth, rnaAnnot = rna_cols_depth)"
   ]
  },
  {
   "cell_type": "code",
   "execution_count": 15,
   "metadata": {},
   "outputs": [],
   "source": [
    "# estimate depth factors using uq -- here, a sample/condition pair == 1 library\n",
    "depth_obj <- estimateDepthFactors(depth_obj, lib.factor = c(\"sample\", \"condition\"),  depth.estimator='uq',\n",
    "                                  which.lib = \"both\")"
   ]
  },
  {
   "cell_type": "code",
   "execution_count": 16,
   "metadata": {},
   "outputs": [
    {
     "data": {
      "text/html": [
       "<ol class=list-inline>\n",
       "\t<li>1</li>\n",
       "\t<li>0.952685050798258</li>\n",
       "\t<li>1.02271407837446</li>\n",
       "</ol>\n"
      ],
      "text/latex": [
       "\\begin{enumerate*}\n",
       "\\item 1\n",
       "\\item 0.952685050798258\n",
       "\\item 1.02271407837446\n",
       "\\end{enumerate*}\n"
      ],
      "text/markdown": [
       "1. 1\n",
       "2. 0.952685050798258\n",
       "3. 1.02271407837446\n",
       "\n",
       "\n"
      ],
      "text/plain": [
       "[1] 1.0000000 0.9526851 1.0227141"
      ]
     },
     "metadata": {},
     "output_type": "display_data"
    }
   ],
   "source": [
    "rna_depths <- rnaDepth(depth_obj)\n",
    "rna_depths"
   ]
  },
  {
   "cell_type": "code",
   "execution_count": 17,
   "metadata": {},
   "outputs": [
    {
     "data": {
      "text/html": [
       "<table>\n",
       "<thead><tr><th></th><th scope=col>id</th><th scope=col>condition</th><th scope=col>sample</th></tr></thead>\n",
       "<tbody>\n",
       "\t<tr><th scope=row>HUES64_rep1</th><td>HUES64_rep1</td><td>HUES64     </td><td>1          </td></tr>\n",
       "\t<tr><th scope=row>HUES64_rep2</th><td>HUES64_rep2</td><td>HUES64     </td><td>2          </td></tr>\n",
       "\t<tr><th scope=row>mESC_rep1</th><td>mESC_rep1  </td><td>mESC       </td><td>1          </td></tr>\n",
       "</tbody>\n",
       "</table>\n"
      ],
      "text/latex": [
       "\\begin{tabular}{r|lll}\n",
       "  & id & condition & sample\\\\\n",
       "\\hline\n",
       "\tHUES64\\_rep1 & HUES64\\_rep1 & HUES64        & 1            \\\\\n",
       "\tHUES64\\_rep2 & HUES64\\_rep2 & HUES64        & 2            \\\\\n",
       "\tmESC\\_rep1 & mESC\\_rep1   & mESC          & 1            \\\\\n",
       "\\end{tabular}\n"
      ],
      "text/markdown": [
       "\n",
       "| <!--/--> | id | condition | sample | \n",
       "|---|---|---|\n",
       "| HUES64_rep1 | HUES64_rep1 | HUES64      | 1           | \n",
       "| HUES64_rep2 | HUES64_rep2 | HUES64      | 2           | \n",
       "| mESC_rep1 | mESC_rep1   | mESC        | 1           | \n",
       "\n",
       "\n"
      ],
      "text/plain": [
       "            id          condition sample\n",
       "HUES64_rep1 HUES64_rep1 HUES64    1     \n",
       "HUES64_rep2 HUES64_rep2 HUES64    2     \n",
       "mESC_rep1   mESC_rep1   mESC      1     "
      ]
     },
     "metadata": {},
     "output_type": "display_data"
    }
   ],
   "source": [
    "rna_cols_depth"
   ]
  },
  {
   "cell_type": "markdown",
   "metadata": {},
   "source": [
    "## 3. run MPRAnalyze quantification to get alpha per element\n",
    "using the random sequences as negative controls (but positive controls are in here and will also be quantified)"
   ]
  },
  {
   "cell_type": "code",
   "execution_count": 18,
   "metadata": {},
   "outputs": [],
   "source": [
    "# first need to set the dnadepths and rnadepths manually\n",
    "dna_cols$depth <- rep(1, nrow(dna_cols))"
   ]
  },
  {
   "cell_type": "code",
   "execution_count": 19,
   "metadata": {},
   "outputs": [],
   "source": [
    "# note 13 will change depending how many barcodes there are per element\n",
    "rna_cols$depth <- c(rep(rna_depths[1], 13), rep(rna_depths[2], 13), rep(rna_depths[3], 13))"
   ]
  },
  {
   "cell_type": "code",
   "execution_count": 20,
   "metadata": {},
   "outputs": [],
   "source": [
    "# create MPRA object\n",
    "obj <- MpraObject(dnaCounts = dna_counts, rnaCounts = rna_counts, \n",
    "                  dnaAnnot = dna_cols, rnaAnnot = rna_cols, \n",
    "                  controls = ctrls)"
   ]
  },
  {
   "cell_type": "code",
   "execution_count": 21,
   "metadata": {},
   "outputs": [],
   "source": [
    "# set depth factors manually\n",
    "obj <- setDepthFactors(obj, dnaDepth = dna_cols$depth, rnaDepth = rna_cols$depth)"
   ]
  },
  {
   "cell_type": "code",
   "execution_count": 22,
   "metadata": {},
   "outputs": [
    {
     "name": "stderr",
     "output_type": "stream",
     "text": [
      "Fitting model...\n",
      "Analysis done!                                                                \n"
     ]
    }
   ],
   "source": [
    "# analyze quantification in unpaired DNA library\n",
    "obj <- analyzeQuantification(obj = obj, \n",
    "                             dnaDesign = ~ barcode,\n",
    "                             rnaDesign = ~ condition)"
   ]
  },
  {
   "cell_type": "code",
   "execution_count": 23,
   "metadata": {},
   "outputs": [
    {
     "data": {
      "text/html": [
       "<table>\n",
       "<thead><tr><th></th><th scope=col>HUES64</th><th scope=col>mESC</th></tr></thead>\n",
       "<tbody>\n",
       "\t<tr><th scope=row>AAAAAAAAAAAAAAAAACCCTGCAGAGAGCCTGCAAAGTCACTGCCGGAAGTCCCTCCGCGGTGACGAGCACGGCGGAAGTGGGTTCAATGCAGCTCCCCGAAGAACTGTCTCACTCCCGCTCGCCTGACTTCTGGATGGGAGG</th><td>2.3079720</td><td>1.9652892</td></tr>\n",
       "\t<tr><th scope=row>AAAAAAAAAAAAAAAGAAAAGAAAAGAAAAAAAAGAAAGGATTGAGGGGAAGTTTCAAAGGGTGTGCCGGGGACCGGGGAAGAGTCTCATTCTCATGAGTCAGCGGATCCGGCCCAGTGTGACTTCACTGCTTCCCCAGAAGAG</th><td>0.5739228</td><td>0.4854771</td></tr>\n",
       "\t<tr><th scope=row>AAAAAAAAAAAAGAGGAGAAATAGATTGTTACCTTATATTATTTAAACTTTCAAATGTGCTAGGGTTCCTGGAATTTGGAGAGGGAACCGAAAGGGTTTTATGGTTCTTGGGAGACAGCAGAGCACAAAGAGCCAGGGGGTGGA</th><td>0.3151899</td><td>0.2953616</td></tr>\n",
       "\t<tr><th scope=row>AAAAAAAAAACCGGCAAAATGTCCTTTTCCTTGTTTTGAAAAGACTGGAAAATTCATCCCTGCAACCTTCCCTCCCATTTCACTGGTCAGAGTAAAAATTGGAAGTAGGAAAATTAGTACCACCACATCCTTTGAGTCAGAGAC</th><td>0.2355472</td><td>0.1774073</td></tr>\n",
       "\t<tr><th scope=row>AAAAAAAAAGGCCACGCTCAAAACCCCAGACTAGTTTTCCTCACCAGATTCTGATGGGACGATGTCTCAGTAGCACCGCCAATGTGTGTGTAATTGACTGATCCAGTCAGTAGGGGGCCTGACTCCACAACGTTCAAGAGAATC</th><td>0.4311798</td><td>0.3763514</td></tr>\n",
       "\t<tr><th scope=row>AAAAAAAAATGAGAAGTGTTTAAGACAGCGCAACATTACAATAGAATATTGCCTTGTTTTCTTTCTGGTTCTTCTGTCTCACAGAAATTTCTGTAAGTTCACTCCCTCAGAGGGGAAAAGGCAAGGACACAAGCAAGAGAATGA</th><td>0.3708518</td><td>0.3604878</td></tr>\n",
       "</tbody>\n",
       "</table>\n"
      ],
      "text/latex": [
       "\\begin{tabular}{r|ll}\n",
       "  & HUES64 & mESC\\\\\n",
       "\\hline\n",
       "\tAAAAAAAAAAAAAAAAACCCTGCAGAGAGCCTGCAAAGTCACTGCCGGAAGTCCCTCCGCGGTGACGAGCACGGCGGAAGTGGGTTCAATGCAGCTCCCCGAAGAACTGTCTCACTCCCGCTCGCCTGACTTCTGGATGGGAGG & 2.3079720 & 1.9652892\\\\\n",
       "\tAAAAAAAAAAAAAAAGAAAAGAAAAGAAAAAAAAGAAAGGATTGAGGGGAAGTTTCAAAGGGTGTGCCGGGGACCGGGGAAGAGTCTCATTCTCATGAGTCAGCGGATCCGGCCCAGTGTGACTTCACTGCTTCCCCAGAAGAG & 0.5739228 & 0.4854771\\\\\n",
       "\tAAAAAAAAAAAAGAGGAGAAATAGATTGTTACCTTATATTATTTAAACTTTCAAATGTGCTAGGGTTCCTGGAATTTGGAGAGGGAACCGAAAGGGTTTTATGGTTCTTGGGAGACAGCAGAGCACAAAGAGCCAGGGGGTGGA & 0.3151899 & 0.2953616\\\\\n",
       "\tAAAAAAAAAACCGGCAAAATGTCCTTTTCCTTGTTTTGAAAAGACTGGAAAATTCATCCCTGCAACCTTCCCTCCCATTTCACTGGTCAGAGTAAAAATTGGAAGTAGGAAAATTAGTACCACCACATCCTTTGAGTCAGAGAC & 0.2355472 & 0.1774073\\\\\n",
       "\tAAAAAAAAAGGCCACGCTCAAAACCCCAGACTAGTTTTCCTCACCAGATTCTGATGGGACGATGTCTCAGTAGCACCGCCAATGTGTGTGTAATTGACTGATCCAGTCAGTAGGGGGCCTGACTCCACAACGTTCAAGAGAATC & 0.4311798 & 0.3763514\\\\\n",
       "\tAAAAAAAAATGAGAAGTGTTTAAGACAGCGCAACATTACAATAGAATATTGCCTTGTTTTCTTTCTGGTTCTTCTGTCTCACAGAAATTTCTGTAAGTTCACTCCCTCAGAGGGGAAAAGGCAAGGACACAAGCAAGAGAATGA & 0.3708518 & 0.3604878\\\\\n",
       "\\end{tabular}\n"
      ],
      "text/markdown": [
       "\n",
       "| <!--/--> | HUES64 | mESC | \n",
       "|---|---|---|---|---|---|\n",
       "| AAAAAAAAAAAAAAAAACCCTGCAGAGAGCCTGCAAAGTCACTGCCGGAAGTCCCTCCGCGGTGACGAGCACGGCGGAAGTGGGTTCAATGCAGCTCCCCGAAGAACTGTCTCACTCCCGCTCGCCTGACTTCTGGATGGGAGG | 2.3079720 | 1.9652892 | \n",
       "| AAAAAAAAAAAAAAAGAAAAGAAAAGAAAAAAAAGAAAGGATTGAGGGGAAGTTTCAAAGGGTGTGCCGGGGACCGGGGAAGAGTCTCATTCTCATGAGTCAGCGGATCCGGCCCAGTGTGACTTCACTGCTTCCCCAGAAGAG | 0.5739228 | 0.4854771 | \n",
       "| AAAAAAAAAAAAGAGGAGAAATAGATTGTTACCTTATATTATTTAAACTTTCAAATGTGCTAGGGTTCCTGGAATTTGGAGAGGGAACCGAAAGGGTTTTATGGTTCTTGGGAGACAGCAGAGCACAAAGAGCCAGGGGGTGGA | 0.3151899 | 0.2953616 | \n",
       "| AAAAAAAAAACCGGCAAAATGTCCTTTTCCTTGTTTTGAAAAGACTGGAAAATTCATCCCTGCAACCTTCCCTCCCATTTCACTGGTCAGAGTAAAAATTGGAAGTAGGAAAATTAGTACCACCACATCCTTTGAGTCAGAGAC | 0.2355472 | 0.1774073 | \n",
       "| AAAAAAAAAGGCCACGCTCAAAACCCCAGACTAGTTTTCCTCACCAGATTCTGATGGGACGATGTCTCAGTAGCACCGCCAATGTGTGTGTAATTGACTGATCCAGTCAGTAGGGGGCCTGACTCCACAACGTTCAAGAGAATC | 0.4311798 | 0.3763514 | \n",
       "| AAAAAAAAATGAGAAGTGTTTAAGACAGCGCAACATTACAATAGAATATTGCCTTGTTTTCTTTCTGGTTCTTCTGTCTCACAGAAATTTCTGTAAGTTCACTCCCTCAGAGGGGAAAAGGCAAGGACACAAGCAAGAGAATGA | 0.3708518 | 0.3604878 | \n",
       "\n",
       "\n"
      ],
      "text/plain": [
       "                                                                                                                                                 HUES64   \n",
       "AAAAAAAAAAAAAAAAACCCTGCAGAGAGCCTGCAAAGTCACTGCCGGAAGTCCCTCCGCGGTGACGAGCACGGCGGAAGTGGGTTCAATGCAGCTCCCCGAAGAACTGTCTCACTCCCGCTCGCCTGACTTCTGGATGGGAGG 2.3079720\n",
       "AAAAAAAAAAAAAAAGAAAAGAAAAGAAAAAAAAGAAAGGATTGAGGGGAAGTTTCAAAGGGTGTGCCGGGGACCGGGGAAGAGTCTCATTCTCATGAGTCAGCGGATCCGGCCCAGTGTGACTTCACTGCTTCCCCAGAAGAG 0.5739228\n",
       "AAAAAAAAAAAAGAGGAGAAATAGATTGTTACCTTATATTATTTAAACTTTCAAATGTGCTAGGGTTCCTGGAATTTGGAGAGGGAACCGAAAGGGTTTTATGGTTCTTGGGAGACAGCAGAGCACAAAGAGCCAGGGGGTGGA 0.3151899\n",
       "AAAAAAAAAACCGGCAAAATGTCCTTTTCCTTGTTTTGAAAAGACTGGAAAATTCATCCCTGCAACCTTCCCTCCCATTTCACTGGTCAGAGTAAAAATTGGAAGTAGGAAAATTAGTACCACCACATCCTTTGAGTCAGAGAC 0.2355472\n",
       "AAAAAAAAAGGCCACGCTCAAAACCCCAGACTAGTTTTCCTCACCAGATTCTGATGGGACGATGTCTCAGTAGCACCGCCAATGTGTGTGTAATTGACTGATCCAGTCAGTAGGGGGCCTGACTCCACAACGTTCAAGAGAATC 0.4311798\n",
       "AAAAAAAAATGAGAAGTGTTTAAGACAGCGCAACATTACAATAGAATATTGCCTTGTTTTCTTTCTGGTTCTTCTGTCTCACAGAAATTTCTGTAAGTTCACTCCCTCAGAGGGGAAAAGGCAAGGACACAAGCAAGAGAATGA 0.3708518\n",
       "                                                                                                                                                 mESC     \n",
       "AAAAAAAAAAAAAAAAACCCTGCAGAGAGCCTGCAAAGTCACTGCCGGAAGTCCCTCCGCGGTGACGAGCACGGCGGAAGTGGGTTCAATGCAGCTCCCCGAAGAACTGTCTCACTCCCGCTCGCCTGACTTCTGGATGGGAGG 1.9652892\n",
       "AAAAAAAAAAAAAAAGAAAAGAAAAGAAAAAAAAGAAAGGATTGAGGGGAAGTTTCAAAGGGTGTGCCGGGGACCGGGGAAGAGTCTCATTCTCATGAGTCAGCGGATCCGGCCCAGTGTGACTTCACTGCTTCCCCAGAAGAG 0.4854771\n",
       "AAAAAAAAAAAAGAGGAGAAATAGATTGTTACCTTATATTATTTAAACTTTCAAATGTGCTAGGGTTCCTGGAATTTGGAGAGGGAACCGAAAGGGTTTTATGGTTCTTGGGAGACAGCAGAGCACAAAGAGCCAGGGGGTGGA 0.2953616\n",
       "AAAAAAAAAACCGGCAAAATGTCCTTTTCCTTGTTTTGAAAAGACTGGAAAATTCATCCCTGCAACCTTCCCTCCCATTTCACTGGTCAGAGTAAAAATTGGAAGTAGGAAAATTAGTACCACCACATCCTTTGAGTCAGAGAC 0.1774073\n",
       "AAAAAAAAAGGCCACGCTCAAAACCCCAGACTAGTTTTCCTCACCAGATTCTGATGGGACGATGTCTCAGTAGCACCGCCAATGTGTGTGTAATTGACTGATCCAGTCAGTAGGGGGCCTGACTCCACAACGTTCAAGAGAATC 0.3763514\n",
       "AAAAAAAAATGAGAAGTGTTTAAGACAGCGCAACATTACAATAGAATATTGCCTTGTTTTCTTTCTGGTTCTTCTGTCTCACAGAAATTTCTGTAAGTTCACTCCCTCAGAGGGGAAAAGGCAAGGACACAAGCAAGAGAATGA 0.3604878"
      ]
     },
     "metadata": {},
     "output_type": "display_data"
    }
   ],
   "source": [
    "# extract alphas\n",
    "alpha <- getAlpha(obj, by.factor = \"condition\")\n",
    "head(alpha)"
   ]
  },
  {
   "cell_type": "markdown",
   "metadata": {},
   "source": [
    "## 4. find TSSs with significant activities by comparing them to negative controls"
   ]
  },
  {
   "cell_type": "code",
   "execution_count": 24,
   "metadata": {},
   "outputs": [
    {
     "data": {
      "text/plain": [
       "   statistic          control            zscore          mad.score       \n",
       " Min.   : 0.004932   Mode :logical   Min.   :-1.3367   Min.   : -2.3956  \n",
       " 1st Qu.: 0.271107   FALSE:12261     1st Qu.:-0.2471   1st Qu.: -0.1419  \n",
       " Median : 0.370852   TRUE :1618      Median : 0.1612   Median :  0.7027  \n",
       " Mean   : 0.712404                   Mean   : 1.5593   Mean   :  3.5947  \n",
       " 3rd Qu.: 0.697518                   3rd Qu.: 1.4984   3rd Qu.:  3.4686  \n",
       " Max.   :17.595804                   Max.   :70.6711   Max.   :146.5507  \n",
       "    pval.mad          pval.zscore      pval.empirical  \n",
       " Min.   :0.0000000   Min.   :0.00000   Min.   :0.0000  \n",
       " 1st Qu.:0.0002615   1st Qu.:0.06701   1st Qu.:0.0377  \n",
       " Median :0.2411257   Median :0.43596   Median :0.2744  \n",
       " Mean   :0.2999046   Mean   :0.37043   Mean   :0.3235  \n",
       " 3rd Qu.:0.5564137   3rd Qu.:0.59758   3rd Qu.:0.5606  \n",
       " Max.   :0.9917045   Max.   :0.90934   Max.   :0.9994  "
      ]
     },
     "metadata": {},
     "output_type": "display_data"
    }
   ],
   "source": [
    "# test against negative controls\n",
    "res.human <- testEmpirical(obj = obj, statistic = alpha$HUES64)\n",
    "summary(res.human)"
   ]
  },
  {
   "cell_type": "code",
   "execution_count": 25,
   "metadata": {},
   "outputs": [
    {
     "data": {
      "text/plain": [
       "   statistic          control            zscore           mad.score      \n",
       " Min.   : 0.001057   Mode :logical   Min.   :-1.31137   Min.   :-1.7197  \n",
       " 1st Qu.: 0.264158   FALSE:12261     1st Qu.:-0.31424   1st Qu.:-0.1389  \n",
       " Median : 0.360816   TRUE :1618      Median : 0.05209   Median : 0.4419  \n",
       " Mean   : 0.660623                   Mean   : 1.18833   Mean   : 2.2434  \n",
       " 3rd Qu.: 0.586968                   3rd Qu.: 0.90918   3rd Qu.: 1.8008  \n",
       " Max.   :15.856124                   Max.   :58.77805   Max.   :93.5477  \n",
       " NA's   :4                           NA's   :4          NA's   :4        \n",
       "    pval.mad        pval.zscore     pval.empirical  \n",
       " Min.   :0.00000   Min.   :0.0000   Min.   :0.0000  \n",
       " 1st Qu.:0.03587   1st Qu.:0.1816   1st Qu.:0.1177  \n",
       " Median :0.32927   Median :0.4792   Median :0.3507  \n",
       " Mean   :0.33138   Mean   :0.4140   Mean   :0.3612  \n",
       " 3rd Qu.:0.55521   3rd Qu.:0.6233   3rd Qu.:0.5651  \n",
       " Max.   :0.95726   Max.   :0.9051   Max.   :0.9994  \n",
       " NA's   :4         NA's   :4        NA's   :4       "
      ]
     },
     "metadata": {},
     "output_type": "display_data"
    }
   ],
   "source": [
    "# test against negative controls\n",
    "res.mouse <- testEmpirical(obj = obj, statistic = alpha$mESC)\n",
    "summary(res.mouse)"
   ]
  },
  {
   "cell_type": "code",
   "execution_count": 26,
   "metadata": {},
   "outputs": [
    {
     "data": {
      "text/html": [
       "<table>\n",
       "<thead><tr><th></th><th scope=col>HUES64</th><th scope=col>mESC</th><th scope=col>HUES64_pval</th><th scope=col>mESC_pval</th></tr></thead>\n",
       "<tbody>\n",
       "\t<tr><th scope=row>AAAAAAAAAAAAAAAAACCCTGCAGAGAGCCTGCAAAGTCACTGCCGGAAGTCCCTCCGCGGTGACGAGCACGGCGGAAGTGGGTTCAATGCAGCTCCCCGAAGAACTGTCTCACTCCCGCTCGCCTGACTTCTGGATGGGAGG</th><td>2.3079720   </td><td>1.9652892   </td><td>6.836813e-66</td><td>3.296419e-24</td></tr>\n",
       "\t<tr><th scope=row>AAAAAAAAAAAAAAAGAAAAGAAAAGAAAAAAAAGAAAGGATTGAGGGGAAGTTTCAAAGGGTGTGCCGGGGACCGGGGAAGAGTCTCATTCTCATGAGTCAGCGGATCCGGCCCAGTGTGACTTCACTGCTTCCCCAGAAGAG</th><td>0.5739228   </td><td>0.4854771   </td><td>7.714719e-03</td><td>1.168301e-01</td></tr>\n",
       "\t<tr><th scope=row>AAAAAAAAAAAAGAGGAGAAATAGATTGTTACCTTATATTATTTAAACTTTCAAATGTGCTAGGGTTCCTGGAATTTGGAGAGGGAACCGAAAGGGTTTTATGGTTCTTGGGAGACAGCAGAGCACAAAGAGCCAGGGGGTGGA</th><td>0.3151899   </td><td>0.2953616   </td><td>4.085087e-01</td><td>4.806001e-01</td></tr>\n",
       "\t<tr><th scope=row>AAAAAAAAAACCGGCAAAATGTCCTTTTCCTTGTTTTGAAAAGACTGGAAAATTCATCCCTGCAACCTTCCCTCCCATTTCACTGGTCAGAGTAAAAATTGGAAGTAGGAAAATTAGTACCACCACATCCTTTGAGTCAGAGAC</th><td>0.2355472   </td><td>0.1774073   </td><td>6.711073e-01</td><td>7.454044e-01</td></tr>\n",
       "\t<tr><th scope=row>AAAAAAAAAGGCCACGCTCAAAACCCCAGACTAGTTTTCCTCACCAGATTCTGATGGGACGATGTCTCAGTAGCACCGCCAATGTGTGTGTAATTGACTGATCCAGTCAGTAGGGGGCCTGACTCCACAACGTTCAAGAGAATC</th><td>0.4311798   </td><td>0.3763514   </td><td>1.124697e-01</td><td>2.962260e-01</td></tr>\n",
       "\t<tr><th scope=row>AAAAAAAAATGAGAAGTGTTTAAGACAGCGCAACATTACAATAGAATATTGCCTTGTTTTCTTTCTGGTTCTTCTGTCTCACAGAAATTTCTGTAAGTTCACTCCCTCAGAGGGGAAAAGGCAAGGACACAAGCAAGAGAATGA</th><td>0.3708518   </td><td>0.3604878   </td><td>2.411257e-01</td><td>3.299803e-01</td></tr>\n",
       "</tbody>\n",
       "</table>\n"
      ],
      "text/latex": [
       "\\begin{tabular}{r|llll}\n",
       "  & HUES64 & mESC & HUES64\\_pval & mESC\\_pval\\\\\n",
       "\\hline\n",
       "\tAAAAAAAAAAAAAAAAACCCTGCAGAGAGCCTGCAAAGTCACTGCCGGAAGTCCCTCCGCGGTGACGAGCACGGCGGAAGTGGGTTCAATGCAGCTCCCCGAAGAACTGTCTCACTCCCGCTCGCCTGACTTCTGGATGGGAGG & 2.3079720    & 1.9652892    & 6.836813e-66 & 3.296419e-24\\\\\n",
       "\tAAAAAAAAAAAAAAAGAAAAGAAAAGAAAAAAAAGAAAGGATTGAGGGGAAGTTTCAAAGGGTGTGCCGGGGACCGGGGAAGAGTCTCATTCTCATGAGTCAGCGGATCCGGCCCAGTGTGACTTCACTGCTTCCCCAGAAGAG & 0.5739228    & 0.4854771    & 7.714719e-03 & 1.168301e-01\\\\\n",
       "\tAAAAAAAAAAAAGAGGAGAAATAGATTGTTACCTTATATTATTTAAACTTTCAAATGTGCTAGGGTTCCTGGAATTTGGAGAGGGAACCGAAAGGGTTTTATGGTTCTTGGGAGACAGCAGAGCACAAAGAGCCAGGGGGTGGA & 0.3151899    & 0.2953616    & 4.085087e-01 & 4.806001e-01\\\\\n",
       "\tAAAAAAAAAACCGGCAAAATGTCCTTTTCCTTGTTTTGAAAAGACTGGAAAATTCATCCCTGCAACCTTCCCTCCCATTTCACTGGTCAGAGTAAAAATTGGAAGTAGGAAAATTAGTACCACCACATCCTTTGAGTCAGAGAC & 0.2355472    & 0.1774073    & 6.711073e-01 & 7.454044e-01\\\\\n",
       "\tAAAAAAAAAGGCCACGCTCAAAACCCCAGACTAGTTTTCCTCACCAGATTCTGATGGGACGATGTCTCAGTAGCACCGCCAATGTGTGTGTAATTGACTGATCCAGTCAGTAGGGGGCCTGACTCCACAACGTTCAAGAGAATC & 0.4311798    & 0.3763514    & 1.124697e-01 & 2.962260e-01\\\\\n",
       "\tAAAAAAAAATGAGAAGTGTTTAAGACAGCGCAACATTACAATAGAATATTGCCTTGTTTTCTTTCTGGTTCTTCTGTCTCACAGAAATTTCTGTAAGTTCACTCCCTCAGAGGGGAAAAGGCAAGGACACAAGCAAGAGAATGA & 0.3708518    & 0.3604878    & 2.411257e-01 & 3.299803e-01\\\\\n",
       "\\end{tabular}\n"
      ],
      "text/markdown": [
       "\n",
       "| <!--/--> | HUES64 | mESC | HUES64_pval | mESC_pval | \n",
       "|---|---|---|---|---|---|\n",
       "| AAAAAAAAAAAAAAAAACCCTGCAGAGAGCCTGCAAAGTCACTGCCGGAAGTCCCTCCGCGGTGACGAGCACGGCGGAAGTGGGTTCAATGCAGCTCCCCGAAGAACTGTCTCACTCCCGCTCGCCTGACTTCTGGATGGGAGG | 2.3079720    | 1.9652892    | 6.836813e-66 | 3.296419e-24 | \n",
       "| AAAAAAAAAAAAAAAGAAAAGAAAAGAAAAAAAAGAAAGGATTGAGGGGAAGTTTCAAAGGGTGTGCCGGGGACCGGGGAAGAGTCTCATTCTCATGAGTCAGCGGATCCGGCCCAGTGTGACTTCACTGCTTCCCCAGAAGAG | 0.5739228    | 0.4854771    | 7.714719e-03 | 1.168301e-01 | \n",
       "| AAAAAAAAAAAAGAGGAGAAATAGATTGTTACCTTATATTATTTAAACTTTCAAATGTGCTAGGGTTCCTGGAATTTGGAGAGGGAACCGAAAGGGTTTTATGGTTCTTGGGAGACAGCAGAGCACAAAGAGCCAGGGGGTGGA | 0.3151899    | 0.2953616    | 4.085087e-01 | 4.806001e-01 | \n",
       "| AAAAAAAAAACCGGCAAAATGTCCTTTTCCTTGTTTTGAAAAGACTGGAAAATTCATCCCTGCAACCTTCCCTCCCATTTCACTGGTCAGAGTAAAAATTGGAAGTAGGAAAATTAGTACCACCACATCCTTTGAGTCAGAGAC | 0.2355472    | 0.1774073    | 6.711073e-01 | 7.454044e-01 | \n",
       "| AAAAAAAAAGGCCACGCTCAAAACCCCAGACTAGTTTTCCTCACCAGATTCTGATGGGACGATGTCTCAGTAGCACCGCCAATGTGTGTGTAATTGACTGATCCAGTCAGTAGGGGGCCTGACTCCACAACGTTCAAGAGAATC | 0.4311798    | 0.3763514    | 1.124697e-01 | 2.962260e-01 | \n",
       "| AAAAAAAAATGAGAAGTGTTTAAGACAGCGCAACATTACAATAGAATATTGCCTTGTTTTCTTTCTGGTTCTTCTGTCTCACAGAAATTTCTGTAAGTTCACTCCCTCAGAGGGGAAAAGGCAAGGACACAAGCAAGAGAATGA | 0.3708518    | 0.3604878    | 2.411257e-01 | 3.299803e-01 | \n",
       "\n",
       "\n"
      ],
      "text/plain": [
       "                                                                                                                                                 HUES64   \n",
       "AAAAAAAAAAAAAAAAACCCTGCAGAGAGCCTGCAAAGTCACTGCCGGAAGTCCCTCCGCGGTGACGAGCACGGCGGAAGTGGGTTCAATGCAGCTCCCCGAAGAACTGTCTCACTCCCGCTCGCCTGACTTCTGGATGGGAGG 2.3079720\n",
       "AAAAAAAAAAAAAAAGAAAAGAAAAGAAAAAAAAGAAAGGATTGAGGGGAAGTTTCAAAGGGTGTGCCGGGGACCGGGGAAGAGTCTCATTCTCATGAGTCAGCGGATCCGGCCCAGTGTGACTTCACTGCTTCCCCAGAAGAG 0.5739228\n",
       "AAAAAAAAAAAAGAGGAGAAATAGATTGTTACCTTATATTATTTAAACTTTCAAATGTGCTAGGGTTCCTGGAATTTGGAGAGGGAACCGAAAGGGTTTTATGGTTCTTGGGAGACAGCAGAGCACAAAGAGCCAGGGGGTGGA 0.3151899\n",
       "AAAAAAAAAACCGGCAAAATGTCCTTTTCCTTGTTTTGAAAAGACTGGAAAATTCATCCCTGCAACCTTCCCTCCCATTTCACTGGTCAGAGTAAAAATTGGAAGTAGGAAAATTAGTACCACCACATCCTTTGAGTCAGAGAC 0.2355472\n",
       "AAAAAAAAAGGCCACGCTCAAAACCCCAGACTAGTTTTCCTCACCAGATTCTGATGGGACGATGTCTCAGTAGCACCGCCAATGTGTGTGTAATTGACTGATCCAGTCAGTAGGGGGCCTGACTCCACAACGTTCAAGAGAATC 0.4311798\n",
       "AAAAAAAAATGAGAAGTGTTTAAGACAGCGCAACATTACAATAGAATATTGCCTTGTTTTCTTTCTGGTTCTTCTGTCTCACAGAAATTTCTGTAAGTTCACTCCCTCAGAGGGGAAAAGGCAAGGACACAAGCAAGAGAATGA 0.3708518\n",
       "                                                                                                                                                 mESC     \n",
       "AAAAAAAAAAAAAAAAACCCTGCAGAGAGCCTGCAAAGTCACTGCCGGAAGTCCCTCCGCGGTGACGAGCACGGCGGAAGTGGGTTCAATGCAGCTCCCCGAAGAACTGTCTCACTCCCGCTCGCCTGACTTCTGGATGGGAGG 1.9652892\n",
       "AAAAAAAAAAAAAAAGAAAAGAAAAGAAAAAAAAGAAAGGATTGAGGGGAAGTTTCAAAGGGTGTGCCGGGGACCGGGGAAGAGTCTCATTCTCATGAGTCAGCGGATCCGGCCCAGTGTGACTTCACTGCTTCCCCAGAAGAG 0.4854771\n",
       "AAAAAAAAAAAAGAGGAGAAATAGATTGTTACCTTATATTATTTAAACTTTCAAATGTGCTAGGGTTCCTGGAATTTGGAGAGGGAACCGAAAGGGTTTTATGGTTCTTGGGAGACAGCAGAGCACAAAGAGCCAGGGGGTGGA 0.2953616\n",
       "AAAAAAAAAACCGGCAAAATGTCCTTTTCCTTGTTTTGAAAAGACTGGAAAATTCATCCCTGCAACCTTCCCTCCCATTTCACTGGTCAGAGTAAAAATTGGAAGTAGGAAAATTAGTACCACCACATCCTTTGAGTCAGAGAC 0.1774073\n",
       "AAAAAAAAAGGCCACGCTCAAAACCCCAGACTAGTTTTCCTCACCAGATTCTGATGGGACGATGTCTCAGTAGCACCGCCAATGTGTGTGTAATTGACTGATCCAGTCAGTAGGGGGCCTGACTCCACAACGTTCAAGAGAATC 0.3763514\n",
       "AAAAAAAAATGAGAAGTGTTTAAGACAGCGCAACATTACAATAGAATATTGCCTTGTTTTCTTTCTGGTTCTTCTGTCTCACAGAAATTTCTGTAAGTTCACTCCCTCAGAGGGGAAAAGGCAAGGACACAAGCAAGAGAATGA 0.3604878\n",
       "                                                                                                                                                 HUES64_pval \n",
       "AAAAAAAAAAAAAAAAACCCTGCAGAGAGCCTGCAAAGTCACTGCCGGAAGTCCCTCCGCGGTGACGAGCACGGCGGAAGTGGGTTCAATGCAGCTCCCCGAAGAACTGTCTCACTCCCGCTCGCCTGACTTCTGGATGGGAGG 6.836813e-66\n",
       "AAAAAAAAAAAAAAAGAAAAGAAAAGAAAAAAAAGAAAGGATTGAGGGGAAGTTTCAAAGGGTGTGCCGGGGACCGGGGAAGAGTCTCATTCTCATGAGTCAGCGGATCCGGCCCAGTGTGACTTCACTGCTTCCCCAGAAGAG 7.714719e-03\n",
       "AAAAAAAAAAAAGAGGAGAAATAGATTGTTACCTTATATTATTTAAACTTTCAAATGTGCTAGGGTTCCTGGAATTTGGAGAGGGAACCGAAAGGGTTTTATGGTTCTTGGGAGACAGCAGAGCACAAAGAGCCAGGGGGTGGA 4.085087e-01\n",
       "AAAAAAAAAACCGGCAAAATGTCCTTTTCCTTGTTTTGAAAAGACTGGAAAATTCATCCCTGCAACCTTCCCTCCCATTTCACTGGTCAGAGTAAAAATTGGAAGTAGGAAAATTAGTACCACCACATCCTTTGAGTCAGAGAC 6.711073e-01\n",
       "AAAAAAAAAGGCCACGCTCAAAACCCCAGACTAGTTTTCCTCACCAGATTCTGATGGGACGATGTCTCAGTAGCACCGCCAATGTGTGTGTAATTGACTGATCCAGTCAGTAGGGGGCCTGACTCCACAACGTTCAAGAGAATC 1.124697e-01\n",
       "AAAAAAAAATGAGAAGTGTTTAAGACAGCGCAACATTACAATAGAATATTGCCTTGTTTTCTTTCTGGTTCTTCTGTCTCACAGAAATTTCTGTAAGTTCACTCCCTCAGAGGGGAAAAGGCAAGGACACAAGCAAGAGAATGA 2.411257e-01\n",
       "                                                                                                                                                 mESC_pval   \n",
       "AAAAAAAAAAAAAAAAACCCTGCAGAGAGCCTGCAAAGTCACTGCCGGAAGTCCCTCCGCGGTGACGAGCACGGCGGAAGTGGGTTCAATGCAGCTCCCCGAAGAACTGTCTCACTCCCGCTCGCCTGACTTCTGGATGGGAGG 3.296419e-24\n",
       "AAAAAAAAAAAAAAAGAAAAGAAAAGAAAAAAAAGAAAGGATTGAGGGGAAGTTTCAAAGGGTGTGCCGGGGACCGGGGAAGAGTCTCATTCTCATGAGTCAGCGGATCCGGCCCAGTGTGACTTCACTGCTTCCCCAGAAGAG 1.168301e-01\n",
       "AAAAAAAAAAAAGAGGAGAAATAGATTGTTACCTTATATTATTTAAACTTTCAAATGTGCTAGGGTTCCTGGAATTTGGAGAGGGAACCGAAAGGGTTTTATGGTTCTTGGGAGACAGCAGAGCACAAAGAGCCAGGGGGTGGA 4.806001e-01\n",
       "AAAAAAAAAACCGGCAAAATGTCCTTTTCCTTGTTTTGAAAAGACTGGAAAATTCATCCCTGCAACCTTCCCTCCCATTTCACTGGTCAGAGTAAAAATTGGAAGTAGGAAAATTAGTACCACCACATCCTTTGAGTCAGAGAC 7.454044e-01\n",
       "AAAAAAAAAGGCCACGCTCAAAACCCCAGACTAGTTTTCCTCACCAGATTCTGATGGGACGATGTCTCAGTAGCACCGCCAATGTGTGTGTAATTGACTGATCCAGTCAGTAGGGGGCCTGACTCCACAACGTTCAAGAGAATC 2.962260e-01\n",
       "AAAAAAAAATGAGAAGTGTTTAAGACAGCGCAACATTACAATAGAATATTGCCTTGTTTTCTTTCTGGTTCTTCTGTCTCACAGAAATTTCTGTAAGTTCACTCCCTCAGAGGGGAAAAGGCAAGGACACAAGCAAGAGAATGA 3.299803e-01"
      ]
     },
     "metadata": {},
     "output_type": "display_data"
    }
   ],
   "source": [
    "alpha$HUES64_pval <- res.human$pval.mad\n",
    "alpha$mESC_pval <- res.mouse$pval.mad\n",
    "head(alpha)"
   ]
  },
  {
   "cell_type": "code",
   "execution_count": 27,
   "metadata": {},
   "outputs": [
    {
     "data": {
      "image/png": "[encoded data removed]",
      "text/plain": [
       "Plot with title “Histogram of alpha[ctrls, ]$HUES64_pval”"
      ]
     },
     "metadata": {},
     "output_type": "display_data"
    }
   ],
   "source": [
    "# histogram for negative controls\n",
    "hist(alpha[ctrls,]$HUES64_pval)"
   ]
  },
  {
   "cell_type": "code",
   "execution_count": 28,
   "metadata": {},
   "outputs": [
    {
     "data": {
      "image/png": "[encoded data removed]",
      "text/plain": [
       "Plot with title “Histogram of alpha[ctrls, ]$mESC_pval”"
      ]
     },
     "metadata": {},
     "output_type": "display_data"
    }
   ],
   "source": [
    "# histogram for negative controls\n",
    "hist(alpha[ctrls,]$mESC_pval)"
   ]
  },
  {
   "cell_type": "code",
   "execution_count": 29,
   "metadata": {},
   "outputs": [
    {
     "data": {
      "image/png": "[encoded data removed]",
      "text/plain": [
       "Plot with title “Histogram of alpha[!ctrls, ]$HUES64_pval”"
      ]
     },
     "metadata": {},
     "output_type": "display_data"
    }
   ],
   "source": [
    "# histogram for TSSs\n",
    "hist(alpha[!ctrls,]$HUES64_pval)"
   ]
  },
  {
   "cell_type": "code",
   "execution_count": 30,
   "metadata": {},
   "outputs": [
    {
     "data": {
      "image/png": "[encoded data removed]",
      "text/plain": [
       "Plot with title “Histogram of alpha[!ctrls, ]$mESC_pval”"
      ]
     },
     "metadata": {},
     "output_type": "display_data"
    }
   ],
   "source": [
    "# histogram for TSSs\n",
    "hist(alpha[!ctrls,]$mESC_pval)"
   ]
  },
  {
   "cell_type": "code",
   "execution_count": 31,
   "metadata": {},
   "outputs": [
    {
     "data": {
      "text/html": [
       "<table>\n",
       "<thead><tr><th></th><th scope=col>HUES64</th><th scope=col>mESC</th><th scope=col>HUES64_pval</th><th scope=col>mESC_pval</th><th scope=col>HUES64_padj</th><th scope=col>mESC_padj</th></tr></thead>\n",
       "<tbody>\n",
       "\t<tr><th scope=row>AAAAAAAAAAAAAAAAACCCTGCAGAGAGCCTGCAAAGTCACTGCCGGAAGTCCCTCCGCGGTGACGAGCACGGCGGAAGTGGGTTCAATGCAGCTCCCCGAAGAACTGTCTCACTCCCGCTCGCCTGACTTCTGGATGGGAGG</th><td>2.3079720   </td><td>1.9652892   </td><td>6.836813e-66</td><td>3.296419e-24</td><td>1.196572e-64</td><td>4.966103e-23</td></tr>\n",
       "\t<tr><th scope=row>AAAAAAAAAAAAAAAGAAAAGAAAAGAAAAAAAAGAAAGGATTGAGGGGAAGTTTCAAAGGGTGTGCCGGGGACCGGGGAAGAGTCTCATTCTCATGAGTCAGCGGATCCGGCCCAGTGTGACTTCACTGCTTCCCCAGAAGAG</th><td>0.5739228   </td><td>0.4854771   </td><td>7.714719e-03</td><td>1.168301e-01</td><td>2.558485e-02</td><td>3.666646e-01</td></tr>\n",
       "\t<tr><th scope=row>AAAAAAAAAAAAGAGGAGAAATAGATTGTTACCTTATATTATTTAAACTTTCAAATGTGCTAGGGTTCCTGGAATTTGGAGAGGGAACCGAAAGGGTTTTATGGTTCTTGGGAGACAGCAGAGCACAAAGAGCCAGGGGGTGGA</th><td>0.3151899   </td><td>0.2953616   </td><td>4.085087e-01</td><td>4.806001e-01</td><td>6.631957e-01</td><td>7.220042e-01</td></tr>\n",
       "\t<tr><th scope=row>AAAAAAAAAACCGGCAAAATGTCCTTTTCCTTGTTTTGAAAAGACTGGAAAATTCATCCCTGCAACCTTCCCTCCCATTTCACTGGTCAGAGTAAAAATTGGAAGTAGGAAAATTAGTACCACCACATCCTTTGAGTCAGAGAC</th><td>0.2355472   </td><td>0.1774073   </td><td>6.711073e-01</td><td>7.454044e-01</td><td>7.826055e-01</td><td>8.000145e-01</td></tr>\n",
       "\t<tr><th scope=row>AAAAAAAAAGGCCACGCTCAAAACCCCAGACTAGTTTTCCTCACCAGATTCTGATGGGACGATGTCTCAGTAGCACCGCCAATGTGTGTGTAATTGACTGATCCAGTCAGTAGGGGGCCTGACTCCACAACGTTCAAGAGAATC</th><td>0.4311798   </td><td>0.3763514   </td><td>1.124697e-01</td><td>2.962260e-01</td><td>2.746731e-01</td><td>6.347699e-01</td></tr>\n",
       "\t<tr><th scope=row>AAAAAAAAATGAGAAGTGTTTAAGACAGCGCAACATTACAATAGAATATTGCCTTGTTTTCTTTCTGGTTCTTCTGTCTCACAGAAATTTCTGTAAGTTCACTCCCTCAGAGGGGAAAAGGCAAGGACACAAGCAAGAGAATGA</th><td>0.3708518   </td><td>0.3604878   </td><td>2.411257e-01</td><td>3.299803e-01</td><td>4.821990e-01</td><td>6.590580e-01</td></tr>\n",
       "</tbody>\n",
       "</table>\n"
      ],
      "text/latex": [
       "\\begin{tabular}{r|llllll}\n",
       "  & HUES64 & mESC & HUES64\\_pval & mESC\\_pval & HUES64\\_padj & mESC\\_padj\\\\\n",
       "\\hline\n",
       "\tAAAAAAAAAAAAAAAAACCCTGCAGAGAGCCTGCAAAGTCACTGCCGGAAGTCCCTCCGCGGTGACGAGCACGGCGGAAGTGGGTTCAATGCAGCTCCCCGAAGAACTGTCTCACTCCCGCTCGCCTGACTTCTGGATGGGAGG & 2.3079720    & 1.9652892    & 6.836813e-66 & 3.296419e-24 & 1.196572e-64 & 4.966103e-23\\\\\n",
       "\tAAAAAAAAAAAAAAAGAAAAGAAAAGAAAAAAAAGAAAGGATTGAGGGGAAGTTTCAAAGGGTGTGCCGGGGACCGGGGAAGAGTCTCATTCTCATGAGTCAGCGGATCCGGCCCAGTGTGACTTCACTGCTTCCCCAGAAGAG & 0.5739228    & 0.4854771    & 7.714719e-03 & 1.168301e-01 & 2.558485e-02 & 3.666646e-01\\\\\n",
       "\tAAAAAAAAAAAAGAGGAGAAATAGATTGTTACCTTATATTATTTAAACTTTCAAATGTGCTAGGGTTCCTGGAATTTGGAGAGGGAACCGAAAGGGTTTTATGGTTCTTGGGAGACAGCAGAGCACAAAGAGCCAGGGGGTGGA & 0.3151899    & 0.2953616    & 4.085087e-01 & 4.806001e-01 & 6.631957e-01 & 7.220042e-01\\\\\n",
       "\tAAAAAAAAAACCGGCAAAATGTCCTTTTCCTTGTTTTGAAAAGACTGGAAAATTCATCCCTGCAACCTTCCCTCCCATTTCACTGGTCAGAGTAAAAATTGGAAGTAGGAAAATTAGTACCACCACATCCTTTGAGTCAGAGAC & 0.2355472    & 0.1774073    & 6.711073e-01 & 7.454044e-01 & 7.826055e-01 & 8.000145e-01\\\\\n",
       "\tAAAAAAAAAGGCCACGCTCAAAACCCCAGACTAGTTTTCCTCACCAGATTCTGATGGGACGATGTCTCAGTAGCACCGCCAATGTGTGTGTAATTGACTGATCCAGTCAGTAGGGGGCCTGACTCCACAACGTTCAAGAGAATC & 0.4311798    & 0.3763514    & 1.124697e-01 & 2.962260e-01 & 2.746731e-01 & 6.347699e-01\\\\\n",
       "\tAAAAAAAAATGAGAAGTGTTTAAGACAGCGCAACATTACAATAGAATATTGCCTTGTTTTCTTTCTGGTTCTTCTGTCTCACAGAAATTTCTGTAAGTTCACTCCCTCAGAGGGGAAAAGGCAAGGACACAAGCAAGAGAATGA & 0.3708518    & 0.3604878    & 2.411257e-01 & 3.299803e-01 & 4.821990e-01 & 6.590580e-01\\\\\n",
       "\\end{tabular}\n"
      ],
      "text/markdown": [
       "\n",
       "| <!--/--> | HUES64 | mESC | HUES64_pval | mESC_pval | HUES64_padj | mESC_padj | \n",
       "|---|---|---|---|---|---|\n",
       "| AAAAAAAAAAAAAAAAACCCTGCAGAGAGCCTGCAAAGTCACTGCCGGAAGTCCCTCCGCGGTGACGAGCACGGCGGAAGTGGGTTCAATGCAGCTCCCCGAAGAACTGTCTCACTCCCGCTCGCCTGACTTCTGGATGGGAGG | 2.3079720    | 1.9652892    | 6.836813e-66 | 3.296419e-24 | 1.196572e-64 | 4.966103e-23 | \n",
       "| AAAAAAAAAAAAAAAGAAAAGAAAAGAAAAAAAAGAAAGGATTGAGGGGAAGTTTCAAAGGGTGTGCCGGGGACCGGGGAAGAGTCTCATTCTCATGAGTCAGCGGATCCGGCCCAGTGTGACTTCACTGCTTCCCCAGAAGAG | 0.5739228    | 0.4854771    | 7.714719e-03 | 1.168301e-01 | 2.558485e-02 | 3.666646e-01 | \n",
       "| AAAAAAAAAAAAGAGGAGAAATAGATTGTTACCTTATATTATTTAAACTTTCAAATGTGCTAGGGTTCCTGGAATTTGGAGAGGGAACCGAAAGGGTTTTATGGTTCTTGGGAGACAGCAGAGCACAAAGAGCCAGGGGGTGGA | 0.3151899    | 0.2953616    | 4.085087e-01 | 4.806001e-01 | 6.631957e-01 | 7.220042e-01 | \n",
       "| AAAAAAAAAACCGGCAAAATGTCCTTTTCCTTGTTTTGAAAAGACTGGAAAATTCATCCCTGCAACCTTCCCTCCCATTTCACTGGTCAGAGTAAAAATTGGAAGTAGGAAAATTAGTACCACCACATCCTTTGAGTCAGAGAC | 0.2355472    | 0.1774073    | 6.711073e-01 | 7.454044e-01 | 7.826055e-01 | 8.000145e-01 | \n",
       "| AAAAAAAAAGGCCACGCTCAAAACCCCAGACTAGTTTTCCTCACCAGATTCTGATGGGACGATGTCTCAGTAGCACCGCCAATGTGTGTGTAATTGACTGATCCAGTCAGTAGGGGGCCTGACTCCACAACGTTCAAGAGAATC | 0.4311798    | 0.3763514    | 1.124697e-01 | 2.962260e-01 | 2.746731e-01 | 6.347699e-01 | \n",
       "| AAAAAAAAATGAGAAGTGTTTAAGACAGCGCAACATTACAATAGAATATTGCCTTGTTTTCTTTCTGGTTCTTCTGTCTCACAGAAATTTCTGTAAGTTCACTCCCTCAGAGGGGAAAAGGCAAGGACACAAGCAAGAGAATGA | 0.3708518    | 0.3604878    | 2.411257e-01 | 3.299803e-01 | 4.821990e-01 | 6.590580e-01 | \n",
       "\n",
       "\n"
      ],
      "text/plain": [
       "                                                                                                                                                 HUES64   \n",
       "AAAAAAAAAAAAAAAAACCCTGCAGAGAGCCTGCAAAGTCACTGCCGGAAGTCCCTCCGCGGTGACGAGCACGGCGGAAGTGGGTTCAATGCAGCTCCCCGAAGAACTGTCTCACTCCCGCTCGCCTGACTTCTGGATGGGAGG 2.3079720\n",
       "AAAAAAAAAAAAAAAGAAAAGAAAAGAAAAAAAAGAAAGGATTGAGGGGAAGTTTCAAAGGGTGTGCCGGGGACCGGGGAAGAGTCTCATTCTCATGAGTCAGCGGATCCGGCCCAGTGTGACTTCACTGCTTCCCCAGAAGAG 0.5739228\n",
       "AAAAAAAAAAAAGAGGAGAAATAGATTGTTACCTTATATTATTTAAACTTTCAAATGTGCTAGGGTTCCTGGAATTTGGAGAGGGAACCGAAAGGGTTTTATGGTTCTTGGGAGACAGCAGAGCACAAAGAGCCAGGGGGTGGA 0.3151899\n",
       "AAAAAAAAAACCGGCAAAATGTCCTTTTCCTTGTTTTGAAAAGACTGGAAAATTCATCCCTGCAACCTTCCCTCCCATTTCACTGGTCAGAGTAAAAATTGGAAGTAGGAAAATTAGTACCACCACATCCTTTGAGTCAGAGAC 0.2355472\n",
       "AAAAAAAAAGGCCACGCTCAAAACCCCAGACTAGTTTTCCTCACCAGATTCTGATGGGACGATGTCTCAGTAGCACCGCCAATGTGTGTGTAATTGACTGATCCAGTCAGTAGGGGGCCTGACTCCACAACGTTCAAGAGAATC 0.4311798\n",
       "AAAAAAAAATGAGAAGTGTTTAAGACAGCGCAACATTACAATAGAATATTGCCTTGTTTTCTTTCTGGTTCTTCTGTCTCACAGAAATTTCTGTAAGTTCACTCCCTCAGAGGGGAAAAGGCAAGGACACAAGCAAGAGAATGA 0.3708518\n",
       "                                                                                                                                                 mESC     \n",
       "AAAAAAAAAAAAAAAAACCCTGCAGAGAGCCTGCAAAGTCACTGCCGGAAGTCCCTCCGCGGTGACGAGCACGGCGGAAGTGGGTTCAATGCAGCTCCCCGAAGAACTGTCTCACTCCCGCTCGCCTGACTTCTGGATGGGAGG 1.9652892\n",
       "AAAAAAAAAAAAAAAGAAAAGAAAAGAAAAAAAAGAAAGGATTGAGGGGAAGTTTCAAAGGGTGTGCCGGGGACCGGGGAAGAGTCTCATTCTCATGAGTCAGCGGATCCGGCCCAGTGTGACTTCACTGCTTCCCCAGAAGAG 0.4854771\n",
       "AAAAAAAAAAAAGAGGAGAAATAGATTGTTACCTTATATTATTTAAACTTTCAAATGTGCTAGGGTTCCTGGAATTTGGAGAGGGAACCGAAAGGGTTTTATGGTTCTTGGGAGACAGCAGAGCACAAAGAGCCAGGGGGTGGA 0.2953616\n",
       "AAAAAAAAAACCGGCAAAATGTCCTTTTCCTTGTTTTGAAAAGACTGGAAAATTCATCCCTGCAACCTTCCCTCCCATTTCACTGGTCAGAGTAAAAATTGGAAGTAGGAAAATTAGTACCACCACATCCTTTGAGTCAGAGAC 0.1774073\n",
       "AAAAAAAAAGGCCACGCTCAAAACCCCAGACTAGTTTTCCTCACCAGATTCTGATGGGACGATGTCTCAGTAGCACCGCCAATGTGTGTGTAATTGACTGATCCAGTCAGTAGGGGGCCTGACTCCACAACGTTCAAGAGAATC 0.3763514\n",
       "AAAAAAAAATGAGAAGTGTTTAAGACAGCGCAACATTACAATAGAATATTGCCTTGTTTTCTTTCTGGTTCTTCTGTCTCACAGAAATTTCTGTAAGTTCACTCCCTCAGAGGGGAAAAGGCAAGGACACAAGCAAGAGAATGA 0.3604878\n",
       "                                                                                                                                                 HUES64_pval \n",
       "AAAAAAAAAAAAAAAAACCCTGCAGAGAGCCTGCAAAGTCACTGCCGGAAGTCCCTCCGCGGTGACGAGCACGGCGGAAGTGGGTTCAATGCAGCTCCCCGAAGAACTGTCTCACTCCCGCTCGCCTGACTTCTGGATGGGAGG 6.836813e-66\n",
       "AAAAAAAAAAAAAAAGAAAAGAAAAGAAAAAAAAGAAAGGATTGAGGGGAAGTTTCAAAGGGTGTGCCGGGGACCGGGGAAGAGTCTCATTCTCATGAGTCAGCGGATCCGGCCCAGTGTGACTTCACTGCTTCCCCAGAAGAG 7.714719e-03\n",
       "AAAAAAAAAAAAGAGGAGAAATAGATTGTTACCTTATATTATTTAAACTTTCAAATGTGCTAGGGTTCCTGGAATTTGGAGAGGGAACCGAAAGGGTTTTATGGTTCTTGGGAGACAGCAGAGCACAAAGAGCCAGGGGGTGGA 4.085087e-01\n",
       "AAAAAAAAAACCGGCAAAATGTCCTTTTCCTTGTTTTGAAAAGACTGGAAAATTCATCCCTGCAACCTTCCCTCCCATTTCACTGGTCAGAGTAAAAATTGGAAGTAGGAAAATTAGTACCACCACATCCTTTGAGTCAGAGAC 6.711073e-01\n",
       "AAAAAAAAAGGCCACGCTCAAAACCCCAGACTAGTTTTCCTCACCAGATTCTGATGGGACGATGTCTCAGTAGCACCGCCAATGTGTGTGTAATTGACTGATCCAGTCAGTAGGGGGCCTGACTCCACAACGTTCAAGAGAATC 1.124697e-01\n",
       "AAAAAAAAATGAGAAGTGTTTAAGACAGCGCAACATTACAATAGAATATTGCCTTGTTTTCTTTCTGGTTCTTCTGTCTCACAGAAATTTCTGTAAGTTCACTCCCTCAGAGGGGAAAAGGCAAGGACACAAGCAAGAGAATGA 2.411257e-01\n",
       "                                                                                                                                                 mESC_pval   \n",
       "AAAAAAAAAAAAAAAAACCCTGCAGAGAGCCTGCAAAGTCACTGCCGGAAGTCCCTCCGCGGTGACGAGCACGGCGGAAGTGGGTTCAATGCAGCTCCCCGAAGAACTGTCTCACTCCCGCTCGCCTGACTTCTGGATGGGAGG 3.296419e-24\n",
       "AAAAAAAAAAAAAAAGAAAAGAAAAGAAAAAAAAGAAAGGATTGAGGGGAAGTTTCAAAGGGTGTGCCGGGGACCGGGGAAGAGTCTCATTCTCATGAGTCAGCGGATCCGGCCCAGTGTGACTTCACTGCTTCCCCAGAAGAG 1.168301e-01\n",
       "AAAAAAAAAAAAGAGGAGAAATAGATTGTTACCTTATATTATTTAAACTTTCAAATGTGCTAGGGTTCCTGGAATTTGGAGAGGGAACCGAAAGGGTTTTATGGTTCTTGGGAGACAGCAGAGCACAAAGAGCCAGGGGGTGGA 4.806001e-01\n",
       "AAAAAAAAAACCGGCAAAATGTCCTTTTCCTTGTTTTGAAAAGACTGGAAAATTCATCCCTGCAACCTTCCCTCCCATTTCACTGGTCAGAGTAAAAATTGGAAGTAGGAAAATTAGTACCACCACATCCTTTGAGTCAGAGAC 7.454044e-01\n",
       "AAAAAAAAAGGCCACGCTCAAAACCCCAGACTAGTTTTCCTCACCAGATTCTGATGGGACGATGTCTCAGTAGCACCGCCAATGTGTGTGTAATTGACTGATCCAGTCAGTAGGGGGCCTGACTCCACAACGTTCAAGAGAATC 2.962260e-01\n",
       "AAAAAAAAATGAGAAGTGTTTAAGACAGCGCAACATTACAATAGAATATTGCCTTGTTTTCTTTCTGGTTCTTCTGTCTCACAGAAATTTCTGTAAGTTCACTCCCTCAGAGGGGAAAAGGCAAGGACACAAGCAAGAGAATGA 3.299803e-01\n",
       "                                                                                                                                                 HUES64_padj \n",
       "AAAAAAAAAAAAAAAAACCCTGCAGAGAGCCTGCAAAGTCACTGCCGGAAGTCCCTCCGCGGTGACGAGCACGGCGGAAGTGGGTTCAATGCAGCTCCCCGAAGAACTGTCTCACTCCCGCTCGCCTGACTTCTGGATGGGAGG 1.196572e-64\n",
       "AAAAAAAAAAAAAAAGAAAAGAAAAGAAAAAAAAGAAAGGATTGAGGGGAAGTTTCAAAGGGTGTGCCGGGGACCGGGGAAGAGTCTCATTCTCATGAGTCAGCGGATCCGGCCCAGTGTGACTTCACTGCTTCCCCAGAAGAG 2.558485e-02\n",
       "AAAAAAAAAAAAGAGGAGAAATAGATTGTTACCTTATATTATTTAAACTTTCAAATGTGCTAGGGTTCCTGGAATTTGGAGAGGGAACCGAAAGGGTTTTATGGTTCTTGGGAGACAGCAGAGCACAAAGAGCCAGGGGGTGGA 6.631957e-01\n",
       "AAAAAAAAAACCGGCAAAATGTCCTTTTCCTTGTTTTGAAAAGACTGGAAAATTCATCCCTGCAACCTTCCCTCCCATTTCACTGGTCAGAGTAAAAATTGGAAGTAGGAAAATTAGTACCACCACATCCTTTGAGTCAGAGAC 7.826055e-01\n",
       "AAAAAAAAAGGCCACGCTCAAAACCCCAGACTAGTTTTCCTCACCAGATTCTGATGGGACGATGTCTCAGTAGCACCGCCAATGTGTGTGTAATTGACTGATCCAGTCAGTAGGGGGCCTGACTCCACAACGTTCAAGAGAATC 2.746731e-01\n",
       "AAAAAAAAATGAGAAGTGTTTAAGACAGCGCAACATTACAATAGAATATTGCCTTGTTTTCTTTCTGGTTCTTCTGTCTCACAGAAATTTCTGTAAGTTCACTCCCTCAGAGGGGAAAAGGCAAGGACACAAGCAAGAGAATGA 4.821990e-01\n",
       "                                                                                                                                                 mESC_padj   \n",
       "AAAAAAAAAAAAAAAAACCCTGCAGAGAGCCTGCAAAGTCACTGCCGGAAGTCCCTCCGCGGTGACGAGCACGGCGGAAGTGGGTTCAATGCAGCTCCCCGAAGAACTGTCTCACTCCCGCTCGCCTGACTTCTGGATGGGAGG 4.966103e-23\n",
       "AAAAAAAAAAAAAAAGAAAAGAAAAGAAAAAAAAGAAAGGATTGAGGGGAAGTTTCAAAGGGTGTGCCGGGGACCGGGGAAGAGTCTCATTCTCATGAGTCAGCGGATCCGGCCCAGTGTGACTTCACTGCTTCCCCAGAAGAG 3.666646e-01\n",
       "AAAAAAAAAAAAGAGGAGAAATAGATTGTTACCTTATATTATTTAAACTTTCAAATGTGCTAGGGTTCCTGGAATTTGGAGAGGGAACCGAAAGGGTTTTATGGTTCTTGGGAGACAGCAGAGCACAAAGAGCCAGGGGGTGGA 7.220042e-01\n",
       "AAAAAAAAAACCGGCAAAATGTCCTTTTCCTTGTTTTGAAAAGACTGGAAAATTCATCCCTGCAACCTTCCCTCCCATTTCACTGGTCAGAGTAAAAATTGGAAGTAGGAAAATTAGTACCACCACATCCTTTGAGTCAGAGAC 8.000145e-01\n",
       "AAAAAAAAAGGCCACGCTCAAAACCCCAGACTAGTTTTCCTCACCAGATTCTGATGGGACGATGTCTCAGTAGCACCGCCAATGTGTGTGTAATTGACTGATCCAGTCAGTAGGGGGCCTGACTCCACAACGTTCAAGAGAATC 6.347699e-01\n",
       "AAAAAAAAATGAGAAGTGTTTAAGACAGCGCAACATTACAATAGAATATTGCCTTGTTTTCTTTCTGGTTCTTCTGTCTCACAGAAATTTCTGTAAGTTCACTCCCTCAGAGGGGAAAAGGCAAGGACACAAGCAAGAGAATGA 6.590580e-01"
      ]
     },
     "metadata": {},
     "output_type": "display_data"
    }
   ],
   "source": [
    "# correct for multiple testing\n",
    "alpha$HUES64_padj <- p.adjust(alpha$HUES64_pval, method = \"fdr\")\n",
    "alpha$mESC_padj <- p.adjust(alpha$mESC_pval, method = \"fdr\")\n",
    "head(alpha)"
   ]
  },
  {
   "cell_type": "markdown",
   "metadata": {},
   "source": [
    "## 5. write alphas to file"
   ]
  },
  {
   "cell_type": "code",
   "execution_count": 33,
   "metadata": {},
   "outputs": [],
   "source": [
    "write.table(alpha, file = \"../../../data/02__mpra/02__activs/alpha_per_elem.quantification.txt\", sep = \"\\t\",\n",
    "            quote = FALSE)"
   ]
  },
  {
   "cell_type": "code",
   "execution_count": null,
   "metadata": {},
   "outputs": [],
   "source": []
  }
 ],
 "metadata": {
  "kernelspec": {
   "display_name": "R",
   "language": "R",
   "name": "ir"
  },
  "language_info": {
   "codemirror_mode": "r",
   "file_extension": ".r",
   "mimetype": "text/x-r-source",
   "name": "R",
   "pygments_lexer": "r",
   "version": "3.5.1"
  }
 },
 "nbformat": 4,
 "nbformat_minor": 2
}
