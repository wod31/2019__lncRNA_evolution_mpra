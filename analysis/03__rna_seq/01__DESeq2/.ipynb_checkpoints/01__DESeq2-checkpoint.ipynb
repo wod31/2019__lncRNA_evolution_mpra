{
 "cells": [
  {
   "cell_type": "markdown",
   "metadata": {},
   "source": [
    "# 01__DESeq2"
   ]
  },
  {
   "cell_type": "code",
   "execution_count": 1,
   "metadata": {},
   "outputs": [
    {
     "ename": "ERROR",
     "evalue": "Error in library(\"DESeq2\"): there is no package called ‘DESeq2’\n",
     "output_type": "error",
     "traceback": [
      "Error in library(\"DESeq2\"): there is no package called ‘DESeq2’\nTraceback:\n",
      "1. library(\"DESeq2\")",
      "2. stop(txt, domain = NA)"
     ]
    }
   ],
   "source": [
    "library(\"DESeq2\")"
   ]
  },
  {
   "cell_type": "code",
   "execution_count": null,
   "metadata": {},
   "outputs": [],
   "source": []
  }
 ],
 "metadata": {
  "kernelspec": {
   "display_name": "R",
   "language": "R",
   "name": "ir"
  },
  "language_info": {
   "codemirror_mode": "r",
   "file_extension": ".r",
   "mimetype": "text/x-r-source",
   "name": "R",
   "pygments_lexer": "r",
   "version": "3.5.1"
  }
 },
 "nbformat": 4,
 "nbformat_minor": 2
}
