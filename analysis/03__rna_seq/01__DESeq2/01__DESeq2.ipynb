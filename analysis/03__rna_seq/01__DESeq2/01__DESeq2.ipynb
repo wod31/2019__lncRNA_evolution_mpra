{
 "cells": [
  {
   "cell_type": "markdown",
   "metadata": {},
   "source": [
    "# 01__DESeq2"
   ]
  },
  {
   "cell_type": "code",
   "execution_count": 1,
   "metadata": {},
   "outputs": [
    {
     "name": "stderr",
     "output_type": "stream",
     "text": [
      "Updating HTML index of packages in '.Library'\n",
      "Making 'packages.html' ... done\n",
      "Bioconductor version 3.7 (BiocInstaller 1.30.0), ?biocLite for help\n",
      "A newer version of Bioconductor is available for this version of R,\n",
      "  ?BiocUpgrade for help\n",
      "BioC_mirror: https://bioconductor.org\n",
      "Using Bioconductor 3.7 (BiocInstaller 1.30.0), R 3.5.1 (2018-07-02).\n",
      "Installing package(s) ‘DESeq2’\n",
      "also installing the dependencies ‘bit’, ‘bit64’, ‘blob’, ‘memoise’, ‘RSQLite’, ‘XML’, ‘checkmate’, ‘AnnotationDbi’, ‘annotate’, ‘Formula’, ‘latticeExtra’, ‘acepack’, ‘gridExtra’, ‘htmlTable’, ‘viridis’, ‘genefilter’, ‘locfit’, ‘geneplotter’, ‘Hmisc’, ‘RcppArmadillo’\n",
      "\n",
      "Updating HTML index of packages in '.Library'\n",
      "Making 'packages.html' ... done\n",
      "Old packages: 'assertthat', 'backports', 'BH', 'boot', 'broom', 'callr',\n",
      "  'caret', 'class', 'cli', 'clipr', 'cluster', 'codetools', 'colorspace',\n",
      "  'curl', 'data.table', 'dbplyr', 'ddalpha', 'digest', 'dimRed', 'dplyr',\n",
      "  'evaluate', 'fansi', 'forcats', 'formatR', 'geometry', 'ggplot2', 'glmnet',\n",
      "  'glue', 'gower', 'gtable', 'haven', 'hexbin', 'highr', 'htmlwidgets',\n",
      "  'httpuv', 'httr', 'ipred', 'IRdisplay', 'IRkernel', 'jsonlite', 'kernlab',\n",
      "  'knitr', 'later', 'lattice', 'lava', 'lazyeval', 'magic', 'markdown', 'MASS',\n",
      "  'Matrix', 'mgcv', 'mime', 'ModelMetrics', 'modelr', 'nlme', 'numDeriv',\n",
      "  'openssl', 'pillar', 'pkgconfig', 'pls', 'processx', 'progress', 'purrr',\n",
      "  'quantmod', 'R6', 'Rcpp', 'readr', 'readxl', 'recipes', 'repr', 'reprex',\n",
      "  'rlang', 'rmarkdown', 'robustbase', 'rpart', 'rstudioapi', 'rvest', 'scales',\n",
      "  'sfsmisc', 'shiny', 'stringi', 'stringr', 'survival', 'testthat', 'tibble',\n",
      "  'tidyr', 'tidyselect', 'tinytex', 'TTR', 'xfun', 'xtable', 'xts', 'zoo'\n"
     ]
    }
   ],
   "source": [
    "source(\"https://bioconductor.org/biocLite.R\")\n",
    "biocLite(\"DESeq2\")"
   ]
  },
  {
   "cell_type": "code",
   "execution_count": 2,
   "metadata": {
    "scrolled": true
   },
   "outputs": [
    {
     "name": "stderr",
     "output_type": "stream",
     "text": [
      "Loading required package: S4Vectors\n",
      "Loading required package: stats4\n",
      "Loading required package: BiocGenerics\n",
      "Loading required package: parallel\n",
      "\n",
      "Attaching package: ‘BiocGenerics’\n",
      "\n",
      "The following objects are masked from ‘package:parallel’:\n",
      "\n",
      "    clusterApply, clusterApplyLB, clusterCall, clusterEvalQ,\n",
      "    clusterExport, clusterMap, parApply, parCapply, parLapply,\n",
      "    parLapplyLB, parRapply, parSapply, parSapplyLB\n",
      "\n",
      "The following objects are masked from ‘package:stats’:\n",
      "\n",
      "    IQR, mad, sd, var, xtabs\n",
      "\n",
      "The following objects are masked from ‘package:base’:\n",
      "\n",
      "    anyDuplicated, append, as.data.frame, basename, cbind, colMeans,\n",
      "    colnames, colSums, dirname, do.call, duplicated, eval, evalq,\n",
      "    Filter, Find, get, grep, grepl, intersect, is.unsorted, lapply,\n",
      "    lengths, Map, mapply, match, mget, order, paste, pmax, pmax.int,\n",
      "    pmin, pmin.int, Position, rank, rbind, Reduce, rowMeans, rownames,\n",
      "    rowSums, sapply, setdiff, sort, table, tapply, union, unique,\n",
      "    unsplit, which, which.max, which.min\n",
      "\n",
      "\n",
      "Attaching package: ‘S4Vectors’\n",
      "\n",
      "The following object is masked from ‘package:base’:\n",
      "\n",
      "    expand.grid\n",
      "\n",
      "Loading required package: IRanges\n",
      "Loading required package: GenomicRanges\n",
      "Loading required package: GenomeInfoDb\n",
      "Loading required package: SummarizedExperiment\n",
      "Loading required package: Biobase\n",
      "Welcome to Bioconductor\n",
      "\n",
      "    Vignettes contain introductory material; view with\n",
      "    'browseVignettes()'. To cite Bioconductor, see\n",
      "    'citation(\"Biobase\")', and for packages 'citation(\"pkgname\")'.\n",
      "\n",
      "Loading required package: DelayedArray\n",
      "Loading required package: matrixStats\n",
      "\n",
      "Attaching package: ‘matrixStats’\n",
      "\n",
      "The following objects are masked from ‘package:Biobase’:\n",
      "\n",
      "    anyMissing, rowMedians\n",
      "\n",
      "Loading required package: BiocParallel\n",
      "\n",
      "Attaching package: ‘DelayedArray’\n",
      "\n",
      "The following objects are masked from ‘package:matrixStats’:\n",
      "\n",
      "    colMaxs, colMins, colRanges, rowMaxs, rowMins, rowRanges\n",
      "\n",
      "The following objects are masked from ‘package:base’:\n",
      "\n",
      "    aperm, apply\n",
      "\n"
     ]
    }
   ],
   "source": [
    "library(\"DESeq2\")"
   ]
  },
  {
   "cell_type": "markdown",
   "metadata": {},
   "source": [
    "## 1. import data"
   ]
  },
  {
   "cell_type": "code",
   "execution_count": 35,
   "metadata": {},
   "outputs": [
    {
     "data": {
      "text/html": [
       "<table>\n",
       "<thead><tr><th></th><th scope=col>rep1</th><th scope=col>rep2</th></tr></thead>\n",
       "<tbody>\n",
       "\t<tr><th scope=row>ENSG00000223972</th><td> 2</td><td> 0</td></tr>\n",
       "\t<tr><th scope=row>ENSG00000227232</th><td>45</td><td>36</td></tr>\n",
       "\t<tr><th scope=row>ENSG00000243485</th><td> 3</td><td> 0</td></tr>\n",
       "\t<tr><th scope=row>ENSG00000237613</th><td> 0</td><td> 0</td></tr>\n",
       "\t<tr><th scope=row>ENSG00000268020</th><td> 0</td><td> 0</td></tr>\n",
       "\t<tr><th scope=row>ENSG00000240361</th><td> 0</td><td> 0</td></tr>\n",
       "</tbody>\n",
       "</table>\n"
      ],
      "text/latex": [
       "\\begin{tabular}{r|ll}\n",
       "  & rep1 & rep2\\\\\n",
       "\\hline\n",
       "\tENSG00000223972 &  2 &  0\\\\\n",
       "\tENSG00000227232 & 45 & 36\\\\\n",
       "\tENSG00000243485 &  3 &  0\\\\\n",
       "\tENSG00000237613 &  0 &  0\\\\\n",
       "\tENSG00000268020 &  0 &  0\\\\\n",
       "\tENSG00000240361 &  0 &  0\\\\\n",
       "\\end{tabular}\n"
      ],
      "text/markdown": [
       "\n",
       "| <!--/--> | rep1 | rep2 | \n",
       "|---|---|---|---|---|---|\n",
       "| ENSG00000223972 |  2 |  0 | \n",
       "| ENSG00000227232 | 45 | 36 | \n",
       "| ENSG00000243485 |  3 |  0 | \n",
       "| ENSG00000237613 |  0 |  0 | \n",
       "| ENSG00000268020 |  0 |  0 | \n",
       "| ENSG00000240361 |  0 |  0 | \n",
       "\n",
       "\n"
      ],
      "text/plain": [
       "                rep1 rep2\n",
       "ENSG00000223972  2    0  \n",
       "ENSG00000227232 45   36  \n",
       "ENSG00000243485  3    0  \n",
       "ENSG00000237613  0    0  \n",
       "ENSG00000268020  0    0  \n",
       "ENSG00000240361  0    0  "
      ]
     },
     "metadata": {},
     "output_type": "display_data"
    }
   ],
   "source": [
    "human_cts <- read.csv(\"../../../data/03__rna_seq/02__for_DESeq2/hESC_all.counts.txt\", sep=\"\\t\", row.names=\"gene_id\")\n",
    "human_cts <- as.matrix(human_cts)\n",
    "head(human_cts)"
   ]
  },
  {
   "cell_type": "code",
   "execution_count": 36,
   "metadata": {},
   "outputs": [
    {
     "data": {
      "text/html": [
       "<table>\n",
       "<thead><tr><th></th><th scope=col>rep1</th><th scope=col>rep2</th><th scope=col>rep3</th></tr></thead>\n",
       "<tbody>\n",
       "\t<tr><th scope=row>ENSMUSG00000102693</th><td>0</td><td>0</td><td>0</td></tr>\n",
       "\t<tr><th scope=row>ENSMUSG00000064842</th><td>0</td><td>0</td><td>0</td></tr>\n",
       "\t<tr><th scope=row>ENSMUSG00000051951</th><td>2</td><td>2</td><td>2</td></tr>\n",
       "\t<tr><th scope=row>ENSMUSG00000102851</th><td>0</td><td>0</td><td>0</td></tr>\n",
       "\t<tr><th scope=row>ENSMUSG00000103377</th><td>0</td><td>0</td><td>0</td></tr>\n",
       "\t<tr><th scope=row>ENSMUSG00000104017</th><td>0</td><td>0</td><td>0</td></tr>\n",
       "</tbody>\n",
       "</table>\n"
      ],
      "text/latex": [
       "\\begin{tabular}{r|lll}\n",
       "  & rep1 & rep2 & rep3\\\\\n",
       "\\hline\n",
       "\tENSMUSG00000102693 & 0 & 0 & 0\\\\\n",
       "\tENSMUSG00000064842 & 0 & 0 & 0\\\\\n",
       "\tENSMUSG00000051951 & 2 & 2 & 2\\\\\n",
       "\tENSMUSG00000102851 & 0 & 0 & 0\\\\\n",
       "\tENSMUSG00000103377 & 0 & 0 & 0\\\\\n",
       "\tENSMUSG00000104017 & 0 & 0 & 0\\\\\n",
       "\\end{tabular}\n"
      ],
      "text/markdown": [
       "\n",
       "| <!--/--> | rep1 | rep2 | rep3 | \n",
       "|---|---|---|---|---|---|\n",
       "| ENSMUSG00000102693 | 0 | 0 | 0 | \n",
       "| ENSMUSG00000064842 | 0 | 0 | 0 | \n",
       "| ENSMUSG00000051951 | 2 | 2 | 2 | \n",
       "| ENSMUSG00000102851 | 0 | 0 | 0 | \n",
       "| ENSMUSG00000103377 | 0 | 0 | 0 | \n",
       "| ENSMUSG00000104017 | 0 | 0 | 0 | \n",
       "\n",
       "\n"
      ],
      "text/plain": [
       "                   rep1 rep2 rep3\n",
       "ENSMUSG00000102693 0    0    0   \n",
       "ENSMUSG00000064842 0    0    0   \n",
       "ENSMUSG00000051951 2    2    2   \n",
       "ENSMUSG00000102851 0    0    0   \n",
       "ENSMUSG00000103377 0    0    0   \n",
       "ENSMUSG00000104017 0    0    0   "
      ]
     },
     "metadata": {},
     "output_type": "display_data"
    }
   ],
   "source": [
    "mouse_cts <- read.csv(\"../../../data/03__rna_seq/02__for_DESeq2/mESC_all.counts.txt\", sep=\"\\t\", row.names=\"gene_id\")\n",
    "mouse_cts <- as.matrix(mouse_cts)\n",
    "head(mouse_cts)"
   ]
  },
  {
   "cell_type": "code",
   "execution_count": 37,
   "metadata": {},
   "outputs": [
    {
     "data": {
      "text/html": [
       "<table>\n",
       "<thead><tr><th></th><th scope=col>condition</th></tr></thead>\n",
       "<tbody>\n",
       "\t<tr><th scope=row>rep1</th><td>rep1</td></tr>\n",
       "\t<tr><th scope=row>rep2</th><td>rep2</td></tr>\n",
       "</tbody>\n",
       "</table>\n"
      ],
      "text/latex": [
       "\\begin{tabular}{r|l}\n",
       "  & condition\\\\\n",
       "\\hline\n",
       "\trep1 & rep1\\\\\n",
       "\trep2 & rep2\\\\\n",
       "\\end{tabular}\n"
      ],
      "text/markdown": [
       "\n",
       "| <!--/--> | condition | \n",
       "|---|---|\n",
       "| rep1 | rep1 | \n",
       "| rep2 | rep2 | \n",
       "\n",
       "\n"
      ],
      "text/plain": [
       "     condition\n",
       "rep1 rep1     \n",
       "rep2 rep2     "
      ]
     },
     "metadata": {},
     "output_type": "display_data"
    }
   ],
   "source": [
    "human_cols <- read.csv(\"../../../data/03__rna_seq/02__for_DESeq2/hESC_all.cols.txt\", sep=\"\\t\", row.names=\"column\")\n",
    "head(human_cols)"
   ]
  },
  {
   "cell_type": "code",
   "execution_count": 38,
   "metadata": {},
   "outputs": [
    {
     "data": {
      "text/html": [
       "<table>\n",
       "<thead><tr><th></th><th scope=col>condition</th></tr></thead>\n",
       "<tbody>\n",
       "\t<tr><th scope=row>rep1</th><td>rep1</td></tr>\n",
       "\t<tr><th scope=row>rep2</th><td>rep2</td></tr>\n",
       "\t<tr><th scope=row>rep3</th><td>rep3</td></tr>\n",
       "</tbody>\n",
       "</table>\n"
      ],
      "text/latex": [
       "\\begin{tabular}{r|l}\n",
       "  & condition\\\\\n",
       "\\hline\n",
       "\trep1 & rep1\\\\\n",
       "\trep2 & rep2\\\\\n",
       "\trep3 & rep3\\\\\n",
       "\\end{tabular}\n"
      ],
      "text/markdown": [
       "\n",
       "| <!--/--> | condition | \n",
       "|---|---|---|\n",
       "| rep1 | rep1 | \n",
       "| rep2 | rep2 | \n",
       "| rep3 | rep3 | \n",
       "\n",
       "\n"
      ],
      "text/plain": [
       "     condition\n",
       "rep1 rep1     \n",
       "rep2 rep2     \n",
       "rep3 rep3     "
      ]
     },
     "metadata": {},
     "output_type": "display_data"
    }
   ],
   "source": [
    "mouse_cols <- read.csv(\"../../../data/03__rna_seq/02__for_DESeq2/mESC_all.cols.txt\", sep=\"\\t\", row.names=\"column\")\n",
    "head(mouse_cols)"
   ]
  },
  {
   "cell_type": "code",
   "execution_count": 17,
   "metadata": {},
   "outputs": [
    {
     "data": {
      "text/html": [
       "<table>\n",
       "<thead><tr><th></th><th scope=col>hESC_rep1</th><th scope=col>hESC_rep2</th><th scope=col>mESC_rep1</th><th scope=col>mESC_rep2</th><th scope=col>mESC_rep3</th></tr></thead>\n",
       "<tbody>\n",
       "\t<tr><th scope=row>ENSG00000187634__ENSMUSG00000096351</th><td>   91</td><td>   67</td><td>    5</td><td>    5</td><td>   10</td></tr>\n",
       "\t<tr><th scope=row>ENSG00000188976__ENSMUSG00000095567</th><td> 7273</td><td> 4400</td><td>13774</td><td>14229</td><td>18741</td></tr>\n",
       "\t<tr><th scope=row>ENSG00000187961__ENSMUSG00000078485</th><td>  975</td><td>  697</td><td>  657</td><td>  751</td><td>  929</td></tr>\n",
       "\t<tr><th scope=row>ENSG00000187642__ENSMUSG00000078486</th><td>   11</td><td>    4</td><td>   28</td><td>   22</td><td>   20</td></tr>\n",
       "\t<tr><th scope=row>ENSG00000187608__ENSMUSG00000035692</th><td>  546</td><td>  484</td><td>    6</td><td>    5</td><td>    5</td></tr>\n",
       "\t<tr><th scope=row>ENSG00000188157__ENSMUSG00000041936</th><td>12899</td><td>10181</td><td>16978</td><td>18399</td><td>23923</td></tr>\n",
       "</tbody>\n",
       "</table>\n"
      ],
      "text/latex": [
       "\\begin{tabular}{r|lllll}\n",
       "  & hESC\\_rep1 & hESC\\_rep2 & mESC\\_rep1 & mESC\\_rep2 & mESC\\_rep3\\\\\n",
       "\\hline\n",
       "\tENSG00000187634\\_\\_ENSMUSG00000096351 &    91 &    67 &     5 &     5 &    10\\\\\n",
       "\tENSG00000188976\\_\\_ENSMUSG00000095567 &  7273 &  4400 & 13774 & 14229 & 18741\\\\\n",
       "\tENSG00000187961\\_\\_ENSMUSG00000078485 &   975 &   697 &   657 &   751 &   929\\\\\n",
       "\tENSG00000187642\\_\\_ENSMUSG00000078486 &    11 &     4 &    28 &    22 &    20\\\\\n",
       "\tENSG00000187608\\_\\_ENSMUSG00000035692 &   546 &   484 &     6 &     5 &     5\\\\\n",
       "\tENSG00000188157\\_\\_ENSMUSG00000041936 & 12899 & 10181 & 16978 & 18399 & 23923\\\\\n",
       "\\end{tabular}\n"
      ],
      "text/markdown": [
       "\n",
       "| <!--/--> | hESC_rep1 | hESC_rep2 | mESC_rep1 | mESC_rep2 | mESC_rep3 | \n",
       "|---|---|---|---|---|---|\n",
       "| ENSG00000187634__ENSMUSG00000096351 |    91 |    67 |     5 |     5 |    10 | \n",
       "| ENSG00000188976__ENSMUSG00000095567 |  7273 |  4400 | 13774 | 14229 | 18741 | \n",
       "| ENSG00000187961__ENSMUSG00000078485 |   975 |   697 |   657 |   751 |   929 | \n",
       "| ENSG00000187642__ENSMUSG00000078486 |    11 |     4 |    28 |    22 |    20 | \n",
       "| ENSG00000187608__ENSMUSG00000035692 |   546 |   484 |     6 |     5 |     5 | \n",
       "| ENSG00000188157__ENSMUSG00000041936 | 12899 | 10181 | 16978 | 18399 | 23923 | \n",
       "\n",
       "\n"
      ],
      "text/plain": [
       "                                    hESC_rep1 hESC_rep2 mESC_rep1 mESC_rep2\n",
       "ENSG00000187634__ENSMUSG00000096351    91        67         5         5    \n",
       "ENSG00000188976__ENSMUSG00000095567  7273      4400     13774     14229    \n",
       "ENSG00000187961__ENSMUSG00000078485   975       697       657       751    \n",
       "ENSG00000187642__ENSMUSG00000078486    11         4        28        22    \n",
       "ENSG00000187608__ENSMUSG00000035692   546       484         6         5    \n",
       "ENSG00000188157__ENSMUSG00000041936 12899     10181     16978     18399    \n",
       "                                    mESC_rep3\n",
       "ENSG00000187634__ENSMUSG00000096351    10    \n",
       "ENSG00000188976__ENSMUSG00000095567 18741    \n",
       "ENSG00000187961__ENSMUSG00000078485   929    \n",
       "ENSG00000187642__ENSMUSG00000078486    20    \n",
       "ENSG00000187608__ENSMUSG00000035692     5    \n",
       "ENSG00000188157__ENSMUSG00000041936 23923    "
      ]
     },
     "metadata": {},
     "output_type": "display_data"
    }
   ],
   "source": [
    "orth_cts <- read.csv(\"../../../data/03__rna_seq/02__for_DESeq2/orths.counts.txt\", sep=\"\\t\", row.names=\"orth_id\")\n",
    "orth_cts <- as.matrix(orth_cts)\n",
    "head(orth_cts)"
   ]
  },
  {
   "cell_type": "code",
   "execution_count": 18,
   "metadata": {},
   "outputs": [
    {
     "data": {
      "text/html": [
       "<table>\n",
       "<thead><tr><th></th><th scope=col>condition</th><th scope=col>sample</th></tr></thead>\n",
       "<tbody>\n",
       "\t<tr><th scope=row>hESC_rep1</th><td>hESC   </td><td>sample1</td></tr>\n",
       "\t<tr><th scope=row>hESC_rep2</th><td>hESC   </td><td>sample2</td></tr>\n",
       "\t<tr><th scope=row>mESC_rep1</th><td>mESC   </td><td>sample1</td></tr>\n",
       "\t<tr><th scope=row>mESC_rep2</th><td>mESC   </td><td>sample2</td></tr>\n",
       "\t<tr><th scope=row>mESC_rep3</th><td>mESC   </td><td>sample3</td></tr>\n",
       "</tbody>\n",
       "</table>\n"
      ],
      "text/latex": [
       "\\begin{tabular}{r|ll}\n",
       "  & condition & sample\\\\\n",
       "\\hline\n",
       "\thESC\\_rep1 & hESC    & sample1\\\\\n",
       "\thESC\\_rep2 & hESC    & sample2\\\\\n",
       "\tmESC\\_rep1 & mESC    & sample1\\\\\n",
       "\tmESC\\_rep2 & mESC    & sample2\\\\\n",
       "\tmESC\\_rep3 & mESC    & sample3\\\\\n",
       "\\end{tabular}\n"
      ],
      "text/markdown": [
       "\n",
       "| <!--/--> | condition | sample | \n",
       "|---|---|---|---|---|\n",
       "| hESC_rep1 | hESC    | sample1 | \n",
       "| hESC_rep2 | hESC    | sample2 | \n",
       "| mESC_rep1 | mESC    | sample1 | \n",
       "| mESC_rep2 | mESC    | sample2 | \n",
       "| mESC_rep3 | mESC    | sample3 | \n",
       "\n",
       "\n"
      ],
      "text/plain": [
       "          condition sample \n",
       "hESC_rep1 hESC      sample1\n",
       "hESC_rep2 hESC      sample2\n",
       "mESC_rep1 mESC      sample1\n",
       "mESC_rep2 mESC      sample2\n",
       "mESC_rep3 mESC      sample3"
      ]
     },
     "metadata": {},
     "output_type": "display_data"
    }
   ],
   "source": [
    "orth_cols <- read.csv(\"../../../data/03__rna_seq/02__for_DESeq2/orths.cols.txt\", sep=\"\\t\", row.names=\"column\")\n",
    "head(orth_cols)"
   ]
  },
  {
   "cell_type": "markdown",
   "metadata": {},
   "source": [
    "## 1. expression analysis of each line separately"
   ]
  },
  {
   "cell_type": "markdown",
   "metadata": {},
   "source": [
    "### human"
   ]
  },
  {
   "cell_type": "code",
   "execution_count": 40,
   "metadata": {},
   "outputs": [],
   "source": [
    "dds <- DESeqDataSetFromMatrix(countData = human_cts,\n",
    "                              colData = human_cols,\n",
    "                              design = ~ condition)"
   ]
  },
  {
   "cell_type": "code",
   "execution_count": 42,
   "metadata": {},
   "outputs": [],
   "source": [
    "dds <- estimateSizeFactors(dds)"
   ]
  },
  {
   "cell_type": "code",
   "execution_count": 43,
   "metadata": {},
   "outputs": [
    {
     "data": {
      "text/html": [
       "<table>\n",
       "<thead><tr><th></th><th scope=col>rep1</th><th scope=col>rep2</th></tr></thead>\n",
       "<tbody>\n",
       "\t<tr><th scope=row>ENSG00000223972</th><td> 1.779395</td><td> 0.0000  </td></tr>\n",
       "\t<tr><th scope=row>ENSG00000227232</th><td>40.036384</td><td>40.4632  </td></tr>\n",
       "\t<tr><th scope=row>ENSG00000243485</th><td> 2.669092</td><td> 0.0000  </td></tr>\n",
       "\t<tr><th scope=row>ENSG00000237613</th><td> 0.000000</td><td> 0.0000  </td></tr>\n",
       "\t<tr><th scope=row>ENSG00000268020</th><td> 0.000000</td><td> 0.0000  </td></tr>\n",
       "\t<tr><th scope=row>ENSG00000240361</th><td> 0.000000</td><td> 0.0000  </td></tr>\n",
       "</tbody>\n",
       "</table>\n"
      ],
      "text/latex": [
       "\\begin{tabular}{r|ll}\n",
       "  & rep1 & rep2\\\\\n",
       "\\hline\n",
       "\tENSG00000223972 &  1.779395 &  0.0000  \\\\\n",
       "\tENSG00000227232 & 40.036384 & 40.4632  \\\\\n",
       "\tENSG00000243485 &  2.669092 &  0.0000  \\\\\n",
       "\tENSG00000237613 &  0.000000 &  0.0000  \\\\\n",
       "\tENSG00000268020 &  0.000000 &  0.0000  \\\\\n",
       "\tENSG00000240361 &  0.000000 &  0.0000  \\\\\n",
       "\\end{tabular}\n"
      ],
      "text/markdown": [
       "\n",
       "| <!--/--> | rep1 | rep2 | \n",
       "|---|---|---|---|---|---|\n",
       "| ENSG00000223972 |  1.779395 |  0.0000   | \n",
       "| ENSG00000227232 | 40.036384 | 40.4632   | \n",
       "| ENSG00000243485 |  2.669092 |  0.0000   | \n",
       "| ENSG00000237613 |  0.000000 |  0.0000   | \n",
       "| ENSG00000268020 |  0.000000 |  0.0000   | \n",
       "| ENSG00000240361 |  0.000000 |  0.0000   | \n",
       "\n",
       "\n"
      ],
      "text/plain": [
       "                rep1      rep2   \n",
       "ENSG00000223972  1.779395  0.0000\n",
       "ENSG00000227232 40.036384 40.4632\n",
       "ENSG00000243485  2.669092  0.0000\n",
       "ENSG00000237613  0.000000  0.0000\n",
       "ENSG00000268020  0.000000  0.0000\n",
       "ENSG00000240361  0.000000  0.0000"
      ]
     },
     "metadata": {},
     "output_type": "display_data"
    }
   ],
   "source": [
    "human_counts <- counts(dds, normalized=TRUE)\n",
    "head(human_counts)"
   ]
  },
  {
   "cell_type": "markdown",
   "metadata": {},
   "source": [
    "### mouse"
   ]
  },
  {
   "cell_type": "code",
   "execution_count": 44,
   "metadata": {},
   "outputs": [],
   "source": [
    "dds <- DESeqDataSetFromMatrix(countData = mouse_cts,\n",
    "                              colData = mouse_cols,\n",
    "                              design = ~ condition)"
   ]
  },
  {
   "cell_type": "code",
   "execution_count": 45,
   "metadata": {},
   "outputs": [],
   "source": [
    "dds <- estimateSizeFactors(dds)"
   ]
  },
  {
   "cell_type": "code",
   "execution_count": 46,
   "metadata": {},
   "outputs": [
    {
     "data": {
      "text/html": [
       "<table>\n",
       "<thead><tr><th></th><th scope=col>rep1</th><th scope=col>rep2</th><th scope=col>rep3</th></tr></thead>\n",
       "<tbody>\n",
       "\t<tr><th scope=row>ENSMUSG00000102693</th><td>0.00000 </td><td>0.000000</td><td>0.000000</td></tr>\n",
       "\t<tr><th scope=row>ENSMUSG00000064842</th><td>0.00000 </td><td>0.000000</td><td>0.000000</td></tr>\n",
       "\t<tr><th scope=row>ENSMUSG00000051951</th><td>2.24968 </td><td>2.140842</td><td>1.654602</td></tr>\n",
       "\t<tr><th scope=row>ENSMUSG00000102851</th><td>0.00000 </td><td>0.000000</td><td>0.000000</td></tr>\n",
       "\t<tr><th scope=row>ENSMUSG00000103377</th><td>0.00000 </td><td>0.000000</td><td>0.000000</td></tr>\n",
       "\t<tr><th scope=row>ENSMUSG00000104017</th><td>0.00000 </td><td>0.000000</td><td>0.000000</td></tr>\n",
       "</tbody>\n",
       "</table>\n"
      ],
      "text/latex": [
       "\\begin{tabular}{r|lll}\n",
       "  & rep1 & rep2 & rep3\\\\\n",
       "\\hline\n",
       "\tENSMUSG00000102693 & 0.00000  & 0.000000 & 0.000000\\\\\n",
       "\tENSMUSG00000064842 & 0.00000  & 0.000000 & 0.000000\\\\\n",
       "\tENSMUSG00000051951 & 2.24968  & 2.140842 & 1.654602\\\\\n",
       "\tENSMUSG00000102851 & 0.00000  & 0.000000 & 0.000000\\\\\n",
       "\tENSMUSG00000103377 & 0.00000  & 0.000000 & 0.000000\\\\\n",
       "\tENSMUSG00000104017 & 0.00000  & 0.000000 & 0.000000\\\\\n",
       "\\end{tabular}\n"
      ],
      "text/markdown": [
       "\n",
       "| <!--/--> | rep1 | rep2 | rep3 | \n",
       "|---|---|---|---|---|---|\n",
       "| ENSMUSG00000102693 | 0.00000  | 0.000000 | 0.000000 | \n",
       "| ENSMUSG00000064842 | 0.00000  | 0.000000 | 0.000000 | \n",
       "| ENSMUSG00000051951 | 2.24968  | 2.140842 | 1.654602 | \n",
       "| ENSMUSG00000102851 | 0.00000  | 0.000000 | 0.000000 | \n",
       "| ENSMUSG00000103377 | 0.00000  | 0.000000 | 0.000000 | \n",
       "| ENSMUSG00000104017 | 0.00000  | 0.000000 | 0.000000 | \n",
       "\n",
       "\n"
      ],
      "text/plain": [
       "                   rep1    rep2     rep3    \n",
       "ENSMUSG00000102693 0.00000 0.000000 0.000000\n",
       "ENSMUSG00000064842 0.00000 0.000000 0.000000\n",
       "ENSMUSG00000051951 2.24968 2.140842 1.654602\n",
       "ENSMUSG00000102851 0.00000 0.000000 0.000000\n",
       "ENSMUSG00000103377 0.00000 0.000000 0.000000\n",
       "ENSMUSG00000104017 0.00000 0.000000 0.000000"
      ]
     },
     "metadata": {},
     "output_type": "display_data"
    }
   ],
   "source": [
    "mouse_counts <- counts(dds, normalized=TRUE)\n",
    "head(mouse_counts)"
   ]
  },
  {
   "cell_type": "markdown",
   "metadata": {},
   "source": [
    "## 2. DE analysis"
   ]
  },
  {
   "cell_type": "code",
   "execution_count": 28,
   "metadata": {},
   "outputs": [
    {
     "data": {
      "text/plain": [
       "class: DESeqDataSet \n",
       "dim: 19858 5 \n",
       "metadata(1): version\n",
       "assays(1): counts\n",
       "rownames(19858): ENSG00000187634__ENSMUSG00000096351\n",
       "  ENSG00000188976__ENSMUSG00000095567 ...\n",
       "  ENSG00000198695__ENSMUSG00000064368\n",
       "  ENSG00000198727__ENSMUSG00000064370\n",
       "rowData names(0):\n",
       "colnames(5): hESC_rep1 hESC_rep2 mESC_rep1 mESC_rep2 mESC_rep3\n",
       "colData names(2): condition sample"
      ]
     },
     "metadata": {},
     "output_type": "display_data"
    }
   ],
   "source": [
    "dds <- DESeqDataSetFromMatrix(countData = orth_cts,\n",
    "                              colData = orth_cols,\n",
    "                              design = ~ condition)\n",
    "dds$condition <- factor(dds$condition, levels = c(\"mESC\",\"hESC\"))\n",
    "dds"
   ]
  },
  {
   "cell_type": "code",
   "execution_count": 29,
   "metadata": {},
   "outputs": [
    {
     "name": "stderr",
     "output_type": "stream",
     "text": [
      "estimating size factors\n",
      "estimating dispersions\n",
      "gene-wise dispersion estimates\n",
      "mean-dispersion relationship\n",
      "final dispersion estimates\n",
      "fitting model and testing\n"
     ]
    }
   ],
   "source": [
    "dds <- DESeq(dds)"
   ]
  },
  {
   "cell_type": "code",
   "execution_count": 30,
   "metadata": {},
   "outputs": [],
   "source": [
    "res <- results(dds)"
   ]
  },
  {
   "cell_type": "code",
   "execution_count": 31,
   "metadata": {},
   "outputs": [
    {
     "data": {
      "text/plain": [
       "log2 fold change (MLE): condition hESC vs mESC \n",
       "Wald test p-value: condition hESC vs mESC \n",
       "DataFrame with 6 rows and 6 columns\n",
       "                                            baseMean     log2FoldChange\n",
       "                                           <numeric>          <numeric>\n",
       "ENSG00000187634__ENSMUSG00000096351 36.3062016040511   3.69220902547634\n",
       "ENSG00000188976__ENSMUSG00000095567 11320.6474582461  -1.32518107198941\n",
       "ENSG00000187961__ENSMUSG00000078485 791.289115675006   0.20848612443869\n",
       "ENSG00000187642__ENSMUSG00000078486 16.8147820929601  -1.60668673084835\n",
       "ENSG00000187608__ENSMUSG00000035692 218.027475136062   6.71212814496017\n",
       "ENSG00000188157__ENSMUSG00000041936 16112.5688409354 -0.660529905706031\n",
       "                                                 lfcSE              stat\n",
       "                                             <numeric>         <numeric>\n",
       "ENSG00000187634__ENSMUSG00000096351  0.558542946013168  6.61042996215602\n",
       "ENSG00000188976__ENSMUSG00000095567  0.103734993255875 -12.7746773812448\n",
       "ENSG00000187961__ENSMUSG00000078485  0.112457370667693  1.85391249324829\n",
       "ENSG00000187642__ENSMUSG00000078486  0.778087327136378  -2.0649182615035\n",
       "ENSG00000187608__ENSMUSG00000035692  0.420436304520087  15.9646730617657\n",
       "ENSG00000188157__ENSMUSG00000041936 0.0474116156655863 -13.9318159997968\n",
       "                                                  pvalue                 padj\n",
       "                                               <numeric>            <numeric>\n",
       "ENSG00000187634__ENSMUSG00000096351 3.83205384804791e-11  7.5497674947919e-11\n",
       "ENSG00000188976__ENSMUSG00000095567 2.27087342170393e-37 8.35373379837151e-37\n",
       "ENSG00000187961__ENSMUSG00000078485   0.0637516802485371   0.0796688350030405\n",
       "ENSG00000187642__ENSMUSG00000078486   0.0389307349086792   0.0496725977018672\n",
       "ENSG00000187608__ENSMUSG00000035692 2.25218717126726e-57 1.12819843345724e-56\n",
       "ENSG00000188157__ENSMUSG00000041936 4.05902053783301e-44 1.67091913895344e-43"
      ]
     },
     "metadata": {},
     "output_type": "display_data"
    }
   ],
   "source": [
    "head(res)"
   ]
  },
  {
   "cell_type": "code",
   "execution_count": 33,
   "metadata": {},
   "outputs": [
    {
     "data": {
      "text/html": [
       "<table>\n",
       "<thead><tr><th></th><th scope=col>hESC_rep1</th><th scope=col>hESC_rep2</th><th scope=col>mESC_rep1</th><th scope=col>mESC_rep2</th><th scope=col>mESC_rep3</th></tr></thead>\n",
       "<tbody>\n",
       "\t<tr><th scope=row>ENSG00000187634__ENSMUSG00000096351</th><td>   83.67935 </td><td>   79.231477</td><td>    5.435120</td><td>    5.175746</td><td>    8.009315</td></tr>\n",
       "\t<tr><th scope=row>ENSG00000188976__ENSMUSG00000095567</th><td> 6687.91109 </td><td> 5203.261186</td><td>14972.669086</td><td>14729.139239</td><td>15010.256691</td></tr>\n",
       "\t<tr><th scope=row>ENSG00000187961__ENSMUSG00000078485</th><td>  896.56446 </td><td>  824.243874</td><td>  714.174792</td><td>  777.397116</td><td>  744.065336</td></tr>\n",
       "\t<tr><th scope=row>ENSG00000187642__ENSMUSG00000078486</th><td>   10.11509 </td><td>    4.730237</td><td>   30.436673</td><td>   22.773284</td><td>   16.018629</td></tr>\n",
       "\t<tr><th scope=row>ENSG00000187608__ENSMUSG00000035692</th><td>  502.07610 </td><td>  572.358731</td><td>    6.522144</td><td>    5.175746</td><td>    4.004657</td></tr>\n",
       "\t<tr><th scope=row>ENSG00000188157__ENSMUSG00000041936</th><td>11861.31791 </td><td>12039.636850</td><td>18455.494101</td><td>19045.711775</td><td>19160.683572</td></tr>\n",
       "</tbody>\n",
       "</table>\n"
      ],
      "text/latex": [
       "\\begin{tabular}{r|lllll}\n",
       "  & hESC\\_rep1 & hESC\\_rep2 & mESC\\_rep1 & mESC\\_rep2 & mESC\\_rep3\\\\\n",
       "\\hline\n",
       "\tENSG00000187634\\_\\_ENSMUSG00000096351 &    83.67935  &    79.231477 &     5.435120 &     5.175746 &     8.009315\\\\\n",
       "\tENSG00000188976\\_\\_ENSMUSG00000095567 &  6687.91109  &  5203.261186 & 14972.669086 & 14729.139239 & 15010.256691\\\\\n",
       "\tENSG00000187961\\_\\_ENSMUSG00000078485 &   896.56446  &   824.243874 &   714.174792 &   777.397116 &   744.065336\\\\\n",
       "\tENSG00000187642\\_\\_ENSMUSG00000078486 &    10.11509  &     4.730237 &    30.436673 &    22.773284 &    16.018629\\\\\n",
       "\tENSG00000187608\\_\\_ENSMUSG00000035692 &   502.07610  &   572.358731 &     6.522144 &     5.175746 &     4.004657\\\\\n",
       "\tENSG00000188157\\_\\_ENSMUSG00000041936 & 11861.31791  & 12039.636850 & 18455.494101 & 19045.711775 & 19160.683572\\\\\n",
       "\\end{tabular}\n"
      ],
      "text/markdown": [
       "\n",
       "| <!--/--> | hESC_rep1 | hESC_rep2 | mESC_rep1 | mESC_rep2 | mESC_rep3 | \n",
       "|---|---|---|---|---|---|\n",
       "| ENSG00000187634__ENSMUSG00000096351 |    83.67935  |    79.231477 |     5.435120 |     5.175746 |     8.009315 | \n",
       "| ENSG00000188976__ENSMUSG00000095567 |  6687.91109  |  5203.261186 | 14972.669086 | 14729.139239 | 15010.256691 | \n",
       "| ENSG00000187961__ENSMUSG00000078485 |   896.56446  |   824.243874 |   714.174792 |   777.397116 |   744.065336 | \n",
       "| ENSG00000187642__ENSMUSG00000078486 |    10.11509  |     4.730237 |    30.436673 |    22.773284 |    16.018629 | \n",
       "| ENSG00000187608__ENSMUSG00000035692 |   502.07610  |   572.358731 |     6.522144 |     5.175746 |     4.004657 | \n",
       "| ENSG00000188157__ENSMUSG00000041936 | 11861.31791  | 12039.636850 | 18455.494101 | 19045.711775 | 19160.683572 | \n",
       "\n",
       "\n"
      ],
      "text/plain": [
       "                                    hESC_rep1   hESC_rep2    mESC_rep1   \n",
       "ENSG00000187634__ENSMUSG00000096351    83.67935    79.231477     5.435120\n",
       "ENSG00000188976__ENSMUSG00000095567  6687.91109  5203.261186 14972.669086\n",
       "ENSG00000187961__ENSMUSG00000078485   896.56446   824.243874   714.174792\n",
       "ENSG00000187642__ENSMUSG00000078486    10.11509     4.730237    30.436673\n",
       "ENSG00000187608__ENSMUSG00000035692   502.07610   572.358731     6.522144\n",
       "ENSG00000188157__ENSMUSG00000041936 11861.31791 12039.636850 18455.494101\n",
       "                                    mESC_rep2    mESC_rep3   \n",
       "ENSG00000187634__ENSMUSG00000096351     5.175746     8.009315\n",
       "ENSG00000188976__ENSMUSG00000095567 14729.139239 15010.256691\n",
       "ENSG00000187961__ENSMUSG00000078485   777.397116   744.065336\n",
       "ENSG00000187642__ENSMUSG00000078486    22.773284    16.018629\n",
       "ENSG00000187608__ENSMUSG00000035692     5.175746     4.004657\n",
       "ENSG00000188157__ENSMUSG00000041936 19045.711775 19160.683572"
      ]
     },
     "metadata": {},
     "output_type": "display_data"
    }
   ],
   "source": [
    "counts <- counts(dds, normalized=TRUE)\n",
    "head(counts)"
   ]
  },
  {
   "cell_type": "markdown",
   "metadata": {},
   "source": [
    "## 3. write files"
   ]
  },
  {
   "cell_type": "code",
   "execution_count": 47,
   "metadata": {},
   "outputs": [],
   "source": [
    "write.table(human_counts, file = \"../../../data/03__rna_seq/03__diff_expr/hESC.tpm.txt\", sep = \"\\t\",\n",
    "            quote = FALSE)"
   ]
  },
  {
   "cell_type": "code",
   "execution_count": 48,
   "metadata": {},
   "outputs": [],
   "source": [
    "write.table(mouse_counts, file = \"../../../data/03__rna_seq/03__diff_expr/mESC.tpm.txt\", sep = \"\\t\",\n",
    "            quote = FALSE)"
   ]
  },
  {
   "cell_type": "code",
   "execution_count": 32,
   "metadata": {},
   "outputs": [],
   "source": [
    "write.table(res, file = \"../../../data/03__rna_seq/03__diff_expr/orth.DESeq2.txt\", sep = \"\\t\",\n",
    "            quote = FALSE)"
   ]
  },
  {
   "cell_type": "code",
   "execution_count": 34,
   "metadata": {},
   "outputs": [],
   "source": [
    "write.table(counts, file = \"../../../data/03__rna_seq/03__diff_expr/orth.tpm.txt\", sep = \"\\t\",\n",
    "            quote = FALSE)"
   ]
  },
  {
   "cell_type": "code",
   "execution_count": null,
   "metadata": {},
   "outputs": [],
   "source": []
  }
 ],
 "metadata": {
  "kernelspec": {
   "display_name": "R",
   "language": "R",
   "name": "ir"
  },
  "language_info": {
   "codemirror_mode": "r",
   "file_extension": ".r",
   "mimetype": "text/x-r-source",
   "name": "R",
   "pygments_lexer": "r",
   "version": "3.5.1"
  }
 },
 "nbformat": 4,
 "nbformat_minor": 2
}
