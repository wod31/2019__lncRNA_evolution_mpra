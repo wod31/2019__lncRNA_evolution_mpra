{
 "cells": [
  {
   "cell_type": "markdown",
   "metadata": {},
   "source": [
    "# notebook to reformat cisbp files to meme and other issues\n",
    "[all based on the files in the 2018 Lambert et al review \"The Human Transcription Factors\"]"
   ]
  },
  {
   "cell_type": "code",
   "execution_count": 1,
   "metadata": {
    "collapsed": true
   },
   "outputs": [],
   "source": [
    "import numpy as np\n",
    "import os\n",
    "import pandas as pd\n",
    "import sys"
   ]
  },
  {
   "cell_type": "markdown",
   "metadata": {},
   "source": [
    "## variables"
   ]
  },
  {
   "cell_type": "code",
   "execution_count": 2,
   "metadata": {
    "collapsed": true
   },
   "outputs": [],
   "source": [
    "tf_info_f = \"00__metadata/TF_info.txt\"\n",
    "motif_info_f = \"00__metadata/motif_info.txt\""
   ]
  },
  {
   "cell_type": "code",
   "execution_count": 3,
   "metadata": {
    "collapsed": true
   },
   "outputs": [],
   "source": [
    "pwm_dir = \"01__pwms\""
   ]
  },
  {
   "cell_type": "markdown",
   "metadata": {},
   "source": [
    "## 1. import data"
   ]
  },
  {
   "cell_type": "code",
   "execution_count": 4,
   "metadata": {},
   "outputs": [
    {
     "data": {
      "text/html": [
       "<div>\n",
       "<style>\n",
       "    .dataframe thead tr:only-child th {\n",
       "        text-align: right;\n",
       "    }\n",
       "\n",
       "    .dataframe thead th {\n",
       "        text-align: left;\n",
       "    }\n",
       "\n",
       "    .dataframe tbody tr th {\n",
       "        vertical-align: top;\n",
       "    }\n",
       "</style>\n",
       "<table border=\"1\" class=\"dataframe\">\n",
       "  <thead>\n",
       "    <tr style=\"text-align: right;\">\n",
       "      <th></th>\n",
       "      <th>Ensembl ID</th>\n",
       "      <th>HGNC symbol</th>\n",
       "      <th>DBD</th>\n",
       "      <th>Is TF?</th>\n",
       "      <th>TF assessment</th>\n",
       "      <th>Binding mode</th>\n",
       "      <th>Motif status</th>\n",
       "      <th>Final Notes</th>\n",
       "      <th>Final Comments</th>\n",
       "      <th>Interpro ID(s)</th>\n",
       "      <th>...</th>\n",
       "      <th>Vaquerizas 2009 classification</th>\n",
       "      <th>CisBP considers it a TF?</th>\n",
       "      <th>TFCat classification</th>\n",
       "      <th>Is a GO TF?</th>\n",
       "      <th>Initial assessment</th>\n",
       "      <th>Curator 1</th>\n",
       "      <th>Curator 2</th>\n",
       "      <th>TFclass considers it a TF?</th>\n",
       "      <th>Go Evidence</th>\n",
       "      <th>Pfam Domains (By ENSP ID)</th>\n",
       "    </tr>\n",
       "  </thead>\n",
       "  <tbody>\n",
       "    <tr>\n",
       "      <th>0</th>\n",
       "      <td>ENSG00000137203</td>\n",
       "      <td>TFAP2A</td>\n",
       "      <td>AP-2</td>\n",
       "      <td>Yes</td>\n",
       "      <td>Known motif</td>\n",
       "      <td>Monomer or homomultimer</td>\n",
       "      <td>High-throughput in vitro</td>\n",
       "      <td>NaN</td>\n",
       "      <td>NaN</td>\n",
       "      <td>IPR008121;IPR013854</td>\n",
       "      <td>...</td>\n",
       "      <td>a</td>\n",
       "      <td>Yes</td>\n",
       "      <td>TF Gene_DNA-Binding: sequence-specific_DNA Bin...</td>\n",
       "      <td>Yes</td>\n",
       "      <td>1a1, Direct HQ evidence</td>\n",
       "      <td>Sam Lambert</td>\n",
       "      <td>Yimeng Yin</td>\n",
       "      <td>Yes</td>\n",
       "      <td>$#ENSG00000137203#GO:0000981#sequence-specific...</td>\n",
       "      <td>$#ENSP00000368928#ENSG00000137203#ENST00000379...</td>\n",
       "    </tr>\n",
       "    <tr>\n",
       "      <th>1</th>\n",
       "      <td>ENSG00000008196</td>\n",
       "      <td>TFAP2B</td>\n",
       "      <td>AP-2</td>\n",
       "      <td>Yes</td>\n",
       "      <td>Known motif</td>\n",
       "      <td>Monomer or homomultimer</td>\n",
       "      <td>High-throughput in vitro</td>\n",
       "      <td>NaN</td>\n",
       "      <td>NaN</td>\n",
       "      <td>IPR008122;IPR013854</td>\n",
       "      <td>...</td>\n",
       "      <td>a</td>\n",
       "      <td>Yes</td>\n",
       "      <td>TF Gene_DNA-Binding: sequence-specific_DNA Bin...</td>\n",
       "      <td>Yes</td>\n",
       "      <td>1a1, Direct HQ evidence</td>\n",
       "      <td>Matt Weirauch</td>\n",
       "      <td>Yimeng Yin</td>\n",
       "      <td>Yes</td>\n",
       "      <td>$#ENSG00000008196#GO:0000981#sequence-specific...</td>\n",
       "      <td>$#ENSP00000377265#ENSG00000008196#ENST00000393...</td>\n",
       "    </tr>\n",
       "    <tr>\n",
       "      <th>2</th>\n",
       "      <td>ENSG00000087510</td>\n",
       "      <td>TFAP2C</td>\n",
       "      <td>AP-2</td>\n",
       "      <td>Yes</td>\n",
       "      <td>Known motif</td>\n",
       "      <td>Monomer or homomultimer</td>\n",
       "      <td>High-throughput in vitro</td>\n",
       "      <td>NaN</td>\n",
       "      <td>NaN</td>\n",
       "      <td>IPR008123;IPR013854</td>\n",
       "      <td>...</td>\n",
       "      <td>a</td>\n",
       "      <td>Yes</td>\n",
       "      <td>No</td>\n",
       "      <td>Yes</td>\n",
       "      <td>1a1, Direct HQ evidence</td>\n",
       "      <td>Matt Weirauch</td>\n",
       "      <td>Yimeng Yin</td>\n",
       "      <td>Yes</td>\n",
       "      <td>$#ENSG00000087510#GO:0001077#RNA polymerase II...</td>\n",
       "      <td>$#ENSP00000201031#ENSG00000087510#ENST00000201...</td>\n",
       "    </tr>\n",
       "    <tr>\n",
       "      <th>3</th>\n",
       "      <td>ENSG00000008197</td>\n",
       "      <td>TFAP2D</td>\n",
       "      <td>AP-2</td>\n",
       "      <td>Yes</td>\n",
       "      <td>Known motif</td>\n",
       "      <td>Monomer or homomultimer</td>\n",
       "      <td>In vivo/Misc source</td>\n",
       "      <td>Only known motifs are from Transfac or HocoMoc...</td>\n",
       "      <td>Binds the same GCCTGAGGC sequence as the other...</td>\n",
       "      <td>IPR013854;</td>\n",
       "      <td>...</td>\n",
       "      <td>a</td>\n",
       "      <td>Yes</td>\n",
       "      <td>No</td>\n",
       "      <td>Yes</td>\n",
       "      <td>2a1, Lower confidence direct evidence</td>\n",
       "      <td>Arttu Jolma</td>\n",
       "      <td>Sam Lambert</td>\n",
       "      <td>Yes</td>\n",
       "      <td>$#ENSG00000008197#GO:0000981#sequence-specific...</td>\n",
       "      <td>$#ENSP00000008391#ENSG00000008197#ENST00000008...</td>\n",
       "    </tr>\n",
       "    <tr>\n",
       "      <th>4</th>\n",
       "      <td>ENSG00000116819</td>\n",
       "      <td>TFAP2E</td>\n",
       "      <td>AP-2</td>\n",
       "      <td>Yes</td>\n",
       "      <td>Known motif</td>\n",
       "      <td>Monomer or homomultimer</td>\n",
       "      <td>High-throughput in vitro</td>\n",
       "      <td>NaN</td>\n",
       "      <td>NaN</td>\n",
       "      <td>IPR013854;</td>\n",
       "      <td>...</td>\n",
       "      <td>a</td>\n",
       "      <td>Yes</td>\n",
       "      <td>TF Gene_DNA-Binding: sequence-specific_DNA Bin...</td>\n",
       "      <td>Yes</td>\n",
       "      <td>1a1, Direct HQ evidence</td>\n",
       "      <td>Sam Lambert</td>\n",
       "      <td>Laura Campitelli</td>\n",
       "      <td>Yes</td>\n",
       "      <td>$#ENSG00000116819#GO:0000981#sequence-specific...</td>\n",
       "      <td>$#ENSP00000362332#ENSG00000116819#ENST00000373...</td>\n",
       "    </tr>\n",
       "  </tbody>\n",
       "</table>\n",
       "<p>5 rows × 27 columns</p>\n",
       "</div>"
      ],
      "text/plain": [
       "        Ensembl ID HGNC symbol   DBD Is TF? TF assessment  \\\n",
       "0  ENSG00000137203      TFAP2A  AP-2    Yes   Known motif   \n",
       "1  ENSG00000008196      TFAP2B  AP-2    Yes   Known motif   \n",
       "2  ENSG00000087510      TFAP2C  AP-2    Yes   Known motif   \n",
       "3  ENSG00000008197      TFAP2D  AP-2    Yes   Known motif   \n",
       "4  ENSG00000116819      TFAP2E  AP-2    Yes   Known motif   \n",
       "\n",
       "              Binding mode              Motif status  \\\n",
       "0  Monomer or homomultimer  High-throughput in vitro   \n",
       "1  Monomer or homomultimer  High-throughput in vitro   \n",
       "2  Monomer or homomultimer  High-throughput in vitro   \n",
       "3  Monomer or homomultimer       In vivo/Misc source   \n",
       "4  Monomer or homomultimer  High-throughput in vitro   \n",
       "\n",
       "                                         Final Notes  \\\n",
       "0                                                NaN   \n",
       "1                                                NaN   \n",
       "2                                                NaN   \n",
       "3  Only known motifs are from Transfac or HocoMoc...   \n",
       "4                                                NaN   \n",
       "\n",
       "                                      Final Comments       Interpro ID(s)  \\\n",
       "0                                                NaN  IPR008121;IPR013854   \n",
       "1                                                NaN  IPR008122;IPR013854   \n",
       "2                                                NaN  IPR008123;IPR013854   \n",
       "3  Binds the same GCCTGAGGC sequence as the other...           IPR013854;   \n",
       "4                                                NaN           IPR013854;   \n",
       "\n",
       "                         ...                          \\\n",
       "0                        ...                           \n",
       "1                        ...                           \n",
       "2                        ...                           \n",
       "3                        ...                           \n",
       "4                        ...                           \n",
       "\n",
       "  Vaquerizas 2009 classification CisBP considers it a TF?  \\\n",
       "0                              a                      Yes   \n",
       "1                              a                      Yes   \n",
       "2                              a                      Yes   \n",
       "3                              a                      Yes   \n",
       "4                              a                      Yes   \n",
       "\n",
       "                                TFCat classification Is a GO TF?  \\\n",
       "0  TF Gene_DNA-Binding: sequence-specific_DNA Bin...         Yes   \n",
       "1  TF Gene_DNA-Binding: sequence-specific_DNA Bin...         Yes   \n",
       "2                                                 No         Yes   \n",
       "3                                                 No         Yes   \n",
       "4  TF Gene_DNA-Binding: sequence-specific_DNA Bin...         Yes   \n",
       "\n",
       "                     Initial assessment       Curator 1         Curator 2  \\\n",
       "0                1a1, Direct HQ evidence    Sam Lambert        Yimeng Yin   \n",
       "1                1a1, Direct HQ evidence  Matt Weirauch        Yimeng Yin   \n",
       "2                1a1, Direct HQ evidence  Matt Weirauch        Yimeng Yin   \n",
       "3  2a1, Lower confidence direct evidence    Arttu Jolma       Sam Lambert   \n",
       "4                1a1, Direct HQ evidence    Sam Lambert  Laura Campitelli   \n",
       "\n",
       "  TFclass considers it a TF?   \\\n",
       "0                         Yes   \n",
       "1                         Yes   \n",
       "2                         Yes   \n",
       "3                         Yes   \n",
       "4                         Yes   \n",
       "\n",
       "                                         Go Evidence  \\\n",
       "0  $#ENSG00000137203#GO:0000981#sequence-specific...   \n",
       "1  $#ENSG00000008196#GO:0000981#sequence-specific...   \n",
       "2  $#ENSG00000087510#GO:0001077#RNA polymerase II...   \n",
       "3  $#ENSG00000008197#GO:0000981#sequence-specific...   \n",
       "4  $#ENSG00000116819#GO:0000981#sequence-specific...   \n",
       "\n",
       "                           Pfam Domains (By ENSP ID)  \n",
       "0  $#ENSP00000368928#ENSG00000137203#ENST00000379...  \n",
       "1  $#ENSP00000377265#ENSG00000008196#ENST00000393...  \n",
       "2  $#ENSP00000201031#ENSG00000087510#ENST00000201...  \n",
       "3  $#ENSP00000008391#ENSG00000008197#ENST00000008...  \n",
       "4  $#ENSP00000362332#ENSG00000116819#ENST00000373...  \n",
       "\n",
       "[5 rows x 27 columns]"
      ]
     },
     "execution_count": 4,
     "metadata": {},
     "output_type": "execute_result"
    }
   ],
   "source": [
    "tf_info = pd.read_table(tf_info_f, sep=\"\\t\")\n",
    "tf_info.head()"
   ]
  },
  {
   "cell_type": "code",
   "execution_count": 5,
   "metadata": {},
   "outputs": [
    {
     "data": {
      "text/html": [
       "<div>\n",
       "<style>\n",
       "    .dataframe thead tr:only-child th {\n",
       "        text-align: right;\n",
       "    }\n",
       "\n",
       "    .dataframe thead th {\n",
       "        text-align: left;\n",
       "    }\n",
       "\n",
       "    .dataframe tbody tr th {\n",
       "        vertical-align: top;\n",
       "    }\n",
       "</style>\n",
       "<table border=\"1\" class=\"dataframe\">\n",
       "  <thead>\n",
       "    <tr style=\"text-align: right;\">\n",
       "      <th></th>\n",
       "      <th>Ensembl ID</th>\n",
       "      <th>HGNC symbol</th>\n",
       "      <th>Motif evidence</th>\n",
       "      <th>Motif ID</th>\n",
       "      <th>Motif type</th>\n",
       "      <th>Motif source</th>\n",
       "      <th>CIS-BP ID</th>\n",
       "      <th>Best Motif(s)? (Figure 2A)</th>\n",
       "    </tr>\n",
       "  </thead>\n",
       "  <tbody>\n",
       "    <tr>\n",
       "      <th>0</th>\n",
       "      <td>ENSG00000267281</td>\n",
       "      <td>AC023509.3</td>\n",
       "      <td>Inferred - ATF7 (100% AA Identity, Homo sapiens)</td>\n",
       "      <td>ATF7_eDBD_HT-SELEX</td>\n",
       "      <td>HT-SELEX</td>\n",
       "      <td>Yin2017</td>\n",
       "      <td>M08490_1.94d</td>\n",
       "      <td>True</td>\n",
       "    </tr>\n",
       "    <tr>\n",
       "      <th>1</th>\n",
       "      <td>ENSG00000267281</td>\n",
       "      <td>AC023509.3</td>\n",
       "      <td>Inferred - ATF7 (100% AA Identity, Homo sapiens)</td>\n",
       "      <td>ATF7_eDBD_Methyl-HT-SELEX</td>\n",
       "      <td>Methyl-HT-SELEX</td>\n",
       "      <td>Yin2017</td>\n",
       "      <td>M08491_1.94d</td>\n",
       "      <td>NaN</td>\n",
       "    </tr>\n",
       "    <tr>\n",
       "      <th>2</th>\n",
       "      <td>ENSG00000267281</td>\n",
       "      <td>AC023509.3</td>\n",
       "      <td>Inferred - Atf7 (98% AA Identity, Mus musculus)</td>\n",
       "      <td>3T3L1-Atf7_GSE56872</td>\n",
       "      <td>Misc</td>\n",
       "      <td>HOMER</td>\n",
       "      <td>M06975_1.94d</td>\n",
       "      <td>NaN</td>\n",
       "    </tr>\n",
       "    <tr>\n",
       "      <th>3</th>\n",
       "      <td>ENSG00000264668</td>\n",
       "      <td>AC138696.1</td>\n",
       "      <td>Inferred - ZFP41 (100% AA Identity, Homo sapiens)</td>\n",
       "      <td>ZFP41_FL_HT-SELEX</td>\n",
       "      <td>HT-SELEX</td>\n",
       "      <td>Yin2017</td>\n",
       "      <td>M09315_1.94d</td>\n",
       "      <td>True</td>\n",
       "    </tr>\n",
       "    <tr>\n",
       "      <th>4</th>\n",
       "      <td>ENSG00000264668</td>\n",
       "      <td>AC138696.1</td>\n",
       "      <td>Inferred - ZFP41 (100% AA Identity, Homo sapiens)</td>\n",
       "      <td>ZFP41_FL_Methyl-HT-SELEX</td>\n",
       "      <td>Methyl-HT-SELEX</td>\n",
       "      <td>Yin2017</td>\n",
       "      <td>M09316_1.94d</td>\n",
       "      <td>NaN</td>\n",
       "    </tr>\n",
       "  </tbody>\n",
       "</table>\n",
       "</div>"
      ],
      "text/plain": [
       "        Ensembl ID HGNC symbol  \\\n",
       "0  ENSG00000267281  AC023509.3   \n",
       "1  ENSG00000267281  AC023509.3   \n",
       "2  ENSG00000267281  AC023509.3   \n",
       "3  ENSG00000264668  AC138696.1   \n",
       "4  ENSG00000264668  AC138696.1   \n",
       "\n",
       "                                      Motif evidence  \\\n",
       "0   Inferred - ATF7 (100% AA Identity, Homo sapiens)   \n",
       "1   Inferred - ATF7 (100% AA Identity, Homo sapiens)   \n",
       "2    Inferred - Atf7 (98% AA Identity, Mus musculus)   \n",
       "3  Inferred - ZFP41 (100% AA Identity, Homo sapiens)   \n",
       "4  Inferred - ZFP41 (100% AA Identity, Homo sapiens)   \n",
       "\n",
       "                    Motif ID       Motif type Motif source     CIS-BP ID  \\\n",
       "0         ATF7_eDBD_HT-SELEX         HT-SELEX      Yin2017  M08490_1.94d   \n",
       "1  ATF7_eDBD_Methyl-HT-SELEX  Methyl-HT-SELEX      Yin2017  M08491_1.94d   \n",
       "2        3T3L1-Atf7_GSE56872             Misc        HOMER  M06975_1.94d   \n",
       "3          ZFP41_FL_HT-SELEX         HT-SELEX      Yin2017  M09315_1.94d   \n",
       "4   ZFP41_FL_Methyl-HT-SELEX  Methyl-HT-SELEX      Yin2017  M09316_1.94d   \n",
       "\n",
       "  Best Motif(s)? (Figure 2A)  \n",
       "0                       True  \n",
       "1                        NaN  \n",
       "2                        NaN  \n",
       "3                       True  \n",
       "4                        NaN  "
      ]
     },
     "execution_count": 5,
     "metadata": {},
     "output_type": "execute_result"
    }
   ],
   "source": [
    "motif_info = pd.read_table(motif_info_f, sep=\"\\t\")\n",
    "motif_info = motif_info[~pd.isnull(motif_info['CIS-BP ID'])]\n",
    "motif_info.head()"
   ]
  },
  {
   "cell_type": "markdown",
   "metadata": {},
   "source": [
    "## 2. read in motif files"
   ]
  },
  {
   "cell_type": "code",
   "execution_count": 6,
   "metadata": {
    "collapsed": true
   },
   "outputs": [],
   "source": [
    "motifs = {}"
   ]
  },
  {
   "cell_type": "code",
   "execution_count": 7,
   "metadata": {},
   "outputs": [
    {
     "name": "stdout",
     "output_type": "stream",
     "text": [
      "n files: 5597\n"
     ]
    }
   ],
   "source": [
    "files = os.listdir(pwm_dir)\n",
    "files = [f for f in files if \"README\" not in f]\n",
    "print(\"n files: %s\" % (len(files)))\n",
    "for f in files:\n",
    "    \n",
    "    motif = f.split(\".\")[0]\n",
    "    with open(\"%s/%s\" % (pwm_dir, f)) as fp:\n",
    "        for line in fp:\n",
    "            if line.startswith(\"Pos\"):\n",
    "                continue\n",
    "            info = line.split()\n",
    "            if info[0] == \"1\":\n",
    "                pwm = []\n",
    "\n",
    "            info = line.split()\n",
    "            \n",
    "            # round the pwm info to 5 decimal points\n",
    "            info = [round(float(x), 5) for x in info]\n",
    "            \n",
    "            pwm.append(info[1:])\n",
    "    motifs[motif] = pwm"
   ]
  },
  {
   "cell_type": "code",
   "execution_count": 8,
   "metadata": {},
   "outputs": [
    {
     "data": {
      "text/plain": [
       "['HKR1', 'M00117_1', 'M00118_1', 'M00119_1', 'M00120_1']"
      ]
     },
     "execution_count": 8,
     "metadata": {},
     "output_type": "execute_result"
    }
   ],
   "source": [
    "list(motifs.keys())[0:5]"
   ]
  },
  {
   "cell_type": "code",
   "execution_count": 9,
   "metadata": {},
   "outputs": [
    {
     "data": {
      "text/plain": [
       "[[0.26377, 0.36123, 0.22564, 0.14936],\n",
       " [0.08157, 0.46716, 0.1197, 0.33157],\n",
       " [0.10275, 0.32309, 0.24258, 0.33157],\n",
       " [0.22987, 0.19598, 0.40784, 0.16631],\n",
       " [0.01377, 0.32733, 0.17055, 0.48835],\n",
       " [0.16208, 0.31038, 0.45869, 0.06886],\n",
       " [0.03496, 0.16208, 0.1536, 0.64936],\n",
       " [0.00106, 0.96292, 0.00106, 0.03496],\n",
       " [0.00106, 0.99259, 0.00106, 0.0053],\n",
       " [0.00106, 0.00106, 0.00106, 0.99682],\n",
       " [0.00106, 0.82733, 0.00953, 0.16208],\n",
       " [0.00106, 0.99682, 0.00106, 0.00106],\n",
       " [0.19174, 0.57309, 0.00106, 0.23411],\n",
       " [0.09004, 0.32733, 0.09428, 0.48835],\n",
       " [0.29343, 0.24258, 0.30614, 0.15784],\n",
       " [0.06886, 0.20021, 0.53919, 0.19174],\n",
       " [0.01801, 0.31886, 0.08157, 0.58157],\n",
       " [0.08581, 0.46716, 0.30614, 0.14089],\n",
       " [0.13242, 0.62818, 0.11123, 0.12818],\n",
       " [0.34004, 0.38242, 0.17055, 0.10699],\n",
       " [0.07733, 0.36547, 0.36123, 0.19598]]"
      ]
     },
     "execution_count": 9,
     "metadata": {},
     "output_type": "execute_result"
    }
   ],
   "source": [
    "motifs['HKR1']"
   ]
  },
  {
   "cell_type": "markdown",
   "metadata": {},
   "source": [
    "## 3. map motifs to curated TFs"
   ]
  },
  {
   "cell_type": "code",
   "execution_count": 10,
   "metadata": {},
   "outputs": [
    {
     "data": {
      "text/plain": [
       "1639"
      ]
     },
     "execution_count": 10,
     "metadata": {},
     "output_type": "execute_result"
    }
   ],
   "source": [
    "curated_tfs = set(tf_info[tf_info[\"Is TF?\"] == \"Yes\"][\"Ensembl ID\"])\n",
    "len(curated_tfs)"
   ]
  },
  {
   "cell_type": "code",
   "execution_count": 11,
   "metadata": {},
   "outputs": [
    {
     "name": "stdout",
     "output_type": "stream",
     "text": [
      "bad motif: M06403_1 | len: 22 | sums: [ 1.       1.       1.00001  1.       0.99999  1.       1.       1.00001\n",
      "  1.       1.00001  1.       0.       0.99999  0.99999  0.99999  0.99999\n",
      "  1.       1.       1.       1.       0.99999  1.     ]\n",
      "bad motif: M07090_1 | len: 32 | sums: [ 1.00001  1.       1.00001  1.       1.       1.       1.00001  1.\n",
      "  1.00001  1.       0.       0.99999  0.99999  1.       1.       1.       1.\n",
      "  1.       1.       1.       1.       0.       1.       1.       1.00001\n",
      "  0.99999  0.99999  0.99999  1.       1.       1.       1.     ]\n",
      "bad motif: M07127_1 | len: 50 | sums: [ 1.       1.00001  1.       1.       0.99999  1.       0.99999  1.00001\n",
      "  0.99999  1.       1.00001  1.00001  1.       1.       1.       0.       1.\n",
      "  1.       1.       1.       1.       1.       1.       1.       1.       1.\n",
      "  1.       1.       1.00001  1.       1.       1.       1.       1.       0.\n",
      "  1.       1.00001  1.       1.       1.       1.       1.       0.99999\n",
      "  1.       1.       1.00001  1.       1.       1.       1.     ]\n",
      "bad motif: M07141_1 | len: 23 | sums: [ 1.       1.       1.       1.       1.       1.       1.       0.       1.\n",
      "  1.00001  1.       1.       0.99999  1.       1.       1.       0.99999\n",
      "  0.99999  0.99999  1.       1.       1.       1.00001]\n",
      "bad motif: M10257_1 | len: 19 | sums: [ 1.     1.     1.     1.     1.     0.999  1.     1.     0.     1.     1.\n",
      "  1.001  1.     1.     0.999  1.     1.     1.     1.   ]\n",
      "bad motif: M10277_1 | len: 41 | sums: [ 1.     0.999  1.     1.001  1.     0.999  0.999  1.     1.001  1.     1.001\n",
      "  0.999  1.     1.     1.     0.     0.999  1.     1.     1.     0.999  1.\n",
      "  1.     1.     1.     0.999  1.     0.999  1.     0.     1.     1.     1.\n",
      "  1.     1.     0.999  1.001  1.     0.999  1.     1.   ]\n",
      "bad motif: M10278_1 | len: 25 | sums: [ 1.001  0.999  1.001  1.001  0.999  1.     1.     0.999  1.     1.     1.\n",
      "  1.     1.001  1.     1.001  0.     1.     0.999  1.     1.     1.001  1.\n",
      "  0.999  1.001  1.001]\n",
      "bad motif: M10282_1 | len: 28 | sums: [ 1.       1.       1.       0.999    1.       1.       0.999    1.       0.999\n",
      "  1.       1.       1.       0.       1.00001  1.00001  1.       0.99999\n",
      "  1.       1.       1.       1.       1.       1.       1.       1.       1.\n",
      "  1.       1.     ]\n",
      "bad motif: M10283_1 | len: 45 | sums: [ 1.001  1.001  1.001  1.001  1.001  1.     1.001  0.     1.001  1.001\n",
      "  0.999  1.001  1.     1.     0.999  1.001  1.     0.999  0.999  1.     1.\n",
      "  1.     1.     1.     1.     1.     0.     1.001  1.001  0.999  1.001  1.\n",
      "  1.     0.999  1.001  1.     0.999  0.999  1.     1.     1.     1.     1.\n",
      "  1.     1.   ]\n",
      "bad motif: M10303_1 | len: 26 | sums: [ 0.999  1.     1.     1.     1.     1.     1.     1.001  1.     1.     1.001\n",
      "  1.     0.999  1.     0.999  0.999  1.     0.     1.     1.     0.999  1.\n",
      "  1.     1.001  1.     1.   ]\n",
      "bad motif: M10311_1 | len: 13 | sums: [ 0.8    1.     1.001  1.     1.     1.001  1.     1.001  1.     1.     1.001\n",
      "  1.     1.   ]\n"
     ]
    }
   ],
   "source": [
    "curated_motif_map = {}\n",
    "curated_pwms = {}\n",
    "\n",
    "for key in motifs:\n",
    "    gene = motif_info[motif_info[\"CIS-BP ID\"].str.contains(key)][\"Ensembl ID\"].iloc[0]\n",
    "    gene_name = motif_info[motif_info[\"CIS-BP ID\"].str.contains(key)][\"HGNC symbol\"].iloc[0]\n",
    "    if gene in curated_tfs:\n",
    "        pwm = motifs[key]\n",
    "        \n",
    "        # make sure the pwm sums to 1 in all rows!\n",
    "        arr = np.asarray(pwm, dtype=np.float64)\n",
    "        s = arr.sum(axis=1)\n",
    "        if (s < 0.99).any() or (s > 1.01).any():\n",
    "            print(\"bad motif: %s | len: %s | sums: %s\" % (key, len(pwm), s))\n",
    "        else:\n",
    "            curated_pwms[key] = motifs[key]\n",
    "            curated_motif_map[key] = {\"gene_id\": gene, \"gene_name\": gene_name}"
   ]
  },
  {
   "cell_type": "code",
   "execution_count": 12,
   "metadata": {},
   "outputs": [
    {
     "data": {
      "text/html": [
       "<div>\n",
       "<style>\n",
       "    .dataframe thead tr:only-child th {\n",
       "        text-align: right;\n",
       "    }\n",
       "\n",
       "    .dataframe thead th {\n",
       "        text-align: left;\n",
       "    }\n",
       "\n",
       "    .dataframe tbody tr th {\n",
       "        vertical-align: top;\n",
       "    }\n",
       "</style>\n",
       "<table border=\"1\" class=\"dataframe\">\n",
       "  <thead>\n",
       "    <tr style=\"text-align: right;\">\n",
       "      <th></th>\n",
       "      <th>index</th>\n",
       "      <th>gene_id</th>\n",
       "      <th>gene_name</th>\n",
       "    </tr>\n",
       "  </thead>\n",
       "  <tbody>\n",
       "    <tr>\n",
       "      <th>0</th>\n",
       "      <td>HKR1</td>\n",
       "      <td>ENSG00000181666</td>\n",
       "      <td>HKR1</td>\n",
       "    </tr>\n",
       "    <tr>\n",
       "      <th>1</th>\n",
       "      <td>M00117_1</td>\n",
       "      <td>ENSG00000137203</td>\n",
       "      <td>TFAP2A</td>\n",
       "    </tr>\n",
       "    <tr>\n",
       "      <th>2</th>\n",
       "      <td>M00118_1</td>\n",
       "      <td>ENSG00000137203</td>\n",
       "      <td>TFAP2A</td>\n",
       "    </tr>\n",
       "    <tr>\n",
       "      <th>3</th>\n",
       "      <td>M00119_1</td>\n",
       "      <td>ENSG00000137203</td>\n",
       "      <td>TFAP2A</td>\n",
       "    </tr>\n",
       "    <tr>\n",
       "      <th>4</th>\n",
       "      <td>M00120_1</td>\n",
       "      <td>ENSG00000137203</td>\n",
       "      <td>TFAP2A</td>\n",
       "    </tr>\n",
       "  </tbody>\n",
       "</table>\n",
       "</div>"
      ],
      "text/plain": [
       "      index          gene_id gene_name\n",
       "0      HKR1  ENSG00000181666      HKR1\n",
       "1  M00117_1  ENSG00000137203    TFAP2A\n",
       "2  M00118_1  ENSG00000137203    TFAP2A\n",
       "3  M00119_1  ENSG00000137203    TFAP2A\n",
       "4  M00120_1  ENSG00000137203    TFAP2A"
      ]
     },
     "execution_count": 12,
     "metadata": {},
     "output_type": "execute_result"
    }
   ],
   "source": [
    "curated_motif_map = pd.DataFrame.from_dict(curated_motif_map, orient=\"index\").reset_index()\n",
    "curated_motif_map.head()"
   ]
  },
  {
   "cell_type": "code",
   "execution_count": 13,
   "metadata": {},
   "outputs": [
    {
     "data": {
      "text/plain": [
       "927"
      ]
     },
     "execution_count": 13,
     "metadata": {},
     "output_type": "execute_result"
    }
   ],
   "source": [
    "len(curated_motif_map[\"gene_id\"].unique())"
   ]
  },
  {
   "cell_type": "code",
   "execution_count": 14,
   "metadata": {},
   "outputs": [
    {
     "data": {
      "text/plain": [
       "5586"
      ]
     },
     "execution_count": 14,
     "metadata": {},
     "output_type": "execute_result"
    }
   ],
   "source": [
    "len(curated_motif_map)"
   ]
  },
  {
   "cell_type": "code",
   "execution_count": 15,
   "metadata": {
    "collapsed": true
   },
   "outputs": [],
   "source": [
    "curated_motif_map_f = \"00__metadata/curated_motif_map.txt\"\n",
    "curated_motif_map.to_csv(curated_motif_map_f, sep=\"\\t\", index=False)"
   ]
  },
  {
   "cell_type": "markdown",
   "metadata": {},
   "source": [
    "## 4. convert to MEME format (for FIMO)"
   ]
  },
  {
   "cell_type": "code",
   "execution_count": 16,
   "metadata": {
    "collapsed": true
   },
   "outputs": [],
   "source": [
    "out_f = \"../01__meme_files/human_curated_tfs.txt\"\n",
    "\n",
    "with open(out_f, \"w\") as f:\n",
    "    f.write(\"MEME version 4\\n\\n\")\n",
    "    f.write(\"ALPHABET= ACGT\\n\\n\")\n",
    "    f.write(\"strands: + -\\n\\n\")\n",
    "    f.write(\"Background letter frequencies (from uniform background):\\nA 0.25000 C 0.25000 G 0.25000 T 0.25000\\n\\n\")\n",
    "\n",
    "    # now write the motifs\n",
    "    for key in curated_pwms:\n",
    "        #print(key)\n",
    "\n",
    "        # first find its name\n",
    "        motif_name = curated_motif_map[curated_motif_map[\"index\"] == key][\"gene_name\"].iloc[0]\n",
    "        f.write(\"MOTIF %s %s\\n\\n\" % (key, motif_name))\n",
    "\n",
    "        pwm = curated_pwms[key]\n",
    "        n_bp = len(pwm)\n",
    "        f.write(\"letter-probability matrix: alength= 4 w= %s\\n\" % n_bp)\n",
    "        for pos in pwm:\n",
    "            f.write(\"  %s\\t%s\\t%s\\t%s\\n\" % (round(float(pos[0]), 5), round(float(pos[1]), 5), \n",
    "                                            round(float(pos[2]), 5), round(float(pos[3]), 5)))\n",
    "        f.write(\"\\n\")\n",
    "f.close()"
   ]
  },
  {
   "cell_type": "code",
   "execution_count": null,
   "metadata": {
    "collapsed": true
   },
   "outputs": [],
   "source": []
  }
 ],
 "metadata": {
  "kernelspec": {
   "display_name": "Python 3",
   "language": "python",
   "name": "python3"
  },
  "language_info": {
   "codemirror_mode": {
    "name": "ipython",
    "version": 3
   },
   "file_extension": ".py",
   "mimetype": "text/x-python",
   "name": "python",
   "nbconvert_exporter": "python",
   "pygments_lexer": "ipython3",
   "version": "3.6.3"
  }
 },
 "nbformat": 4,
 "nbformat_minor": 2
}
