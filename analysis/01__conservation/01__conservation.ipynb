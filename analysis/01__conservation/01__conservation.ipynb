{
 "cells": [
  {
   "cell_type": "markdown",
   "metadata": {},
   "source": [
    "# 01__conservation"
   ]
  },
  {
   "cell_type": "code",
   "execution_count": 1,
   "metadata": {},
   "outputs": [],
   "source": [
    "import warnings\n",
    "warnings.filterwarnings('ignore')\n",
    "\n",
    "import pandas as pd\n",
    "import math\n",
    "import matplotlib.pyplot as plt\n",
    "import numpy as np\n",
    "import re\n",
    "import seaborn as sns\n",
    "import sys\n",
    "\n",
    "from scipy.stats import spearmanr\n",
    "\n",
    "# import utils\n",
    "sys.path.append(\"../../utils\")\n",
    "from plotting_utils import *\n",
    "\n",
    "%matplotlib inline\n",
    "%config InlineBackend.figure_format = 'svg'\n",
    "mpl.rcParams['figure.autolayout'] = False"
   ]
  },
  {
   "cell_type": "code",
   "execution_count": 2,
   "metadata": {
    "collapsed": true
   },
   "outputs": [],
   "source": [
    "sns.set(**PAPER_PRESET)\n",
    "fontsize = PAPER_FONTSIZE"
   ]
  },
  {
   "cell_type": "code",
   "execution_count": 3,
   "metadata": {
    "collapsed": true
   },
   "outputs": [],
   "source": [
    "np.random.seed(2019)"
   ]
  },
  {
   "cell_type": "markdown",
   "metadata": {},
   "source": [
    "## functions"
   ]
  },
  {
   "cell_type": "code",
   "execution_count": 4,
   "metadata": {
    "collapsed": true
   },
   "outputs": [],
   "source": [
    "def cleaner_biotype(row, biotype_col):\n",
    "    if row[biotype_col] in [\"protein_coding\", \"div_pc\"]:\n",
    "        return \"mRNA\"\n",
    "    elif row[biotype_col] == \"intergenic\":\n",
    "        return \"lincRNA\"\n",
    "    elif row[biotype_col] in [\"antisense\", \"div_lnc\"]:\n",
    "        return \"lncRNA\"\n",
    "    elif row[biotype_col] == \"enhancer\":\n",
    "        return \"eRNA\"\n",
    "    elif row[biotype_col] == \"no cage activity\":\n",
    "        return \"no CAGE activity\"\n",
    "    else:\n",
    "        return \"other\""
   ]
  },
  {
   "cell_type": "code",
   "execution_count": 5,
   "metadata": {
    "collapsed": true
   },
   "outputs": [],
   "source": [
    "def get_perc(row):\n",
    "    if not pd.isnull(row[\"cage_id\"]):\n",
    "        return (row[\"cage_id\"]/row[\"cage_id_x\"])*100\n",
    "    else:\n",
    "        return (row[\"cage_id_y\"]/row[\"cage_id_x\"])*100"
   ]
  },
  {
   "cell_type": "markdown",
   "metadata": {},
   "source": [
    "## variables"
   ]
  },
  {
   "cell_type": "code",
   "execution_count": 6,
   "metadata": {
    "collapsed": true
   },
   "outputs": [],
   "source": [
    "human_list_f = \"../../data/01__design/00__genome_list/hg19.PEAK_STATUS.txt.gz\"\n",
    "mouse_list_f = \"../../data/01__design/00__genome_list/mm9.PEAK_STATUS.txt.gz\""
   ]
  },
  {
   "cell_type": "markdown",
   "metadata": {},
   "source": [
    "## 1. import data"
   ]
  },
  {
   "cell_type": "code",
   "execution_count": 7,
   "metadata": {},
   "outputs": [
    {
     "data": {
      "text/html": [
       "<div>\n",
       "<style>\n",
       "    .dataframe thead tr:only-child th {\n",
       "        text-align: right;\n",
       "    }\n",
       "\n",
       "    .dataframe thead th {\n",
       "        text-align: left;\n",
       "    }\n",
       "\n",
       "    .dataframe tbody tr th {\n",
       "        vertical-align: top;\n",
       "    }\n",
       "</style>\n",
       "<table border=\"1\" class=\"dataframe\">\n",
       "  <thead>\n",
       "    <tr style=\"text-align: right;\">\n",
       "      <th></th>\n",
       "      <th>cage_id</th>\n",
       "      <th>biotype</th>\n",
       "      <th>seq_ortholog</th>\n",
       "      <th>cage_ortholog</th>\n",
       "      <th>other_sp_biotype</th>\n",
       "    </tr>\n",
       "  </thead>\n",
       "  <tbody>\n",
       "    <tr>\n",
       "      <th>0</th>\n",
       "      <td>chr10:100013403..100013414,-</td>\n",
       "      <td>unassigned</td>\n",
       "      <td>1.0</td>\n",
       "      <td>1.0</td>\n",
       "      <td>unassigned</td>\n",
       "    </tr>\n",
       "    <tr>\n",
       "      <th>1</th>\n",
       "      <td>chr10:100019738-100019959</td>\n",
       "      <td>enhancer</td>\n",
       "      <td>2.0</td>\n",
       "      <td>0.0</td>\n",
       "      <td>no CAGE peak</td>\n",
       "    </tr>\n",
       "    <tr>\n",
       "      <th>2</th>\n",
       "      <td>chr10:100020230-100020246</td>\n",
       "      <td>enhancer</td>\n",
       "      <td>0.0</td>\n",
       "      <td>0.0</td>\n",
       "      <td>no CAGE peak</td>\n",
       "    </tr>\n",
       "    <tr>\n",
       "      <th>3</th>\n",
       "      <td>chr10:100027943..100027958,-</td>\n",
       "      <td>protein_coding</td>\n",
       "      <td>0.0</td>\n",
       "      <td>0.0</td>\n",
       "      <td>no CAGE peak</td>\n",
       "    </tr>\n",
       "    <tr>\n",
       "      <th>4</th>\n",
       "      <td>chr10:100074404-100074582</td>\n",
       "      <td>enhancer</td>\n",
       "      <td>2.0</td>\n",
       "      <td>0.0</td>\n",
       "      <td>no CAGE peak</td>\n",
       "    </tr>\n",
       "  </tbody>\n",
       "</table>\n",
       "</div>"
      ],
      "text/plain": [
       "                        cage_id         biotype  seq_ortholog  cage_ortholog  \\\n",
       "0  chr10:100013403..100013414,-      unassigned           1.0            1.0   \n",
       "1     chr10:100019738-100019959        enhancer           2.0            0.0   \n",
       "2     chr10:100020230-100020246        enhancer           0.0            0.0   \n",
       "3  chr10:100027943..100027958,-  protein_coding           0.0            0.0   \n",
       "4     chr10:100074404-100074582        enhancer           2.0            0.0   \n",
       "\n",
       "  other_sp_biotype  \n",
       "0       unassigned  \n",
       "1     no CAGE peak  \n",
       "2     no CAGE peak  \n",
       "3     no CAGE peak  \n",
       "4     no CAGE peak  "
      ]
     },
     "execution_count": 7,
     "metadata": {},
     "output_type": "execute_result"
    }
   ],
   "source": [
    "human_list = pd.read_table(human_list_f)\n",
    "human_list.head()"
   ]
  },
  {
   "cell_type": "code",
   "execution_count": null,
   "metadata": {},
   "outputs": [
    {
     "data": {
      "text/html": [
       "<div>\n",
       "<style>\n",
       "    .dataframe thead tr:only-child th {\n",
       "        text-align: right;\n",
       "    }\n",
       "\n",
       "    .dataframe thead th {\n",
       "        text-align: left;\n",
       "    }\n",
       "\n",
       "    .dataframe tbody tr th {\n",
       "        vertical-align: top;\n",
       "    }\n",
       "</style>\n",
       "<table border=\"1\" class=\"dataframe\">\n",
       "  <thead>\n",
       "    <tr style=\"text-align: right;\">\n",
       "      <th></th>\n",
       "      <th>cage_id</th>\n",
       "      <th>biotype</th>\n",
       "      <th>seq_ortholog</th>\n",
       "      <th>cage_ortholog</th>\n",
       "      <th>other_sp_biotype</th>\n",
       "    </tr>\n",
       "  </thead>\n",
       "  <tbody>\n",
       "    <tr>\n",
       "      <th>0</th>\n",
       "      <td>chr10:100007025..100007067,+</td>\n",
       "      <td>unassigned</td>\n",
       "      <td>1.0</td>\n",
       "      <td>0.0</td>\n",
       "      <td>no CAGE peak</td>\n",
       "    </tr>\n",
       "    <tr>\n",
       "      <th>1</th>\n",
       "      <td>chr10:100051744..100051765,+</td>\n",
       "      <td>unassigned</td>\n",
       "      <td>1.0</td>\n",
       "      <td>0.0</td>\n",
       "      <td>no CAGE peak</td>\n",
       "    </tr>\n",
       "    <tr>\n",
       "      <th>2</th>\n",
       "      <td>chr10:100051839..100051903,-</td>\n",
       "      <td>unassigned</td>\n",
       "      <td>1.0</td>\n",
       "      <td>1.0</td>\n",
       "      <td>unassigned</td>\n",
       "    </tr>\n",
       "    <tr>\n",
       "      <th>3</th>\n",
       "      <td>chr10:100053047..100053060,-</td>\n",
       "      <td>div_pc</td>\n",
       "      <td>0.0</td>\n",
       "      <td>0.0</td>\n",
       "      <td>no CAGE peak</td>\n",
       "    </tr>\n",
       "    <tr>\n",
       "      <th>4</th>\n",
       "      <td>chr10:100053061..100053066,-</td>\n",
       "      <td>div_pc</td>\n",
       "      <td>1.0</td>\n",
       "      <td>0.0</td>\n",
       "      <td>no CAGE peak</td>\n",
       "    </tr>\n",
       "  </tbody>\n",
       "</table>\n",
       "</div>"
      ],
      "text/plain": [
       "                        cage_id     biotype  seq_ortholog  cage_ortholog  \\\n",
       "0  chr10:100007025..100007067,+  unassigned           1.0            0.0   \n",
       "1  chr10:100051744..100051765,+  unassigned           1.0            0.0   \n",
       "2  chr10:100051839..100051903,-  unassigned           1.0            1.0   \n",
       "3  chr10:100053047..100053060,-      div_pc           0.0            0.0   \n",
       "4  chr10:100053061..100053066,-      div_pc           1.0            0.0   \n",
       "\n",
       "  other_sp_biotype  \n",
       "0     no CAGE peak  \n",
       "1     no CAGE peak  \n",
       "2       unassigned  \n",
       "3     no CAGE peak  \n",
       "4     no CAGE peak  "
      ]
     },
     "execution_count": 8,
     "metadata": {},
     "output_type": "execute_result"
    }
   ],
   "source": [
    "mouse_list = pd.read_table(mouse_list_f)\n",
    "mouse_list.head()"
   ]
  },
  {
   "cell_type": "markdown",
   "metadata": {},
   "source": [
    "## 2. clean biotypes"
   ]
  },
  {
   "cell_type": "code",
   "execution_count": null,
   "metadata": {},
   "outputs": [],
   "source": [
    "human_list[\"clean_biotype_hg19\"] = human_list.apply(cleaner_biotype, biotype_col=\"biotype\", axis=1)\n",
    "human_list[\"clean_biotype_mm9\"] = human_list.apply(cleaner_biotype, biotype_col=\"other_sp_biotype\", axis=1)\n",
    "human_list.sample(5)"
   ]
  },
  {
   "cell_type": "code",
   "execution_count": null,
   "metadata": {},
   "outputs": [],
   "source": [
    "mouse_list[\"clean_biotype_mm9\"] = mouse_list.apply(cleaner_biotype, biotype_col=\"biotype\", axis=1)\n",
    "mouse_list[\"clean_biotype_hg19\"] = mouse_list.apply(cleaner_biotype, biotype_col=\"other_sp_biotype\", axis=1)\n",
    "mouse_list.sample(5)"
   ]
  },
  {
   "cell_type": "code",
   "execution_count": null,
   "metadata": {},
   "outputs": [],
   "source": [
    "human_list.clean_biotype_hg19.value_counts()"
   ]
  },
  {
   "cell_type": "code",
   "execution_count": null,
   "metadata": {},
   "outputs": [],
   "source": [
    "mouse_list.clean_biotype_mm9.value_counts()"
   ]
  },
  {
   "cell_type": "code",
   "execution_count": null,
   "metadata": {},
   "outputs": [],
   "source": [
    "human_list[human_list[\"seq_ortholog\"] == 0].sample(5)"
   ]
  },
  {
   "cell_type": "markdown",
   "metadata": {},
   "source": [
    "## 3. find % sequence conservation"
   ]
  },
  {
   "cell_type": "code",
   "execution_count": null,
   "metadata": {},
   "outputs": [],
   "source": [
    "human_tots = human_list.groupby(\"clean_biotype_hg19\")[\"cage_id\"].agg(\"count\").reset_index()\n",
    "\n",
    "human_tsss = human_list[(human_list[\"clean_biotype_hg19\"] != \"eRNA\") & (human_list[\"seq_ortholog\"] == 1)]\n",
    "human_tss_seqs = human_tsss.groupby(\"clean_biotype_hg19\")[\"cage_id\"].agg(\"count\").reset_index()\n",
    "\n",
    "# make sure we pick enhancers that have both TSSs map\n",
    "human_enhs = human_list[(human_list[\"clean_biotype_hg19\"] == \"eRNA\") & (human_list[\"seq_ortholog\"] >= 2)]\n",
    "human_enh_seqs = human_enhs.groupby(\"clean_biotype_hg19\")[\"cage_id\"].agg(\"count\").reset_index()\n",
    "\n",
    "# merge\n",
    "human_seq_perc = human_tots.merge(human_tss_seqs, \n",
    "                                  on=\"clean_biotype_hg19\", \n",
    "                                  how=\"left\").merge(human_enh_seqs, \n",
    "                                                    on=\"clean_biotype_hg19\", \n",
    "                                                    how=\"left\")\n",
    "human_seq_perc[\"perc\"] = human_seq_perc.apply(get_perc, axis=1)\n",
    "human_seq_perc.head()"
   ]
  },
  {
   "cell_type": "code",
   "execution_count": null,
   "metadata": {},
   "outputs": [],
   "source": [
    "mouse_tots = mouse_list.groupby(\"clean_biotype_mm9\")[\"cage_id\"].agg(\"count\").reset_index()\n",
    "\n",
    "mouse_tsss = mouse_list[(mouse_list[\"clean_biotype_mm9\"] != \"eRNA\") & (mouse_list[\"seq_ortholog\"] == 1)]\n",
    "mouse_tss_seqs = mouse_tsss.groupby(\"clean_biotype_mm9\")[\"cage_id\"].agg(\"count\").reset_index()\n",
    "\n",
    "# make sure we pick enhancers that have both TSSs map\n",
    "mouse_enhs = mouse_list[(mouse_list[\"clean_biotype_mm9\"] == \"eRNA\") & (mouse_list[\"seq_ortholog\"] >= 2)]\n",
    "mouse_enh_seqs = mouse_enhs.groupby(\"clean_biotype_mm9\")[\"cage_id\"].agg(\"count\").reset_index()\n",
    "\n",
    "# merge\n",
    "mouse_seq_perc = mouse_tots.merge(mouse_tss_seqs, \n",
    "                                  on=\"clean_biotype_mm9\", \n",
    "                                  how=\"left\").merge(mouse_enh_seqs, \n",
    "                                                    on=\"clean_biotype_mm9\", \n",
    "                                                    how=\"left\")\n",
    "mouse_seq_perc[\"perc\"] = mouse_seq_perc.apply(get_perc, axis=1)\n",
    "mouse_seq_perc.head()"
   ]
  },
  {
   "cell_type": "markdown",
   "metadata": {},
   "source": [
    "## 4. find % CAGE conservation"
   ]
  },
  {
   "cell_type": "code",
   "execution_count": null,
   "metadata": {},
   "outputs": [],
   "source": [
    "human_tots = human_list.groupby(\"clean_biotype_hg19\")[\"cage_id\"].agg(\"count\").reset_index()\n",
    "\n",
    "human_tsss = human_list[(human_list[\"clean_biotype_hg19\"] != \"eRNA\") & (human_list[\"cage_ortholog\"] == 1)]\n",
    "human_tss_seqs = human_tsss.groupby(\"clean_biotype_hg19\")[\"cage_id\"].agg(\"count\").reset_index()\n",
    "\n",
    "# make sure we pick enhancers that have both TSSs map\n",
    "human_enhs = human_list[(human_list[\"clean_biotype_hg19\"] == \"eRNA\") & (human_list[\"cage_ortholog\"] >= 2)]\n",
    "human_enh_seqs = human_enhs.groupby(\"clean_biotype_hg19\")[\"cage_id\"].agg(\"count\").reset_index()\n",
    "\n",
    "# merge\n",
    "human_cage_perc = human_tots.merge(human_tss_seqs, \n",
    "                                  on=\"clean_biotype_hg19\", \n",
    "                                  how=\"left\").merge(human_enh_seqs, \n",
    "                                                    on=\"clean_biotype_hg19\", \n",
    "                                                    how=\"left\")\n",
    "human_cage_perc[\"perc\"] = human_cage_perc.apply(get_perc, axis=1)\n",
    "human_cage_perc.head()"
   ]
  },
  {
   "cell_type": "code",
   "execution_count": null,
   "metadata": {},
   "outputs": [],
   "source": [
    "mouse_tots = mouse_list.groupby(\"clean_biotype_mm9\")[\"cage_id\"].agg(\"count\").reset_index()\n",
    "\n",
    "mouse_tsss = mouse_list[(mouse_list[\"clean_biotype_mm9\"] != \"eRNA\") & (mouse_list[\"cage_ortholog\"] == 1)]\n",
    "mouse_tss_seqs = mouse_tsss.groupby(\"clean_biotype_mm9\")[\"cage_id\"].agg(\"count\").reset_index()\n",
    "\n",
    "# make sure we pick enhancers that have both TSSs map\n",
    "mouse_enhs = mouse_list[(mouse_list[\"clean_biotype_mm9\"] == \"eRNA\") & (mouse_list[\"cage_ortholog\"] >= 2)]\n",
    "mouse_enh_seqs = mouse_enhs.groupby(\"clean_biotype_mm9\")[\"cage_id\"].agg(\"count\").reset_index()\n",
    "\n",
    "# merge\n",
    "mouse_cage_perc = mouse_tots.merge(mouse_tss_seqs, \n",
    "                                  on=\"clean_biotype_mm9\", \n",
    "                                  how=\"left\").merge(mouse_enh_seqs, \n",
    "                                                    on=\"clean_biotype_mm9\", \n",
    "                                                    how=\"left\")\n",
    "mouse_cage_perc[\"perc\"] = mouse_cage_perc.apply(get_perc, axis=1)\n",
    "mouse_cage_perc.head()"
   ]
  },
  {
   "cell_type": "markdown",
   "metadata": {},
   "source": [
    "## 5. make plots"
   ]
  },
  {
   "cell_type": "code",
   "execution_count": null,
   "metadata": {
    "collapsed": true
   },
   "outputs": [],
   "source": [
    "order = [\"eRNA\", \"lincRNA\", \"lncRNA\", \"mRNA\"]"
   ]
  },
  {
   "cell_type": "code",
   "execution_count": null,
   "metadata": {},
   "outputs": [],
   "source": [
    "fig, axarr = plt.subplots(figsize=(2.3, 1.8), ncols=1, nrows=2, sharex=True, sharey=True)\n",
    "\n",
    "ax = axarr[0]\n",
    "sns.barplot(data=human_seq_perc, x=\"clean_biotype_hg19\", y=\"perc\",\n",
    "            order=order, color=sns.color_palette(\"Set2\")[1], ax=ax)\n",
    "ax.set_xlabel(\"\")\n",
    "ax.set_ylabel(\"% sequence\\northologs\")\n",
    "ax.set_ylim((0, 100))\n",
    "\n",
    "ax = axarr[1]\n",
    "sns.barplot(data=human_cage_perc, x=\"clean_biotype_hg19\", y=\"perc\",\n",
    "            order=order, color=sns.color_palette(\"Set2\")[1], ax=ax)\n",
    "ax.set_xlabel(\"\")\n",
    "ax.set_ylabel(\"% activity\\northologs\")\n",
    "ax.set_xticklabels(order, rotation=50, ha='right', va='top')\n",
    "ax.set_ylim((0, 100))\n",
    "fig.savefig(\"human_orth_percents.pdf\", dpi=\"figure\", bbox_inches=\"tight\")"
   ]
  },
  {
   "cell_type": "code",
   "execution_count": null,
   "metadata": {},
   "outputs": [],
   "source": [
    "fig, axarr = plt.subplots(figsize=(2.3, 1.8), ncols=1, nrows=2, sharex=True, sharey=True)\n",
    "\n",
    "ax = axarr[0]\n",
    "sns.barplot(data=mouse_seq_perc, x=\"clean_biotype_mm9\", y=\"perc\",\n",
    "            order=order, color=sns.color_palette(\"Set2\")[0], ax=ax)\n",
    "ax.set_xlabel(\"\")\n",
    "ax.set_ylabel(\"% sequence\\northologs\")\n",
    "ax.set_ylim((0, 100))\n",
    "\n",
    "ax = axarr[1]\n",
    "sns.barplot(data=mouse_cage_perc, x=\"clean_biotype_mm9\", y=\"perc\",\n",
    "            order=order, color=sns.color_palette(\"Set2\")[0], ax=ax)\n",
    "ax.set_xlabel(\"\")\n",
    "ax.set_ylabel(\"% activity\\northologs\")\n",
    "ax.set_xticklabels(order, rotation=50, ha='right', va='top')\n",
    "ax.set_ylim((0, 100))\n",
    "fig.savefig(\"mouse_orth_percents.pdf\", dpi=\"figure\", bbox_inches=\"tight\")"
   ]
  },
  {
   "cell_type": "code",
   "execution_count": null,
   "metadata": {
    "collapsed": true
   },
   "outputs": [],
   "source": []
  }
 ],
 "metadata": {
  "kernelspec": {
   "display_name": "Python 3",
   "language": "python",
   "name": "python3"
  },
  "language_info": {
   "codemirror_mode": {
    "name": "ipython",
    "version": 3
   },
   "file_extension": ".py",
   "mimetype": "text/x-python",
   "name": "python",
   "nbconvert_exporter": "python",
   "pygments_lexer": "ipython3",
   "version": "3.6.3"
  }
 },
 "nbformat": 4,
 "nbformat_minor": 2
}
