{
 "cells": [
  {
   "cell_type": "markdown",
   "metadata": {},
   "source": [
    "# 05__mpranalyze_compare\n",
    "\n",
    "in this notebook, i run MPRAnalyze in 'compare' mode to get log2 foldchanges and p-values between (a) sequence orthologs and (b) cell types."
   ]
  },
  {
   "cell_type": "code",
   "execution_count": 1,
   "metadata": {},
   "outputs": [
    {
     "name": "stderr",
     "output_type": "stream",
     "text": [
      "Bioconductor version 3.8 (BiocManager 1.30.4), R 3.5.1 (2018-07-02)\n",
      "Installing package(s) 'MPRAnalyze'\n",
      "Updating HTML index of packages in '.Library'\n",
      "Making 'packages.html' ... done\n",
      "Update old packages: 'assertthat', 'backports', 'BH', 'boot', 'broom', 'callr',\n",
      "  'caret', 'class', 'cli', 'clipr', 'cluster', 'codetools', 'colorspace',\n",
      "  'curl', 'data.table', 'dbplyr', 'ddalpha', 'digest', 'dimRed', 'dplyr',\n",
      "  'evaluate', 'fansi', 'forcats', 'formatR', 'geometry', 'ggplot2', 'glmnet',\n",
      "  'glue', 'gower', 'gtable', 'haven', 'hexbin', 'highr', 'htmlwidgets',\n",
      "  'httpuv', 'httr', 'ipred', 'IRdisplay', 'IRkernel', 'jsonlite', 'kernlab',\n",
      "  'knitr', 'later', 'lattice', 'lava', 'lazyeval', 'magic', 'markdown', 'MASS',\n",
      "  'Matrix', 'mgcv', 'mime', 'ModelMetrics', 'modelr', 'nlme', 'numDeriv',\n",
      "  'openssl', 'pillar', 'pkgconfig', 'pls', 'processx', 'progress', 'purrr',\n",
      "  'quantmod', 'R6', 'Rcpp', 'readr', 'readxl', 'recipes', 'repr', 'reprex',\n",
      "  'rlang', 'rmarkdown', 'robustbase', 'rpart', 'rstudioapi', 'rvest', 'scales',\n",
      "  'sfsmisc', 'shiny', 'stringi', 'stringr', 'survival', 'testthat', 'tibble',\n",
      "  'tidyr', 'tidyselect', 'tinytex', 'TTR', 'xfun', 'xtable', 'xts', 'zoo'\n"
     ]
    }
   ],
   "source": [
    "# install MPRAnalyze\n",
    "if (!requireNamespace(\"BiocManager\", quietly = TRUE))\n",
    "  install.packages(\"BiocManager\")\n",
    "BiocManager::install(\"MPRAnalyze\", version = \"3.8\")"
   ]
  },
  {
   "cell_type": "code",
   "execution_count": 2,
   "metadata": {},
   "outputs": [
    {
     "name": "stderr",
     "output_type": "stream",
     "text": [
      "Warning message in install.packages(\"RCurl\"):\n",
      "“installation of package ‘RCurl’ had non-zero exit status”Updating HTML index of packages in '.Library'\n",
      "Making 'packages.html' ... done\n"
     ]
    }
   ],
   "source": [
    "# install RCurl\n",
    "install.packages(\"RCurl\")"
   ]
  },
  {
   "cell_type": "code",
   "execution_count": 3,
   "metadata": {},
   "outputs": [],
   "source": [
    "# load the package\n",
    "library(MPRAnalyze)\n",
    "library(tidyr)"
   ]
  },
  {
   "cell_type": "markdown",
   "metadata": {},
   "source": [
    "## 1. load data\n",
    "\n",
    "### first load data for library depth correction"
   ]
  },
  {
   "cell_type": "code",
   "execution_count": 4,
   "metadata": {},
   "outputs": [],
   "source": [
    "dna_counts_depth <- read.table(\"../../../data/02__mpra/01__counts/mpranalyze_files/dna_counts.for_depth_estimation.mpranalyze.txt\", sep=\"\\t\", header=TRUE)\n",
    "\n",
    "# since we only have 1 dna replicate -- add another so code doesn't crash (expects matrix)\n",
    "dna_counts_depth[\"dna_2\"] <- dna_counts_depth[\"dna_1\"]\n",
    "\n",
    "row.names(dna_counts_depth) <- dna_counts_depth$element\n",
    "dna_counts_depth <- dna_counts_depth[ , !(names(dna_counts_depth) %in% c(\"element\")), drop=FALSE]\n",
    "dna_counts_depth <- as.matrix(dna_counts_depth)"
   ]
  },
  {
   "cell_type": "code",
   "execution_count": 5,
   "metadata": {},
   "outputs": [],
   "source": [
    "rna_counts_depth <- read.table(\"../../../data/02__mpra/01__counts/mpranalyze_files/rna_counts.for_depth_estimation.mpranalyze.txt\", sep=\"\\t\", header=TRUE)\n",
    "row.names(rna_counts_depth) <- rna_counts_depth$element\n",
    "rna_counts_depth <- rna_counts_depth[ , !(names(rna_counts_depth) %in% c(\"element\")), drop=FALSE]\n",
    "rna_counts_depth <- as.matrix(rna_counts_depth)"
   ]
  },
  {
   "cell_type": "code",
   "execution_count": 6,
   "metadata": {},
   "outputs": [
    {
     "data": {
      "text/html": [
       "<table>\n",
       "<thead><tr><th></th><th scope=col>id</th><th scope=col>condition</th><th scope=col>sample</th></tr></thead>\n",
       "<tbody>\n",
       "\t<tr><th scope=row>dna_1</th><td>dna_1</td><td>dna  </td><td>1    </td></tr>\n",
       "\t<tr><th scope=row>dna_2</th><td>dna_2</td><td>dna  </td><td>2    </td></tr>\n",
       "</tbody>\n",
       "</table>\n"
      ],
      "text/latex": [
       "\\begin{tabular}{r|lll}\n",
       "  & id & condition & sample\\\\\n",
       "\\hline\n",
       "\tdna\\_1 & dna\\_1 & dna     & 1      \\\\\n",
       "\tdna\\_2 & dna\\_2 & dna     & 2      \\\\\n",
       "\\end{tabular}\n"
      ],
      "text/markdown": [
       "\n",
       "| <!--/--> | id | condition | sample | \n",
       "|---|---|\n",
       "| dna_1 | dna_1 | dna   | 1     | \n",
       "| dna_2 | dna_2 | dna   | 2     | \n",
       "\n",
       "\n"
      ],
      "text/plain": [
       "      id    condition sample\n",
       "dna_1 dna_1 dna       1     \n",
       "dna_2 dna_2 dna       2     "
      ]
     },
     "metadata": {},
     "output_type": "display_data"
    }
   ],
   "source": [
    "dna_cols_depth <- read.table(\"../../../data/02__mpra/01__counts/mpranalyze_files/dna_col_ann.for_depth_estimation.mpranalyze.txt\", sep=\"\\t\", header=TRUE)\n",
    "names(dna_cols_depth) <- c(\"id\", \"condition\", \"sample\")\n",
    "\n",
    "# add second row to dna_cols_depth\n",
    "row2 <- data.frame(id=\"dna_2\", condition=\"dna\", sample=\"2\")\n",
    "dna_cols_depth <- rbind(dna_cols_depth, row2)\n",
    "row.names(dna_cols_depth) <- dna_cols_depth$id\n",
    "\n",
    "rna_cols_depth <- read.table(\"../../../data/02__mpra/01__counts/mpranalyze_files/rna_col_ann.for_depth_estimation.mpranalyze.txt\", sep=\"\\t\", header=TRUE)\n",
    "names(rna_cols_depth) <- c(\"id\", \"condition\", \"sample\")\n",
    "row.names(rna_cols_depth) <- rna_cols_depth$id\n",
    "dna_cols_depth"
   ]
  },
  {
   "cell_type": "code",
   "execution_count": 7,
   "metadata": {},
   "outputs": [],
   "source": [
    "# make sure everything is a factor\n",
    "dna_cols_depth$sample <- as.factor(dna_cols_depth$sample)\n",
    "rna_cols_depth$sample <- as.factor(rna_cols_depth$sample)\n",
    "dna_cols_depth$condition <- as.factor(dna_cols_depth$condition)\n",
    "rna_cols_depth$condition <- as.factor(rna_cols_depth$condition)"
   ]
  },
  {
   "cell_type": "markdown",
   "metadata": {},
   "source": [
    "### then data to model: first, DNA (same for all models)"
   ]
  },
  {
   "cell_type": "code",
   "execution_count": 8,
   "metadata": {},
   "outputs": [],
   "source": [
    "all_comp_dna_counts <- read.table(\"../../../data/02__mpra/01__counts/mpranalyze_files/dna_counts.all_comp.mpranalyze.txt\", sep=\"\\t\", header=TRUE)\n",
    "row.names(all_comp_dna_counts) <- all_comp_dna_counts$comp_id\n",
    "all_comp_dna_counts <- all_comp_dna_counts[ , !(names(all_comp_dna_counts) %in% c(\"comp_id\"))]\n",
    "all_comp_dna_counts <- as.matrix(all_comp_dna_counts)"
   ]
  },
  {
   "cell_type": "code",
   "execution_count": 9,
   "metadata": {},
   "outputs": [],
   "source": [
    "all_comp_dna_cols <- read.table(\"../../../data/02__mpra/01__counts/mpranalyze_files/dna_col_ann.all_comp.mpranalyze.txt\", sep=\"\\t\", header=TRUE)\n",
    "row.names(all_comp_dna_cols) <- all_comp_dna_cols$X"
   ]
  },
  {
   "cell_type": "code",
   "execution_count": 10,
   "metadata": {},
   "outputs": [],
   "source": [
    "all_comp_dna_cols$barcode <- as.factor(all_comp_dna_cols$barcode)\n",
    "all_comp_dna_cols$sample <- as.factor(all_comp_dna_cols$sample)\n",
    "all_comp_dna_cols$seq <- as.factor(all_comp_dna_cols$seq)\n",
    "all_comp_dna_cols$condition <- as.factor(all_comp_dna_cols$condition)"
   ]
  },
  {
   "cell_type": "markdown",
   "metadata": {},
   "source": [
    "### then controls (same for all models)"
   ]
  },
  {
   "cell_type": "code",
   "execution_count": 11,
   "metadata": {},
   "outputs": [
    {
     "data": {
      "text/html": [
       "<ol class=list-inline>\n",
       "\t<li>FALSE</li>\n",
       "\t<li>FALSE</li>\n",
       "\t<li>FALSE</li>\n",
       "\t<li>FALSE</li>\n",
       "\t<li>FALSE</li>\n",
       "\t<li>FALSE</li>\n",
       "</ol>\n"
      ],
      "text/latex": [
       "\\begin{enumerate*}\n",
       "\\item FALSE\n",
       "\\item FALSE\n",
       "\\item FALSE\n",
       "\\item FALSE\n",
       "\\item FALSE\n",
       "\\item FALSE\n",
       "\\end{enumerate*}\n"
      ],
      "text/markdown": [
       "1. FALSE\n",
       "2. FALSE\n",
       "3. FALSE\n",
       "4. FALSE\n",
       "5. FALSE\n",
       "6. FALSE\n",
       "\n",
       "\n"
      ],
      "text/plain": [
       "[1] FALSE FALSE FALSE FALSE FALSE FALSE"
      ]
     },
     "metadata": {},
     "output_type": "display_data"
    }
   ],
   "source": [
    "all_comp_ctrls <- read.table(\"../../../data/02__mpra/01__counts/mpranalyze_files/ctrl_status.all_comp.mpranalyze.txt\", sep=\"\\t\", header=TRUE)\n",
    "all_comp_ctrls <- as.logical(all_comp_ctrls$ctrl_status)\n",
    "head(all_comp_ctrls)"
   ]
  },
  {
   "cell_type": "code",
   "execution_count": 12,
   "metadata": {},
   "outputs": [
    {
     "data": {
      "text/html": [
       "3679"
      ],
      "text/latex": [
       "3679"
      ],
      "text/markdown": [
       "3679"
      ],
      "text/plain": [
       "[1] 3679"
      ]
     },
     "metadata": {},
     "output_type": "display_data"
    }
   ],
   "source": [
    "length(all_comp_ctrls)"
   ]
  },
  {
   "cell_type": "markdown",
   "metadata": {},
   "source": [
    "### then data to model: native effects"
   ]
  },
  {
   "cell_type": "code",
   "execution_count": 13,
   "metadata": {},
   "outputs": [],
   "source": [
    "native_rna_counts <- read.table(\"../../../data/02__mpra/01__counts/mpranalyze_files/native_rna_counts.seq_comp.mpranalyze.txt\", sep=\"\\t\", header=TRUE)\n",
    "row.names(native_rna_counts) <- native_rna_counts$comp_id\n",
    "native_rna_counts <- native_rna_counts[ , !(names(native_rna_counts) %in% c(\"comp_id\"))]\n",
    "native_rna_counts <- as.matrix(native_rna_counts)"
   ]
  },
  {
   "cell_type": "code",
   "execution_count": 14,
   "metadata": {},
   "outputs": [],
   "source": [
    "native_rna_cols <- read.table(\"../../../data/02__mpra/01__counts/mpranalyze_files/native_col_ann.seq_comp.mpranalyze.txt\", sep=\"\\t\", header=TRUE)\n",
    "row.names(native_rna_cols) <- native_rna_cols$X"
   ]
  },
  {
   "cell_type": "code",
   "execution_count": 15,
   "metadata": {},
   "outputs": [],
   "source": [
    "# make sure everything is a factor\n",
    "native_rna_cols$barcode <- as.factor(native_rna_cols$barcode)\n",
    "native_rna_cols$sample <- as.factor(native_rna_cols$sample)\n",
    "native_rna_cols$seq <- as.factor(native_rna_cols$seq)\n",
    "native_rna_cols$condition <- as.factor(native_rna_cols$condition)"
   ]
  },
  {
   "cell_type": "code",
   "execution_count": 16,
   "metadata": {},
   "outputs": [
    {
     "data": {
      "text/html": [
       "<table>\n",
       "<thead><tr><th></th><th scope=col>X</th><th scope=col>sample</th><th scope=col>condition</th><th scope=col>barcode</th><th scope=col>seq</th></tr></thead>\n",
       "<tbody>\n",
       "\t<tr><th scope=row>samp:HUES64_rep1__barc:10__seq:human</th><td>samp:HUES64_rep1__barc:10__seq:human</td><td>1                                   </td><td>HUES64                              </td><td>10                                  </td><td>human                               </td></tr>\n",
       "\t<tr><th scope=row>samp:HUES64_rep1__barc:11__seq:human</th><td>samp:HUES64_rep1__barc:11__seq:human</td><td>1                                   </td><td>HUES64                              </td><td>11                                  </td><td>human                               </td></tr>\n",
       "\t<tr><th scope=row>samp:HUES64_rep1__barc:12__seq:human</th><td>samp:HUES64_rep1__barc:12__seq:human</td><td>1                                   </td><td>HUES64                              </td><td>12                                  </td><td>human                               </td></tr>\n",
       "\t<tr><th scope=row>samp:HUES64_rep1__barc:13__seq:human</th><td>samp:HUES64_rep1__barc:13__seq:human</td><td>1                                   </td><td>HUES64                              </td><td>13                                  </td><td>human                               </td></tr>\n",
       "\t<tr><th scope=row>samp:HUES64_rep1__barc:1__seq:human</th><td>samp:HUES64_rep1__barc:1__seq:human </td><td>1                                   </td><td>HUES64                              </td><td>1                                   </td><td>human                               </td></tr>\n",
       "\t<tr><th scope=row>samp:HUES64_rep1__barc:2__seq:human</th><td>samp:HUES64_rep1__barc:2__seq:human </td><td>1                                   </td><td>HUES64                              </td><td>2                                   </td><td>human                               </td></tr>\n",
       "</tbody>\n",
       "</table>\n"
      ],
      "text/latex": [
       "\\begin{tabular}{r|lllll}\n",
       "  & X & sample & condition & barcode & seq\\\\\n",
       "\\hline\n",
       "\tsamp:HUES64\\_rep1\\_\\_barc:10\\_\\_seq:human & samp:HUES64\\_rep1\\_\\_barc:10\\_\\_seq:human & 1                                              & HUES64                                         & 10                                             & human                                         \\\\\n",
       "\tsamp:HUES64\\_rep1\\_\\_barc:11\\_\\_seq:human & samp:HUES64\\_rep1\\_\\_barc:11\\_\\_seq:human & 1                                              & HUES64                                         & 11                                             & human                                         \\\\\n",
       "\tsamp:HUES64\\_rep1\\_\\_barc:12\\_\\_seq:human & samp:HUES64\\_rep1\\_\\_barc:12\\_\\_seq:human & 1                                              & HUES64                                         & 12                                             & human                                         \\\\\n",
       "\tsamp:HUES64\\_rep1\\_\\_barc:13\\_\\_seq:human & samp:HUES64\\_rep1\\_\\_barc:13\\_\\_seq:human & 1                                              & HUES64                                         & 13                                             & human                                         \\\\\n",
       "\tsamp:HUES64\\_rep1\\_\\_barc:1\\_\\_seq:human & samp:HUES64\\_rep1\\_\\_barc:1\\_\\_seq:human  & 1                                              & HUES64                                         & 1                                              & human                                         \\\\\n",
       "\tsamp:HUES64\\_rep1\\_\\_barc:2\\_\\_seq:human & samp:HUES64\\_rep1\\_\\_barc:2\\_\\_seq:human  & 1                                              & HUES64                                         & 2                                              & human                                         \\\\\n",
       "\\end{tabular}\n"
      ],
      "text/markdown": [
       "\n",
       "| <!--/--> | X | sample | condition | barcode | seq | \n",
       "|---|---|---|---|---|---|\n",
       "| samp:HUES64_rep1__barc:10__seq:human | samp:HUES64_rep1__barc:10__seq:human | 1                                    | HUES64                               | 10                                   | human                                | \n",
       "| samp:HUES64_rep1__barc:11__seq:human | samp:HUES64_rep1__barc:11__seq:human | 1                                    | HUES64                               | 11                                   | human                                | \n",
       "| samp:HUES64_rep1__barc:12__seq:human | samp:HUES64_rep1__barc:12__seq:human | 1                                    | HUES64                               | 12                                   | human                                | \n",
       "| samp:HUES64_rep1__barc:13__seq:human | samp:HUES64_rep1__barc:13__seq:human | 1                                    | HUES64                               | 13                                   | human                                | \n",
       "| samp:HUES64_rep1__barc:1__seq:human | samp:HUES64_rep1__barc:1__seq:human  | 1                                    | HUES64                               | 1                                    | human                                | \n",
       "| samp:HUES64_rep1__barc:2__seq:human | samp:HUES64_rep1__barc:2__seq:human  | 1                                    | HUES64                               | 2                                    | human                                | \n",
       "\n",
       "\n"
      ],
      "text/plain": [
       "                                     X                                   \n",
       "samp:HUES64_rep1__barc:10__seq:human samp:HUES64_rep1__barc:10__seq:human\n",
       "samp:HUES64_rep1__barc:11__seq:human samp:HUES64_rep1__barc:11__seq:human\n",
       "samp:HUES64_rep1__barc:12__seq:human samp:HUES64_rep1__barc:12__seq:human\n",
       "samp:HUES64_rep1__barc:13__seq:human samp:HUES64_rep1__barc:13__seq:human\n",
       "samp:HUES64_rep1__barc:1__seq:human  samp:HUES64_rep1__barc:1__seq:human \n",
       "samp:HUES64_rep1__barc:2__seq:human  samp:HUES64_rep1__barc:2__seq:human \n",
       "                                     sample condition barcode seq  \n",
       "samp:HUES64_rep1__barc:10__seq:human 1      HUES64    10      human\n",
       "samp:HUES64_rep1__barc:11__seq:human 1      HUES64    11      human\n",
       "samp:HUES64_rep1__barc:12__seq:human 1      HUES64    12      human\n",
       "samp:HUES64_rep1__barc:13__seq:human 1      HUES64    13      human\n",
       "samp:HUES64_rep1__barc:1__seq:human  1      HUES64    1       human\n",
       "samp:HUES64_rep1__barc:2__seq:human  1      HUES64    2       human"
      ]
     },
     "metadata": {},
     "output_type": "display_data"
    }
   ],
   "source": [
    "head(native_rna_cols)"
   ]
  },
  {
   "cell_type": "markdown",
   "metadata": {},
   "source": [
    "### cis+ trans interactions"
   ]
  },
  {
   "cell_type": "code",
   "execution_count": 17,
   "metadata": {},
   "outputs": [],
   "source": [
    "all_rna_counts <- read.table(\"../../../data/02__mpra/01__counts/mpranalyze_files/all_rna_counts.seq_comp.mpranalyze.txt\", sep=\"\\t\", header=TRUE)\n",
    "row.names(all_rna_counts) <- all_rna_counts$comp_id\n",
    "all_rna_counts <- all_rna_counts[ , !(names(all_rna_counts) %in% c(\"comp_id\"))]\n",
    "all_rna_counts <- as.matrix(all_rna_counts)"
   ]
  },
  {
   "cell_type": "code",
   "execution_count": 18,
   "metadata": {},
   "outputs": [],
   "source": [
    "all_rna_cols <- read.table(\"../../../data/02__mpra/01__counts/mpranalyze_files/all_col_ann.seq_comp.mpranalyze.txt\", sep=\"\\t\", header=TRUE)\n",
    "row.names(all_rna_cols) <- all_rna_cols$X"
   ]
  },
  {
   "cell_type": "code",
   "execution_count": 19,
   "metadata": {},
   "outputs": [],
   "source": [
    "# make sure everything is a factor\n",
    "all_rna_cols$barcode <- as.factor(all_rna_cols$barcode)\n",
    "all_rna_cols$sample <- as.factor(all_rna_cols$sample)\n",
    "all_rna_cols$seq <- as.factor(all_rna_cols$seq)\n",
    "all_rna_cols$condition <- as.factor(all_rna_cols$condition)"
   ]
  },
  {
   "cell_type": "markdown",
   "metadata": {},
   "source": [
    "### human/mouse data for cis effects in each cell line"
   ]
  },
  {
   "cell_type": "code",
   "execution_count": 20,
   "metadata": {},
   "outputs": [],
   "source": [
    "# for seq comparisons, load each cell line data separately\n",
    "hues64_rna_counts <- read.table(\"../../../data/02__mpra/01__counts/mpranalyze_files/HUES64_rna_counts.seq_comp.mpranalyze.txt\", sep=\"\\t\", header=TRUE)\n",
    "row.names(hues64_rna_counts) <- hues64_rna_counts$comp_id\n",
    "hues64_rna_counts <- hues64_rna_counts[ , !(names(hues64_rna_counts) %in% c(\"comp_id\"))]\n",
    "hues64_rna_counts <- as.matrix(hues64_rna_counts)\n",
    "\n",
    "mesc_rna_counts <- read.table(\"../../../data/02__mpra/01__counts/mpranalyze_files/mESC_rna_counts.seq_comp.mpranalyze.txt\", sep=\"\\t\", header=TRUE)\n",
    "row.names(mesc_rna_counts) <- mesc_rna_counts$comp_id\n",
    "mesc_rna_counts <- mesc_rna_counts[ , !(names(mesc_rna_counts) %in% c(\"comp_id\"))]\n",
    "mesc_rna_counts <- as.matrix(mesc_rna_counts)"
   ]
  },
  {
   "cell_type": "code",
   "execution_count": 21,
   "metadata": {},
   "outputs": [],
   "source": [
    "hues64_rna_cols <- read.table(\"../../../data/02__mpra/01__counts/mpranalyze_files/HUES64_col_ann.seq_comp.mpranalyze.txt\", sep=\"\\t\", header=TRUE)\n",
    "row.names(hues64_rna_cols) <- hues64_rna_cols$X\n",
    "\n",
    "mesc_rna_cols <- read.table(\"../../../data/02__mpra/01__counts/mpranalyze_files/mESC_col_ann.seq_comp.mpranalyze.txt\", sep=\"\\t\", header=TRUE)\n",
    "row.names(mesc_rna_cols) <- mesc_rna_cols$X"
   ]
  },
  {
   "cell_type": "code",
   "execution_count": 22,
   "metadata": {},
   "outputs": [],
   "source": [
    "# make sure everything is a factor\n",
    "hues64_rna_cols$barcode <- as.factor(hues64_rna_cols$barcode)\n",
    "mesc_rna_cols$barcode <- as.factor(mesc_rna_cols$barcode)\n",
    "\n",
    "hues64_rna_cols$sample <- as.factor(hues64_rna_cols$sample)\n",
    "mesc_rna_cols$sample <- as.factor(mesc_rna_cols$sample)\n",
    "\n",
    "hues64_rna_cols$seq <- as.factor(hues64_rna_cols$seq)\n",
    "mesc_rna_cols$seq <- as.factor(mesc_rna_cols$seq)\n",
    "\n",
    "hues64_rna_cols$condition <- as.factor(hues64_rna_cols$condition)\n",
    "mesc_rna_cols$condition <- as.factor(mesc_rna_cols$condition)"
   ]
  },
  {
   "cell_type": "markdown",
   "metadata": {},
   "source": [
    "### human/mouse data for trans effects of each sequence"
   ]
  },
  {
   "cell_type": "code",
   "execution_count": 23,
   "metadata": {},
   "outputs": [],
   "source": [
    "# for cell comparisons, load each cell line data separately\n",
    "human_rna_counts <- read.table(\"../../../data/02__mpra/01__counts/mpranalyze_files/human_rna_counts.cell_comp.mpranalyze.txt\", sep=\"\\t\", header=TRUE)\n",
    "row.names(human_rna_counts) <- human_rna_counts$comp_id\n",
    "human_rna_counts <- human_rna_counts[ , !(names(human_rna_counts) %in% c(\"comp_id\"))]\n",
    "human_rna_counts <- as.matrix(human_rna_counts)\n",
    "\n",
    "mouse_rna_counts <- read.table(\"../../../data/02__mpra/01__counts/mpranalyze_files/mouse_rna_counts.cell_comp.mpranalyze.txt\", sep=\"\\t\", header=TRUE)\n",
    "row.names(mouse_rna_counts) <- mouse_rna_counts$comp_id\n",
    "mouse_rna_counts <- mouse_rna_counts[ , !(names(mouse_rna_counts) %in% c(\"comp_id\"))]\n",
    "mouse_rna_counts <- as.matrix(mouse_rna_counts)"
   ]
  },
  {
   "cell_type": "code",
   "execution_count": 24,
   "metadata": {},
   "outputs": [],
   "source": [
    "human_rna_cols <- read.table(\"../../../data/02__mpra/01__counts/mpranalyze_files/human_col_ann.cell_comp.mpranalyze.txt\", sep=\"\\t\", header=TRUE)\n",
    "row.names(human_rna_cols) <- human_rna_cols$X\n",
    "\n",
    "mouse_rna_cols <- read.table(\"../../../data/02__mpra/01__counts/mpranalyze_files/mouse_col_ann.cell_comp.mpranalyze.txt\", sep=\"\\t\", header=TRUE)\n",
    "row.names(mouse_rna_cols) <- mouse_rna_cols$X"
   ]
  },
  {
   "cell_type": "code",
   "execution_count": 25,
   "metadata": {},
   "outputs": [],
   "source": [
    "# make sure everything is a factor\n",
    "human_rna_cols$barcode <- as.factor(human_rna_cols$barcode)\n",
    "mouse_rna_cols$barcode <- as.factor(mouse_rna_cols$barcode)\n",
    "\n",
    "human_rna_cols$sample <- as.factor(human_rna_cols$sample)\n",
    "mouse_rna_cols$sample <- as.factor(mouse_rna_cols$sample)\n",
    "\n",
    "human_rna_cols$seq <- as.factor(human_rna_cols$seq)\n",
    "mouse_rna_cols$seq <- as.factor(mouse_rna_cols$seq)\n",
    "\n",
    "human_rna_cols$condition <- as.factor(human_rna_cols$condition)\n",
    "mouse_rna_cols$condition <- as.factor(mouse_rna_cols$condition)"
   ]
  },
  {
   "cell_type": "markdown",
   "metadata": {},
   "source": [
    "## 2. estimate library depth for sample/condition pair\n",
    "\n",
    "since our library has many more sequences than just the TSSs we want to model, estimate the library depth based on the full seq output (or downsampled counts, in HUES64 case), then manually provide this estimation to the model"
   ]
  },
  {
   "cell_type": "code",
   "execution_count": 26,
   "metadata": {},
   "outputs": [],
   "source": [
    "# create MPRA object\n",
    "depth_obj <- MpraObject(dnaCounts = dna_counts_depth, rnaCounts = rna_counts_depth, \n",
    "                        dnaAnnot = dna_cols_depth, rnaAnnot = rna_cols_depth)"
   ]
  },
  {
   "cell_type": "code",
   "execution_count": 27,
   "metadata": {},
   "outputs": [],
   "source": [
    "# estimate depth factors using uq -- here, a sample/condition pair == 1 library\n",
    "depth_obj <- estimateDepthFactors(depth_obj, lib.factor = c(\"sample\", \"condition\"),  depth.estimator='uq',\n",
    "                                  which.lib = \"both\")"
   ]
  },
  {
   "cell_type": "code",
   "execution_count": 28,
   "metadata": {},
   "outputs": [
    {
     "data": {
      "text/html": [
       "<ol class=list-inline>\n",
       "\t<li>1</li>\n",
       "\t<li>0.952685050798258</li>\n",
       "\t<li>1.02271407837446</li>\n",
       "</ol>\n"
      ],
      "text/latex": [
       "\\begin{enumerate*}\n",
       "\\item 1\n",
       "\\item 0.952685050798258\n",
       "\\item 1.02271407837446\n",
       "\\end{enumerate*}\n"
      ],
      "text/markdown": [
       "1. 1\n",
       "2. 0.952685050798258\n",
       "3. 1.02271407837446\n",
       "\n",
       "\n"
      ],
      "text/plain": [
       "[1] 1.0000000 0.9526851 1.0227141"
      ]
     },
     "metadata": {},
     "output_type": "display_data"
    }
   ],
   "source": [
    "rna_depths <- rnaDepth(depth_obj)\n",
    "rna_depths"
   ]
  },
  {
   "cell_type": "code",
   "execution_count": 29,
   "metadata": {},
   "outputs": [
    {
     "data": {
      "text/html": [
       "<table>\n",
       "<thead><tr><th></th><th scope=col>id</th><th scope=col>condition</th><th scope=col>sample</th></tr></thead>\n",
       "<tbody>\n",
       "\t<tr><th scope=row>HUES64_rep1</th><td>HUES64_rep1</td><td>HUES64     </td><td>1          </td></tr>\n",
       "\t<tr><th scope=row>HUES64_rep2</th><td>HUES64_rep2</td><td>HUES64     </td><td>2          </td></tr>\n",
       "\t<tr><th scope=row>mESC_rep1</th><td>mESC_rep1  </td><td>mESC       </td><td>1          </td></tr>\n",
       "</tbody>\n",
       "</table>\n"
      ],
      "text/latex": [
       "\\begin{tabular}{r|lll}\n",
       "  & id & condition & sample\\\\\n",
       "\\hline\n",
       "\tHUES64\\_rep1 & HUES64\\_rep1 & HUES64        & 1            \\\\\n",
       "\tHUES64\\_rep2 & HUES64\\_rep2 & HUES64        & 2            \\\\\n",
       "\tmESC\\_rep1 & mESC\\_rep1   & mESC          & 1            \\\\\n",
       "\\end{tabular}\n"
      ],
      "text/markdown": [
       "\n",
       "| <!--/--> | id | condition | sample | \n",
       "|---|---|---|\n",
       "| HUES64_rep1 | HUES64_rep1 | HUES64      | 1           | \n",
       "| HUES64_rep2 | HUES64_rep2 | HUES64      | 2           | \n",
       "| mESC_rep1 | mESC_rep1   | mESC        | 1           | \n",
       "\n",
       "\n"
      ],
      "text/plain": [
       "            id          condition sample\n",
       "HUES64_rep1 HUES64_rep1 HUES64    1     \n",
       "HUES64_rep2 HUES64_rep2 HUES64    2     \n",
       "mESC_rep1   mESC_rep1   mESC      1     "
      ]
     },
     "metadata": {},
     "output_type": "display_data"
    }
   ],
   "source": [
    "rna_cols_depth"
   ]
  },
  {
   "cell_type": "markdown",
   "metadata": {},
   "source": [
    "## 3. run model to compare native effects"
   ]
  },
  {
   "cell_type": "code",
   "execution_count": 30,
   "metadata": {},
   "outputs": [],
   "source": [
    "# first need to set the dnadepths and rnadepths manually\n",
    "all_comp_dna_cols$depth <- rep(1, nrow(all_comp_dna_cols))\n",
    "\n",
    "# note 13 will change depending how many barcodes there are per element\n",
    "native_rna_cols$depth <- c(rep(rna_depths[1], 13), rep(rna_depths[2], 13), rep(rna_depths[3], 13))"
   ]
  },
  {
   "cell_type": "code",
   "execution_count": 31,
   "metadata": {},
   "outputs": [],
   "source": [
    "# create MPRA object\n",
    "obj <- MpraObject(dnaCounts = all_comp_dna_counts, rnaCounts = native_rna_counts, \n",
    "                  dnaAnnot = all_comp_dna_cols, rnaAnnot = native_rna_cols, controls = all_comp_ctrls)"
   ]
  },
  {
   "cell_type": "code",
   "execution_count": 32,
   "metadata": {},
   "outputs": [],
   "source": [
    "obj <- setDepthFactors(obj, dnaDepth = all_comp_dna_cols$depth, rnaDepth = native_rna_cols$depth)"
   ]
  },
  {
   "cell_type": "code",
   "execution_count": 33,
   "metadata": {},
   "outputs": [
    {
     "name": "stderr",
     "output_type": "stream",
     "text": [
      "Fitting controls-based background model...\n",
      "iter:2\tlog-likelihood:-46145311.4553979\n",
      "iter:3\tlog-likelihood:-46145557.4489102\n",
      "Fitting model...\n",
      "[===========================================================] 100% (3679/3679)\n",
      "Fitting reduced model...\n",
      "Analysis Done!                                                                \n"
     ]
    }
   ],
   "source": [
    "obj <- analyzeComparative(obj = obj, \n",
    "                          dnaDesign = ~ barcode, \n",
    "                          rnaDesign = ~ seq, \n",
    "                          reducedDesign = ~ 1) "
   ]
  },
  {
   "cell_type": "code",
   "execution_count": 34,
   "metadata": {},
   "outputs": [
    {
     "name": "stderr",
     "output_type": "stream",
     "text": [
      "Performing Likelihood Ratio Test...\n"
     ]
    },
    {
     "data": {
      "text/html": [
       "<table>\n",
       "<thead><tr><th></th><th scope=col>statistic</th><th scope=col>pval</th><th scope=col>fdr</th><th scope=col>df.test</th><th scope=col>df.dna</th><th scope=col>df.rna.full</th><th scope=col>df.rna.red</th><th scope=col>logFC</th></tr></thead>\n",
       "<tbody>\n",
       "\t<tr><th scope=row>h.2__div_lnc__m.1__div_lnc</th><td> 0.5392045  </td><td>4.627626e-01</td><td>0.5901225504</td><td>1           </td><td>14          </td><td>5           </td><td>4           </td><td>-0.2762889  </td></tr>\n",
       "\t<tr><th scope=row>h.3__div_lnc__m.2__antisense</th><td>17.1447050  </td><td>3.463736e-05</td><td>0.0002671507</td><td>1           </td><td>13          </td><td>5           </td><td>4           </td><td> 2.1956463  </td></tr>\n",
       "\t<tr><th scope=row>h.4__antisense_upep__m.3__protein_coding</th><td> 2.8309741  </td><td>9.246226e-02</td><td>0.1715424366</td><td>1           </td><td>14          </td><td>5           </td><td>4           </td><td>-0.4941195  </td></tr>\n",
       "\t<tr><th scope=row>h.5__intergenic__m.4__intergenic_upep</th><td> 5.1580876  </td><td>2.313836e-02</td><td>0.0576734652</td><td>1           </td><td>14          </td><td>5           </td><td>4           </td><td> 0.5938779  </td></tr>\n",
       "\t<tr><th scope=row>h.6__intergenic__m.4__intergenic_upep</th><td> 4.7952271  </td><td>2.853869e-02</td><td>0.0687132554</td><td>1           </td><td>14          </td><td>5           </td><td>4           </td><td>-0.5637790  </td></tr>\n",
       "\t<tr><th scope=row>h.7__div_lnc__m.5__div_lnc</th><td> 0.1609846  </td><td>6.882516e-01</td><td>0.7797343993</td><td>1           </td><td>14          </td><td>5           </td><td>4           </td><td> 0.1100849  </td></tr>\n",
       "</tbody>\n",
       "</table>\n"
      ],
      "text/latex": [
       "\\begin{tabular}{r|llllllll}\n",
       "  & statistic & pval & fdr & df.test & df.dna & df.rna.full & df.rna.red & logFC\\\\\n",
       "\\hline\n",
       "\th.2\\_\\_div\\_lnc\\_\\_m.1\\_\\_div\\_lnc &  0.5392045   & 4.627626e-01 & 0.5901225504 & 1            & 14           & 5            & 4            & -0.2762889  \\\\\n",
       "\th.3\\_\\_div\\_lnc\\_\\_m.2\\_\\_antisense & 17.1447050   & 3.463736e-05 & 0.0002671507 & 1            & 13           & 5            & 4            &  2.1956463  \\\\\n",
       "\th.4\\_\\_antisense\\_upep\\_\\_m.3\\_\\_protein\\_coding &  2.8309741   & 9.246226e-02 & 0.1715424366 & 1            & 14           & 5            & 4            & -0.4941195  \\\\\n",
       "\th.5\\_\\_intergenic\\_\\_m.4\\_\\_intergenic\\_upep &  5.1580876   & 2.313836e-02 & 0.0576734652 & 1            & 14           & 5            & 4            &  0.5938779  \\\\\n",
       "\th.6\\_\\_intergenic\\_\\_m.4\\_\\_intergenic\\_upep &  4.7952271   & 2.853869e-02 & 0.0687132554 & 1            & 14           & 5            & 4            & -0.5637790  \\\\\n",
       "\th.7\\_\\_div\\_lnc\\_\\_m.5\\_\\_div\\_lnc &  0.1609846   & 6.882516e-01 & 0.7797343993 & 1            & 14           & 5            & 4            &  0.1100849  \\\\\n",
       "\\end{tabular}\n"
      ],
      "text/markdown": [
       "\n",
       "| <!--/--> | statistic | pval | fdr | df.test | df.dna | df.rna.full | df.rna.red | logFC | \n",
       "|---|---|---|---|---|---|\n",
       "| h.2__div_lnc__m.1__div_lnc |  0.5392045   | 4.627626e-01 | 0.5901225504 | 1            | 14           | 5            | 4            | -0.2762889   | \n",
       "| h.3__div_lnc__m.2__antisense | 17.1447050   | 3.463736e-05 | 0.0002671507 | 1            | 13           | 5            | 4            |  2.1956463   | \n",
       "| h.4__antisense_upep__m.3__protein_coding |  2.8309741   | 9.246226e-02 | 0.1715424366 | 1            | 14           | 5            | 4            | -0.4941195   | \n",
       "| h.5__intergenic__m.4__intergenic_upep |  5.1580876   | 2.313836e-02 | 0.0576734652 | 1            | 14           | 5            | 4            |  0.5938779   | \n",
       "| h.6__intergenic__m.4__intergenic_upep |  4.7952271   | 2.853869e-02 | 0.0687132554 | 1            | 14           | 5            | 4            | -0.5637790   | \n",
       "| h.7__div_lnc__m.5__div_lnc |  0.1609846   | 6.882516e-01 | 0.7797343993 | 1            | 14           | 5            | 4            |  0.1100849   | \n",
       "\n",
       "\n"
      ],
      "text/plain": [
       "                                         statistic  pval         fdr         \n",
       "h.2__div_lnc__m.1__div_lnc                0.5392045 4.627626e-01 0.5901225504\n",
       "h.3__div_lnc__m.2__antisense             17.1447050 3.463736e-05 0.0002671507\n",
       "h.4__antisense_upep__m.3__protein_coding  2.8309741 9.246226e-02 0.1715424366\n",
       "h.5__intergenic__m.4__intergenic_upep     5.1580876 2.313836e-02 0.0576734652\n",
       "h.6__intergenic__m.4__intergenic_upep     4.7952271 2.853869e-02 0.0687132554\n",
       "h.7__div_lnc__m.5__div_lnc                0.1609846 6.882516e-01 0.7797343993\n",
       "                                         df.test df.dna df.rna.full df.rna.red\n",
       "h.2__div_lnc__m.1__div_lnc               1       14     5           4         \n",
       "h.3__div_lnc__m.2__antisense             1       13     5           4         \n",
       "h.4__antisense_upep__m.3__protein_coding 1       14     5           4         \n",
       "h.5__intergenic__m.4__intergenic_upep    1       14     5           4         \n",
       "h.6__intergenic__m.4__intergenic_upep    1       14     5           4         \n",
       "h.7__div_lnc__m.5__div_lnc               1       14     5           4         \n",
       "                                         logFC     \n",
       "h.2__div_lnc__m.1__div_lnc               -0.2762889\n",
       "h.3__div_lnc__m.2__antisense              2.1956463\n",
       "h.4__antisense_upep__m.3__protein_coding -0.4941195\n",
       "h.5__intergenic__m.4__intergenic_upep     0.5938779\n",
       "h.6__intergenic__m.4__intergenic_upep    -0.5637790\n",
       "h.7__div_lnc__m.5__div_lnc                0.1100849"
      ]
     },
     "metadata": {},
     "output_type": "display_data"
    }
   ],
   "source": [
    "native_res <- testLrt(obj)\n",
    "head(native_res)"
   ]
  },
  {
   "cell_type": "code",
   "execution_count": 36,
   "metadata": {},
   "outputs": [
    {
     "data": {
      "image/png": "[encoded data removed]",
      "text/plain": [
       "Plot with title “Histogram of native_res[all_comp_ctrls, ]$pval”"
      ]
     },
     "metadata": {},
     "output_type": "display_data"
    }
   ],
   "source": [
    "hist(native_res[all_comp_ctrls,]$pval)"
   ]
  },
  {
   "cell_type": "code",
   "execution_count": 37,
   "metadata": {},
   "outputs": [
    {
     "data": {
      "image/png": "[encoded data removed]",
      "text/plain": [
       "Plot with title “Histogram of native_res[!all_comp_ctrls, ]$pval”"
      ]
     },
     "metadata": {},
     "output_type": "display_data"
    }
   ],
   "source": [
    "hist(native_res[!all_comp_ctrls,]$pval)"
   ]
  },
  {
   "cell_type": "markdown",
   "metadata": {},
   "source": [
    "## 4. run model to compare seq / condition interactions"
   ]
  },
  {
   "cell_type": "code",
   "execution_count": 38,
   "metadata": {},
   "outputs": [],
   "source": [
    "# note 13 will change depending how many barcodes there are per element\n",
    "all_rna_cols$depth <- c(rep(rna_depths[1], 13*2), rep(rna_depths[2], 13*2), rep(rna_depths[3], 13*2))"
   ]
  },
  {
   "cell_type": "code",
   "execution_count": 39,
   "metadata": {},
   "outputs": [],
   "source": [
    "# create MPRA object\n",
    "obj1 <- MpraObject(dnaCounts = all_comp_dna_counts, rnaCounts = all_rna_counts, \n",
    "                   dnaAnnot = all_comp_dna_cols, rnaAnnot = all_rna_cols, controls = all_comp_ctrls)"
   ]
  },
  {
   "cell_type": "code",
   "execution_count": 40,
   "metadata": {},
   "outputs": [],
   "source": [
    "obj1 <- setDepthFactors(obj1, dnaDepth = all_comp_dna_cols$depth, rnaDepth = all_rna_cols$depth)"
   ]
  },
  {
   "cell_type": "code",
   "execution_count": 41,
   "metadata": {},
   "outputs": [
    {
     "data": {
      "text/html": [
       "<table>\n",
       "<thead><tr><th></th><th scope=col>X</th><th scope=col>sample</th><th scope=col>condition</th><th scope=col>barcode</th><th scope=col>seq</th><th scope=col>depth</th></tr></thead>\n",
       "<tbody>\n",
       "\t<tr><th scope=row>samp:HUES64_rep1__barc:10__seq:human</th><td>samp:HUES64_rep1__barc:10__seq:human</td><td>1                                   </td><td>HUES64                              </td><td>10                                  </td><td>human                               </td><td>1                                   </td></tr>\n",
       "\t<tr><th scope=row>samp:HUES64_rep1__barc:10__seq:mouse</th><td>samp:HUES64_rep1__barc:10__seq:mouse</td><td>1                                   </td><td>HUES64                              </td><td>10                                  </td><td>mouse                               </td><td>1                                   </td></tr>\n",
       "\t<tr><th scope=row>samp:HUES64_rep1__barc:11__seq:human</th><td>samp:HUES64_rep1__barc:11__seq:human</td><td>1                                   </td><td>HUES64                              </td><td>11                                  </td><td>human                               </td><td>1                                   </td></tr>\n",
       "\t<tr><th scope=row>samp:HUES64_rep1__barc:11__seq:mouse</th><td>samp:HUES64_rep1__barc:11__seq:mouse</td><td>1                                   </td><td>HUES64                              </td><td>11                                  </td><td>mouse                               </td><td>1                                   </td></tr>\n",
       "\t<tr><th scope=row>samp:HUES64_rep1__barc:12__seq:human</th><td>samp:HUES64_rep1__barc:12__seq:human</td><td>1                                   </td><td>HUES64                              </td><td>12                                  </td><td>human                               </td><td>1                                   </td></tr>\n",
       "\t<tr><th scope=row>samp:HUES64_rep1__barc:12__seq:mouse</th><td>samp:HUES64_rep1__barc:12__seq:mouse</td><td>1                                   </td><td>HUES64                              </td><td>12                                  </td><td>mouse                               </td><td>1                                   </td></tr>\n",
       "</tbody>\n",
       "</table>\n"
      ],
      "text/latex": [
       "\\begin{tabular}{r|llllll}\n",
       "  & X & sample & condition & barcode & seq & depth\\\\\n",
       "\\hline\n",
       "\tsamp:HUES64\\_rep1\\_\\_barc:10\\_\\_seq:human & samp:HUES64\\_rep1\\_\\_barc:10\\_\\_seq:human & 1                                              & HUES64                                         & 10                                             & human                                          & 1                                             \\\\\n",
       "\tsamp:HUES64\\_rep1\\_\\_barc:10\\_\\_seq:mouse & samp:HUES64\\_rep1\\_\\_barc:10\\_\\_seq:mouse & 1                                              & HUES64                                         & 10                                             & mouse                                          & 1                                             \\\\\n",
       "\tsamp:HUES64\\_rep1\\_\\_barc:11\\_\\_seq:human & samp:HUES64\\_rep1\\_\\_barc:11\\_\\_seq:human & 1                                              & HUES64                                         & 11                                             & human                                          & 1                                             \\\\\n",
       "\tsamp:HUES64\\_rep1\\_\\_barc:11\\_\\_seq:mouse & samp:HUES64\\_rep1\\_\\_barc:11\\_\\_seq:mouse & 1                                              & HUES64                                         & 11                                             & mouse                                          & 1                                             \\\\\n",
       "\tsamp:HUES64\\_rep1\\_\\_barc:12\\_\\_seq:human & samp:HUES64\\_rep1\\_\\_barc:12\\_\\_seq:human & 1                                              & HUES64                                         & 12                                             & human                                          & 1                                             \\\\\n",
       "\tsamp:HUES64\\_rep1\\_\\_barc:12\\_\\_seq:mouse & samp:HUES64\\_rep1\\_\\_barc:12\\_\\_seq:mouse & 1                                              & HUES64                                         & 12                                             & mouse                                          & 1                                             \\\\\n",
       "\\end{tabular}\n"
      ],
      "text/markdown": [
       "\n",
       "| <!--/--> | X | sample | condition | barcode | seq | depth | \n",
       "|---|---|---|---|---|---|\n",
       "| samp:HUES64_rep1__barc:10__seq:human | samp:HUES64_rep1__barc:10__seq:human | 1                                    | HUES64                               | 10                                   | human                                | 1                                    | \n",
       "| samp:HUES64_rep1__barc:10__seq:mouse | samp:HUES64_rep1__barc:10__seq:mouse | 1                                    | HUES64                               | 10                                   | mouse                                | 1                                    | \n",
       "| samp:HUES64_rep1__barc:11__seq:human | samp:HUES64_rep1__barc:11__seq:human | 1                                    | HUES64                               | 11                                   | human                                | 1                                    | \n",
       "| samp:HUES64_rep1__barc:11__seq:mouse | samp:HUES64_rep1__barc:11__seq:mouse | 1                                    | HUES64                               | 11                                   | mouse                                | 1                                    | \n",
       "| samp:HUES64_rep1__barc:12__seq:human | samp:HUES64_rep1__barc:12__seq:human | 1                                    | HUES64                               | 12                                   | human                                | 1                                    | \n",
       "| samp:HUES64_rep1__barc:12__seq:mouse | samp:HUES64_rep1__barc:12__seq:mouse | 1                                    | HUES64                               | 12                                   | mouse                                | 1                                    | \n",
       "\n",
       "\n"
      ],
      "text/plain": [
       "                                     X                                   \n",
       "samp:HUES64_rep1__barc:10__seq:human samp:HUES64_rep1__barc:10__seq:human\n",
       "samp:HUES64_rep1__barc:10__seq:mouse samp:HUES64_rep1__barc:10__seq:mouse\n",
       "samp:HUES64_rep1__barc:11__seq:human samp:HUES64_rep1__barc:11__seq:human\n",
       "samp:HUES64_rep1__barc:11__seq:mouse samp:HUES64_rep1__barc:11__seq:mouse\n",
       "samp:HUES64_rep1__barc:12__seq:human samp:HUES64_rep1__barc:12__seq:human\n",
       "samp:HUES64_rep1__barc:12__seq:mouse samp:HUES64_rep1__barc:12__seq:mouse\n",
       "                                     sample condition barcode seq   depth\n",
       "samp:HUES64_rep1__barc:10__seq:human 1      HUES64    10      human 1    \n",
       "samp:HUES64_rep1__barc:10__seq:mouse 1      HUES64    10      mouse 1    \n",
       "samp:HUES64_rep1__barc:11__seq:human 1      HUES64    11      human 1    \n",
       "samp:HUES64_rep1__barc:11__seq:mouse 1      HUES64    11      mouse 1    \n",
       "samp:HUES64_rep1__barc:12__seq:human 1      HUES64    12      human 1    \n",
       "samp:HUES64_rep1__barc:12__seq:mouse 1      HUES64    12      mouse 1    "
      ]
     },
     "metadata": {},
     "output_type": "display_data"
    }
   ],
   "source": [
    "head(all_rna_cols)"
   ]
  },
  {
   "cell_type": "code",
   "execution_count": 42,
   "metadata": {},
   "outputs": [
    {
     "name": "stderr",
     "output_type": "stream",
     "text": [
      "Fitting controls-based background model...\n",
      "iter:2\tlog-likelihood:-92170084.5927101\n",
      "iter:3\tlog-likelihood:-92162908.2231506\n",
      "iter:4\tlog-likelihood:-92159714.4934419\n",
      "iter:5\tlog-likelihood:-92157172.4645559\n",
      "iter:6\tlog-likelihood:-92155078.4186964\n",
      "iter:7\tlog-likelihood:-92153355.4944124\n",
      "iter:8\tlog-likelihood:-92151942.9672853\n",
      "iter:9\tlog-likelihood:-92150767.9218067\n",
      "iter:10\tlog-likelihood:-92149797.2358446\n",
      "iter:11\tlog-likelihood:-92148994.2404186\n",
      "iter:12\tlog-likelihood:-92148320.1584312\n",
      "iter:13\tlog-likelihood:-92147767.4945272\n",
      "iter:14\tlog-likelihood:-92147320.1657721\n",
      "iter:15\tlog-likelihood:-92146941.6601187\n",
      "iter:16\tlog-likelihood:-92146619.7564975\n",
      "iter:17\tlog-likelihood:-92146370.601993\n",
      "iter:18\tlog-likelihood:-92146160.6609291\n",
      "iter:19\tlog-likelihood:-92145978.9075199\n",
      "iter:20\tlog-likelihood:-92145830.2948812\n",
      "iter:21\tlog-likelihood:-92145708.0632897\n",
      "iter:22\tlog-likelihood:-92145602.2996124\n",
      "iter:23\tlog-likelihood:-92145520.8850172\n",
      "Fitting model...\n",
      "[===========================================================] 100% (3679/3679)\n",
      "Fitting reduced model...\n",
      "Analysis Done!                                                                \n"
     ]
    }
   ],
   "source": [
    "obj1 <- analyzeComparative(obj = obj1, \n",
    "                           dnaDesign = ~ barcode, \n",
    "                           rnaDesign = ~ seq + condition + seq:condition, \n",
    "                           reducedDesign = ~ seq + condition) "
   ]
  },
  {
   "cell_type": "code",
   "execution_count": 43,
   "metadata": {},
   "outputs": [
    {
     "name": "stderr",
     "output_type": "stream",
     "text": [
      "Performing Likelihood Ratio Test...\n"
     ]
    },
    {
     "data": {
      "text/html": [
       "<table>\n",
       "<thead><tr><th></th><th scope=col>statistic</th><th scope=col>pval</th><th scope=col>fdr</th><th scope=col>df.test</th><th scope=col>df.dna</th><th scope=col>df.rna.full</th><th scope=col>df.rna.red</th><th scope=col>logFC</th></tr></thead>\n",
       "<tbody>\n",
       "\t<tr><th scope=row>h.2__div_lnc__m.1__div_lnc</th><td>0.14304310 </td><td>0.7052743  </td><td>0.9987798  </td><td>1          </td><td>14         </td><td>9          </td><td>8          </td><td>-0.18277286</td></tr>\n",
       "\t<tr><th scope=row>h.3__div_lnc__m.2__antisense</th><td>2.04974622 </td><td>0.1522316  </td><td>0.8444489  </td><td>1          </td><td>13         </td><td>9          </td><td>8          </td><td>-1.07074100</td></tr>\n",
       "\t<tr><th scope=row>h.4__antisense_upep__m.3__protein_coding</th><td>2.35766466 </td><td>0.1246687  </td><td>0.7948980  </td><td>1          </td><td>14         </td><td>9          </td><td>8          </td><td>-0.59646378</td></tr>\n",
       "\t<tr><th scope=row>h.5__intergenic__m.4__intergenic_upep</th><td>0.34438253 </td><td>0.5573104  </td><td>0.9981239  </td><td>1          </td><td>14         </td><td>9          </td><td>8          </td><td> 0.20434635</td></tr>\n",
       "\t<tr><th scope=row>h.6__intergenic__m.4__intergenic_upep</th><td>0.47605336 </td><td>0.4902154  </td><td>0.9859163  </td><td>1          </td><td>14         </td><td>9          </td><td>8          </td><td> 0.23247928</td></tr>\n",
       "\t<tr><th scope=row>h.7__div_lnc__m.5__div_lnc</th><td>0.08239098 </td><td>0.7740830  </td><td>0.9987798  </td><td>1          </td><td>14         </td><td>9          </td><td>8          </td><td> 0.09711843</td></tr>\n",
       "</tbody>\n",
       "</table>\n"
      ],
      "text/latex": [
       "\\begin{tabular}{r|llllllll}\n",
       "  & statistic & pval & fdr & df.test & df.dna & df.rna.full & df.rna.red & logFC\\\\\n",
       "\\hline\n",
       "\th.2\\_\\_div\\_lnc\\_\\_m.1\\_\\_div\\_lnc & 0.14304310  & 0.7052743   & 0.9987798   & 1           & 14          & 9           & 8           & -0.18277286\\\\\n",
       "\th.3\\_\\_div\\_lnc\\_\\_m.2\\_\\_antisense & 2.04974622  & 0.1522316   & 0.8444489   & 1           & 13          & 9           & 8           & -1.07074100\\\\\n",
       "\th.4\\_\\_antisense\\_upep\\_\\_m.3\\_\\_protein\\_coding & 2.35766466  & 0.1246687   & 0.7948980   & 1           & 14          & 9           & 8           & -0.59646378\\\\\n",
       "\th.5\\_\\_intergenic\\_\\_m.4\\_\\_intergenic\\_upep & 0.34438253  & 0.5573104   & 0.9981239   & 1           & 14          & 9           & 8           &  0.20434635\\\\\n",
       "\th.6\\_\\_intergenic\\_\\_m.4\\_\\_intergenic\\_upep & 0.47605336  & 0.4902154   & 0.9859163   & 1           & 14          & 9           & 8           &  0.23247928\\\\\n",
       "\th.7\\_\\_div\\_lnc\\_\\_m.5\\_\\_div\\_lnc & 0.08239098  & 0.7740830   & 0.9987798   & 1           & 14          & 9           & 8           &  0.09711843\\\\\n",
       "\\end{tabular}\n"
      ],
      "text/markdown": [
       "\n",
       "| <!--/--> | statistic | pval | fdr | df.test | df.dna | df.rna.full | df.rna.red | logFC | \n",
       "|---|---|---|---|---|---|\n",
       "| h.2__div_lnc__m.1__div_lnc | 0.14304310  | 0.7052743   | 0.9987798   | 1           | 14          | 9           | 8           | -0.18277286 | \n",
       "| h.3__div_lnc__m.2__antisense | 2.04974622  | 0.1522316   | 0.8444489   | 1           | 13          | 9           | 8           | -1.07074100 | \n",
       "| h.4__antisense_upep__m.3__protein_coding | 2.35766466  | 0.1246687   | 0.7948980   | 1           | 14          | 9           | 8           | -0.59646378 | \n",
       "| h.5__intergenic__m.4__intergenic_upep | 0.34438253  | 0.5573104   | 0.9981239   | 1           | 14          | 9           | 8           |  0.20434635 | \n",
       "| h.6__intergenic__m.4__intergenic_upep | 0.47605336  | 0.4902154   | 0.9859163   | 1           | 14          | 9           | 8           |  0.23247928 | \n",
       "| h.7__div_lnc__m.5__div_lnc | 0.08239098  | 0.7740830   | 0.9987798   | 1           | 14          | 9           | 8           |  0.09711843 | \n",
       "\n",
       "\n"
      ],
      "text/plain": [
       "                                         statistic  pval      fdr       df.test\n",
       "h.2__div_lnc__m.1__div_lnc               0.14304310 0.7052743 0.9987798 1      \n",
       "h.3__div_lnc__m.2__antisense             2.04974622 0.1522316 0.8444489 1      \n",
       "h.4__antisense_upep__m.3__protein_coding 2.35766466 0.1246687 0.7948980 1      \n",
       "h.5__intergenic__m.4__intergenic_upep    0.34438253 0.5573104 0.9981239 1      \n",
       "h.6__intergenic__m.4__intergenic_upep    0.47605336 0.4902154 0.9859163 1      \n",
       "h.7__div_lnc__m.5__div_lnc               0.08239098 0.7740830 0.9987798 1      \n",
       "                                         df.dna df.rna.full df.rna.red\n",
       "h.2__div_lnc__m.1__div_lnc               14     9           8         \n",
       "h.3__div_lnc__m.2__antisense             13     9           8         \n",
       "h.4__antisense_upep__m.3__protein_coding 14     9           8         \n",
       "h.5__intergenic__m.4__intergenic_upep    14     9           8         \n",
       "h.6__intergenic__m.4__intergenic_upep    14     9           8         \n",
       "h.7__div_lnc__m.5__div_lnc               14     9           8         \n",
       "                                         logFC      \n",
       "h.2__div_lnc__m.1__div_lnc               -0.18277286\n",
       "h.3__div_lnc__m.2__antisense             -1.07074100\n",
       "h.4__antisense_upep__m.3__protein_coding -0.59646378\n",
       "h.5__intergenic__m.4__intergenic_upep     0.20434635\n",
       "h.6__intergenic__m.4__intergenic_upep     0.23247928\n",
       "h.7__div_lnc__m.5__div_lnc                0.09711843"
      ]
     },
     "metadata": {},
     "output_type": "display_data"
    }
   ],
   "source": [
    "int_res <- testLrt(obj1)\n",
    "head(int_res)"
   ]
  },
  {
   "cell_type": "code",
   "execution_count": 45,
   "metadata": {},
   "outputs": [
    {
     "data": {
      "image/png": "[encoded data removed]",
      "text/plain": [
       "Plot with title “Histogram of int_res[all_comp_ctrls, ]$pval”"
      ]
     },
     "metadata": {},
     "output_type": "display_data"
    }
   ],
   "source": [
    "hist(int_res[all_comp_ctrls,]$pval)"
   ]
  },
  {
   "cell_type": "code",
   "execution_count": 44,
   "metadata": {},
   "outputs": [
    {
     "data": {
      "image/png": "[encoded data removed]",
      "text/plain": [
       "Plot with title “Histogram of int_res[!all_comp_ctrls, ]$pval”"
      ]
     },
     "metadata": {},
     "output_type": "display_data"
    }
   ],
   "source": [
    "hist(int_res[!all_comp_ctrls,]$pval)"
   ]
  },
  {
   "cell_type": "markdown",
   "metadata": {},
   "source": [
    "## 5. run model to compare seqs in HUES64"
   ]
  },
  {
   "cell_type": "code",
   "execution_count": 46,
   "metadata": {},
   "outputs": [],
   "source": [
    "# note 13 will change depending how many barcodes there are per element\n",
    "hues64_rna_cols$depth <- c(rep(rna_depths[1], 13*2), rep(rna_depths[2], 13*2))"
   ]
  },
  {
   "cell_type": "code",
   "execution_count": 47,
   "metadata": {},
   "outputs": [],
   "source": [
    "# create MPRA object\n",
    "obj2 <- MpraObject(dnaCounts = all_comp_dna_counts, rnaCounts = hues64_rna_counts, \n",
    "                   dnaAnnot = all_comp_dna_cols, rnaAnnot = hues64_rna_cols, controls = all_comp_ctrls)"
   ]
  },
  {
   "cell_type": "code",
   "execution_count": 48,
   "metadata": {},
   "outputs": [],
   "source": [
    "obj2 <- setDepthFactors(obj2, dnaDepth = all_comp_dna_cols$depth, rnaDepth = hues64_rna_cols$depth)"
   ]
  },
  {
   "cell_type": "code",
   "execution_count": 49,
   "metadata": {},
   "outputs": [
    {
     "name": "stderr",
     "output_type": "stream",
     "text": [
      "Fitting controls-based background model...\n",
      "iter:2\tlog-likelihood:-61625867.9944322\n",
      "iter:3\tlog-likelihood:-61631614.9919815\n",
      "Fitting model...\n",
      "[===========================================================] 100% (3679/3679)\n",
      "Fitting reduced model...\n",
      "Analysis Done!                                                                \n"
     ]
    }
   ],
   "source": [
    "obj2 <- analyzeComparative(obj = obj2, \n",
    "                           dnaDesign = ~ barcode, \n",
    "                           rnaDesign = ~ seq, \n",
    "                           reducedDesign = ~ 1) "
   ]
  },
  {
   "cell_type": "code",
   "execution_count": 50,
   "metadata": {},
   "outputs": [
    {
     "name": "stderr",
     "output_type": "stream",
     "text": [
      "Performing Likelihood Ratio Test...\n"
     ]
    },
    {
     "data": {
      "text/html": [
       "<table>\n",
       "<thead><tr><th></th><th scope=col>statistic</th><th scope=col>pval</th><th scope=col>fdr</th><th scope=col>df.test</th><th scope=col>df.dna</th><th scope=col>df.rna.full</th><th scope=col>df.rna.red</th><th scope=col>logFC</th></tr></thead>\n",
       "<tbody>\n",
       "\t<tr><th scope=row>h.2__div_lnc__m.1__div_lnc</th><td> 0.09110531 </td><td>7.627767e-01</td><td>8.307446e-01</td><td>1           </td><td>14          </td><td>5           </td><td>4           </td><td>-0.09510684 </td></tr>\n",
       "\t<tr><th scope=row>h.3__div_lnc__m.2__antisense</th><td>12.07978873 </td><td>5.097137e-04</td><td>1.792769e-03</td><td>1           </td><td>13          </td><td>5           </td><td>4           </td><td> 1.62212149 </td></tr>\n",
       "\t<tr><th scope=row>h.4__antisense_upep__m.3__protein_coding</th><td> 2.03224594 </td><td>1.539929e-01</td><td>2.371464e-01</td><td>1           </td><td>14          </td><td>5           </td><td>4           </td><td>-0.34149643 </td></tr>\n",
       "\t<tr><th scope=row>h.5__intergenic__m.4__intergenic_upep</th><td> 0.32922721 </td><td>5.661145e-01</td><td>6.686958e-01</td><td>1           </td><td>14          </td><td>5           </td><td>4           </td><td> 0.12911120 </td></tr>\n",
       "\t<tr><th scope=row>h.6__intergenic__m.4__intergenic_upep</th><td>19.72321833 </td><td>8.950725e-06</td><td>5.210399e-05</td><td>1           </td><td>14          </td><td>5           </td><td>4           </td><td>-1.03153530 </td></tr>\n",
       "\t<tr><th scope=row>h.7__div_lnc__m.5__div_lnc</th><td> 0.52784874 </td><td>4.675127e-01</td><td>5.797031e-01</td><td>1           </td><td>14          </td><td>5           </td><td>4           </td><td>-0.16648585 </td></tr>\n",
       "</tbody>\n",
       "</table>\n"
      ],
      "text/latex": [
       "\\begin{tabular}{r|llllllll}\n",
       "  & statistic & pval & fdr & df.test & df.dna & df.rna.full & df.rna.red & logFC\\\\\n",
       "\\hline\n",
       "\th.2\\_\\_div\\_lnc\\_\\_m.1\\_\\_div\\_lnc &  0.09110531  & 7.627767e-01 & 8.307446e-01 & 1            & 14           & 5            & 4            & -0.09510684 \\\\\n",
       "\th.3\\_\\_div\\_lnc\\_\\_m.2\\_\\_antisense & 12.07978873  & 5.097137e-04 & 1.792769e-03 & 1            & 13           & 5            & 4            &  1.62212149 \\\\\n",
       "\th.4\\_\\_antisense\\_upep\\_\\_m.3\\_\\_protein\\_coding &  2.03224594  & 1.539929e-01 & 2.371464e-01 & 1            & 14           & 5            & 4            & -0.34149643 \\\\\n",
       "\th.5\\_\\_intergenic\\_\\_m.4\\_\\_intergenic\\_upep &  0.32922721  & 5.661145e-01 & 6.686958e-01 & 1            & 14           & 5            & 4            &  0.12911120 \\\\\n",
       "\th.6\\_\\_intergenic\\_\\_m.4\\_\\_intergenic\\_upep & 19.72321833  & 8.950725e-06 & 5.210399e-05 & 1            & 14           & 5            & 4            & -1.03153530 \\\\\n",
       "\th.7\\_\\_div\\_lnc\\_\\_m.5\\_\\_div\\_lnc &  0.52784874  & 4.675127e-01 & 5.797031e-01 & 1            & 14           & 5            & 4            & -0.16648585 \\\\\n",
       "\\end{tabular}\n"
      ],
      "text/markdown": [
       "\n",
       "| <!--/--> | statistic | pval | fdr | df.test | df.dna | df.rna.full | df.rna.red | logFC | \n",
       "|---|---|---|---|---|---|\n",
       "| h.2__div_lnc__m.1__div_lnc |  0.09110531  | 7.627767e-01 | 8.307446e-01 | 1            | 14           | 5            | 4            | -0.09510684  | \n",
       "| h.3__div_lnc__m.2__antisense | 12.07978873  | 5.097137e-04 | 1.792769e-03 | 1            | 13           | 5            | 4            |  1.62212149  | \n",
       "| h.4__antisense_upep__m.3__protein_coding |  2.03224594  | 1.539929e-01 | 2.371464e-01 | 1            | 14           | 5            | 4            | -0.34149643  | \n",
       "| h.5__intergenic__m.4__intergenic_upep |  0.32922721  | 5.661145e-01 | 6.686958e-01 | 1            | 14           | 5            | 4            |  0.12911120  | \n",
       "| h.6__intergenic__m.4__intergenic_upep | 19.72321833  | 8.950725e-06 | 5.210399e-05 | 1            | 14           | 5            | 4            | -1.03153530  | \n",
       "| h.7__div_lnc__m.5__div_lnc |  0.52784874  | 4.675127e-01 | 5.797031e-01 | 1            | 14           | 5            | 4            | -0.16648585  | \n",
       "\n",
       "\n"
      ],
      "text/plain": [
       "                                         statistic   pval         fdr         \n",
       "h.2__div_lnc__m.1__div_lnc                0.09110531 7.627767e-01 8.307446e-01\n",
       "h.3__div_lnc__m.2__antisense             12.07978873 5.097137e-04 1.792769e-03\n",
       "h.4__antisense_upep__m.3__protein_coding  2.03224594 1.539929e-01 2.371464e-01\n",
       "h.5__intergenic__m.4__intergenic_upep     0.32922721 5.661145e-01 6.686958e-01\n",
       "h.6__intergenic__m.4__intergenic_upep    19.72321833 8.950725e-06 5.210399e-05\n",
       "h.7__div_lnc__m.5__div_lnc                0.52784874 4.675127e-01 5.797031e-01\n",
       "                                         df.test df.dna df.rna.full df.rna.red\n",
       "h.2__div_lnc__m.1__div_lnc               1       14     5           4         \n",
       "h.3__div_lnc__m.2__antisense             1       13     5           4         \n",
       "h.4__antisense_upep__m.3__protein_coding 1       14     5           4         \n",
       "h.5__intergenic__m.4__intergenic_upep    1       14     5           4         \n",
       "h.6__intergenic__m.4__intergenic_upep    1       14     5           4         \n",
       "h.7__div_lnc__m.5__div_lnc               1       14     5           4         \n",
       "                                         logFC      \n",
       "h.2__div_lnc__m.1__div_lnc               -0.09510684\n",
       "h.3__div_lnc__m.2__antisense              1.62212149\n",
       "h.4__antisense_upep__m.3__protein_coding -0.34149643\n",
       "h.5__intergenic__m.4__intergenic_upep     0.12911120\n",
       "h.6__intergenic__m.4__intergenic_upep    -1.03153530\n",
       "h.7__div_lnc__m.5__div_lnc               -0.16648585"
      ]
     },
     "metadata": {},
     "output_type": "display_data"
    }
   ],
   "source": [
    "hues64_res <- testLrt(obj2)\n",
    "head(hues64_res)"
   ]
  },
  {
   "cell_type": "code",
   "execution_count": 51,
   "metadata": {},
   "outputs": [
    {
     "data": {
      "image/png": "[encoded data removed]",
      "text/plain": [
       "Plot with title “Histogram of hues64_res[all_comp_ctrls, ]$pval”"
      ]
     },
     "metadata": {},
     "output_type": "display_data"
    }
   ],
   "source": [
    "hist(hues64_res[all_comp_ctrls,]$pval)"
   ]
  },
  {
   "cell_type": "code",
   "execution_count": 52,
   "metadata": {},
   "outputs": [
    {
     "data": {
      "image/png": "[encoded data removed]",
      "text/plain": [
       "Plot with title “Histogram of hues64_res[!all_comp_ctrls, ]$pval”"
      ]
     },
     "metadata": {},
     "output_type": "display_data"
    }
   ],
   "source": [
    "hist(hues64_res[!all_comp_ctrls,]$pval)"
   ]
  },
  {
   "cell_type": "markdown",
   "metadata": {},
   "source": [
    "## 6. run model to compare seqs in mESC"
   ]
  },
  {
   "cell_type": "code",
   "execution_count": 53,
   "metadata": {},
   "outputs": [],
   "source": [
    "# note 13 will change depending how many barcodes there are per element\n",
    "mesc_rna_cols$depth <- c(rep(rna_depths[3], 13*2))"
   ]
  },
  {
   "cell_type": "code",
   "execution_count": 54,
   "metadata": {},
   "outputs": [],
   "source": [
    "# create MPRA object\n",
    "obj3 <- MpraObject(dnaCounts = all_comp_dna_counts, rnaCounts = mesc_rna_counts, \n",
    "                   dnaAnnot = all_comp_dna_cols, rnaAnnot = mesc_rna_cols, controls = all_comp_ctrls)"
   ]
  },
  {
   "cell_type": "code",
   "execution_count": 55,
   "metadata": {},
   "outputs": [],
   "source": [
    "obj3 <- setDepthFactors(obj3, dnaDepth = all_comp_dna_cols$depth, rnaDepth = mesc_rna_cols$depth)"
   ]
  },
  {
   "cell_type": "code",
   "execution_count": 56,
   "metadata": {},
   "outputs": [
    {
     "name": "stderr",
     "output_type": "stream",
     "text": [
      "Fitting controls-based background model...\n",
      "iter:2\tlog-likelihood:-30989177.5575887\n",
      "iter:3\tlog-likelihood:-30987397.4311343\n",
      "iter:4\tlog-likelihood:-30986132.7466446\n",
      "iter:5\tlog-likelihood:-30985227.4850461\n",
      "iter:6\tlog-likelihood:-30984566.7505815\n",
      "iter:7\tlog-likelihood:-30984105.3236077\n",
      "iter:8\tlog-likelihood:-30983737.3865414\n",
      "iter:9\tlog-likelihood:-30983493.6352709\n",
      "iter:10\tlog-likelihood:-30983317.959452\n",
      "iter:11\tlog-likelihood:-30983180.0877457\n",
      "iter:12\tlog-likelihood:-30983081.0451824\n",
      "iter:13\tlog-likelihood:-30983006.9787277\n",
      "iter:14\tlog-likelihood:-30982948.9320417\n",
      "iter:15\tlog-likelihood:-30982887.2720064\n",
      "iter:16\tlog-likelihood:-30982848.8255175\n",
      "iter:17\tlog-likelihood:-30982825.5836163\n",
      "Fitting model...\n",
      "[===========================================================] 100% (3679/3679)\n",
      "Fitting reduced model...\n",
      "Analysis Done!                                                                \n"
     ]
    }
   ],
   "source": [
    "obj3 <- analyzeComparative(obj = obj3, \n",
    "                           dnaDesign = ~ barcode, \n",
    "                           rnaDesign = ~ seq, \n",
    "                           reducedDesign = ~ 1) "
   ]
  },
  {
   "cell_type": "code",
   "execution_count": 57,
   "metadata": {},
   "outputs": [
    {
     "name": "stderr",
     "output_type": "stream",
     "text": [
      "Performing Likelihood Ratio Test...\n"
     ]
    },
    {
     "data": {
      "text/html": [
       "<table>\n",
       "<thead><tr><th></th><th scope=col>statistic</th><th scope=col>pval</th><th scope=col>fdr</th><th scope=col>df.test</th><th scope=col>df.dna</th><th scope=col>df.rna.full</th><th scope=col>df.rna.red</th><th scope=col>logFC</th></tr></thead>\n",
       "<tbody>\n",
       "\t<tr><th scope=row>h.2__div_lnc__m.1__div_lnc</th><td>0.214028923</td><td>0.64362774 </td><td>0.77712716 </td><td>1          </td><td>14         </td><td>5          </td><td>4          </td><td>-0.20027383</td></tr>\n",
       "\t<tr><th scope=row>h.3__div_lnc__m.2__antisense</th><td>0.886815015</td><td>0.34634187 </td><td>0.51565833 </td><td>1          </td><td>13         </td><td>5          </td><td>4          </td><td> 0.72519222</td></tr>\n",
       "\t<tr><th scope=row>h.4__antisense_upep__m.3__protein_coding</th><td>5.341382157</td><td>0.02082496 </td><td>0.07236010 </td><td>1          </td><td>14         </td><td>5          </td><td>4          </td><td>-0.84308304</td></tr>\n",
       "\t<tr><th scope=row>h.5__intergenic__m.4__intergenic_upep</th><td>0.754079861</td><td>0.38518759 </td><td>0.55757731 </td><td>1          </td><td>14         </td><td>5          </td><td>4          </td><td> 0.26144961</td></tr>\n",
       "\t<tr><th scope=row>h.6__intergenic__m.4__intergenic_upep</th><td>4.678431755</td><td>0.03054362 </td><td>0.09490708 </td><td>1          </td><td>14         </td><td>5          </td><td>4          </td><td>-0.68959163</td></tr>\n",
       "\t<tr><th scope=row>h.7__div_lnc__m.5__div_lnc</th><td>0.003289965</td><td>0.95425985 </td><td>0.97438856 </td><td>1          </td><td>14         </td><td>5          </td><td>4          </td><td> 0.01808852</td></tr>\n",
       "</tbody>\n",
       "</table>\n"
      ],
      "text/latex": [
       "\\begin{tabular}{r|llllllll}\n",
       "  & statistic & pval & fdr & df.test & df.dna & df.rna.full & df.rna.red & logFC\\\\\n",
       "\\hline\n",
       "\th.2\\_\\_div\\_lnc\\_\\_m.1\\_\\_div\\_lnc & 0.214028923 & 0.64362774  & 0.77712716  & 1           & 14          & 5           & 4           & -0.20027383\\\\\n",
       "\th.3\\_\\_div\\_lnc\\_\\_m.2\\_\\_antisense & 0.886815015 & 0.34634187  & 0.51565833  & 1           & 13          & 5           & 4           &  0.72519222\\\\\n",
       "\th.4\\_\\_antisense\\_upep\\_\\_m.3\\_\\_protein\\_coding & 5.341382157 & 0.02082496  & 0.07236010  & 1           & 14          & 5           & 4           & -0.84308304\\\\\n",
       "\th.5\\_\\_intergenic\\_\\_m.4\\_\\_intergenic\\_upep & 0.754079861 & 0.38518759  & 0.55757731  & 1           & 14          & 5           & 4           &  0.26144961\\\\\n",
       "\th.6\\_\\_intergenic\\_\\_m.4\\_\\_intergenic\\_upep & 4.678431755 & 0.03054362  & 0.09490708  & 1           & 14          & 5           & 4           & -0.68959163\\\\\n",
       "\th.7\\_\\_div\\_lnc\\_\\_m.5\\_\\_div\\_lnc & 0.003289965 & 0.95425985  & 0.97438856  & 1           & 14          & 5           & 4           &  0.01808852\\\\\n",
       "\\end{tabular}\n"
      ],
      "text/markdown": [
       "\n",
       "| <!--/--> | statistic | pval | fdr | df.test | df.dna | df.rna.full | df.rna.red | logFC | \n",
       "|---|---|---|---|---|---|\n",
       "| h.2__div_lnc__m.1__div_lnc | 0.214028923 | 0.64362774  | 0.77712716  | 1           | 14          | 5           | 4           | -0.20027383 | \n",
       "| h.3__div_lnc__m.2__antisense | 0.886815015 | 0.34634187  | 0.51565833  | 1           | 13          | 5           | 4           |  0.72519222 | \n",
       "| h.4__antisense_upep__m.3__protein_coding | 5.341382157 | 0.02082496  | 0.07236010  | 1           | 14          | 5           | 4           | -0.84308304 | \n",
       "| h.5__intergenic__m.4__intergenic_upep | 0.754079861 | 0.38518759  | 0.55757731  | 1           | 14          | 5           | 4           |  0.26144961 | \n",
       "| h.6__intergenic__m.4__intergenic_upep | 4.678431755 | 0.03054362  | 0.09490708  | 1           | 14          | 5           | 4           | -0.68959163 | \n",
       "| h.7__div_lnc__m.5__div_lnc | 0.003289965 | 0.95425985  | 0.97438856  | 1           | 14          | 5           | 4           |  0.01808852 | \n",
       "\n",
       "\n"
      ],
      "text/plain": [
       "                                         statistic   pval       fdr       \n",
       "h.2__div_lnc__m.1__div_lnc               0.214028923 0.64362774 0.77712716\n",
       "h.3__div_lnc__m.2__antisense             0.886815015 0.34634187 0.51565833\n",
       "h.4__antisense_upep__m.3__protein_coding 5.341382157 0.02082496 0.07236010\n",
       "h.5__intergenic__m.4__intergenic_upep    0.754079861 0.38518759 0.55757731\n",
       "h.6__intergenic__m.4__intergenic_upep    4.678431755 0.03054362 0.09490708\n",
       "h.7__div_lnc__m.5__div_lnc               0.003289965 0.95425985 0.97438856\n",
       "                                         df.test df.dna df.rna.full df.rna.red\n",
       "h.2__div_lnc__m.1__div_lnc               1       14     5           4         \n",
       "h.3__div_lnc__m.2__antisense             1       13     5           4         \n",
       "h.4__antisense_upep__m.3__protein_coding 1       14     5           4         \n",
       "h.5__intergenic__m.4__intergenic_upep    1       14     5           4         \n",
       "h.6__intergenic__m.4__intergenic_upep    1       14     5           4         \n",
       "h.7__div_lnc__m.5__div_lnc               1       14     5           4         \n",
       "                                         logFC      \n",
       "h.2__div_lnc__m.1__div_lnc               -0.20027383\n",
       "h.3__div_lnc__m.2__antisense              0.72519222\n",
       "h.4__antisense_upep__m.3__protein_coding -0.84308304\n",
       "h.5__intergenic__m.4__intergenic_upep     0.26144961\n",
       "h.6__intergenic__m.4__intergenic_upep    -0.68959163\n",
       "h.7__div_lnc__m.5__div_lnc                0.01808852"
      ]
     },
     "metadata": {},
     "output_type": "display_data"
    }
   ],
   "source": [
    "mesc_res <- testLrt(obj3)\n",
    "head(mesc_res)"
   ]
  },
  {
   "cell_type": "code",
   "execution_count": 58,
   "metadata": {},
   "outputs": [
    {
     "data": {
      "image/png": "[encoded data removed]",
      "text/plain": [
       "Plot with title “Histogram of mesc_res[all_comp_ctrls, ]$pval”"
      ]
     },
     "metadata": {},
     "output_type": "display_data"
    }
   ],
   "source": [
    "hist(mesc_res[all_comp_ctrls,]$pval)"
   ]
  },
  {
   "cell_type": "code",
   "execution_count": 59,
   "metadata": {},
   "outputs": [
    {
     "data": {
      "image/png": "[encoded data removed]",
      "text/plain": [
       "Plot with title “Histogram of mesc_res[!all_comp_ctrls, ]$pval”"
      ]
     },
     "metadata": {},
     "output_type": "display_data"
    }
   ],
   "source": [
    "hist(mesc_res[!all_comp_ctrls,]$pval)"
   ]
  },
  {
   "cell_type": "markdown",
   "metadata": {},
   "source": [
    "## 7. run model to compare cells for human seq"
   ]
  },
  {
   "cell_type": "code",
   "execution_count": 60,
   "metadata": {},
   "outputs": [],
   "source": [
    "# note 13 will change depending how many barcodes there are per element\n",
    "human_rna_cols$depth <- c(rep(rna_depths[1], 13), rep(rna_depths[2], 13), rep(rna_depths[3], 13))"
   ]
  },
  {
   "cell_type": "code",
   "execution_count": 61,
   "metadata": {},
   "outputs": [],
   "source": [
    "# create MPRA object\n",
    "obj4 <- MpraObject(dnaCounts = all_comp_dna_counts, rnaCounts = human_rna_counts, \n",
    "                   dnaAnnot = all_comp_dna_cols, rnaAnnot = human_rna_cols, controls = all_comp_ctrls)"
   ]
  },
  {
   "cell_type": "code",
   "execution_count": 62,
   "metadata": {},
   "outputs": [],
   "source": [
    "obj4 <- setDepthFactors(obj4, dnaDepth = all_comp_dna_cols$depth, rnaDepth = human_rna_cols$depth)"
   ]
  },
  {
   "cell_type": "code",
   "execution_count": 63,
   "metadata": {},
   "outputs": [
    {
     "name": "stderr",
     "output_type": "stream",
     "text": [
      "Fitting controls-based background model...\n",
      "iter:2\tlog-likelihood:-44301564.5199541\n",
      "iter:3\tlog-likelihood:-44260701.4517511\n",
      "iter:4\tlog-likelihood:-44235940.6047704\n",
      "iter:5\tlog-likelihood:-44217786.4203739\n",
      "iter:6\tlog-likelihood:-44204273.0788627\n",
      "iter:7\tlog-likelihood:-44194129.43207\n",
      "iter:8\tlog-likelihood:-44186440.7624305\n",
      "iter:9\tlog-likelihood:-44180597.0470354\n",
      "iter:10\tlog-likelihood:-44176109.7720894\n",
      "iter:11\tlog-likelihood:-44172665.4462322\n",
      "iter:12\tlog-likelihood:-44170027.8780422\n",
      "iter:13\tlog-likelihood:-44167987.0323412\n",
      "iter:14\tlog-likelihood:-44166419.8310676\n",
      "iter:15\tlog-likelihood:-44165207.4539735\n",
      "iter:16\tlog-likelihood:-44164245.2599562\n",
      "iter:17\tlog-likelihood:-44163529.0304577\n",
      "iter:18\tlog-likelihood:-44162949.6751835\n",
      "iter:19\tlog-likelihood:-44162510.5025298\n",
      "iter:20\tlog-likelihood:-44162159.2106885\n",
      "iter:21\tlog-likelihood:-44161880.3554179\n",
      "iter:22\tlog-likelihood:-44161675.2175598\n",
      "iter:23\tlog-likelihood:-44161524.6330184\n",
      "iter:24\tlog-likelihood:-44161391.6868336\n",
      "iter:25\tlog-likelihood:-44161287.5607844\n",
      "iter:26\tlog-likelihood:-44161227.5201569\n",
      "iter:27\tlog-likelihood:-44161164.6467309\n",
      "iter:28\tlog-likelihood:-44161117.6162111\n",
      "iter:29\tlog-likelihood:-44161066.4029924\n",
      "iter:30\tlog-likelihood:-44161034.9864854\n",
      "Fitting model...\n",
      "[===========================================================] 100% (3679/3679)\n",
      "Fitting reduced model...\n",
      "Analysis Done!                                                                \n"
     ]
    }
   ],
   "source": [
    "obj4 <- analyzeComparative(obj = obj4, \n",
    "                           dnaDesign = ~ barcode, \n",
    "                           rnaDesign = ~ condition, \n",
    "                           reducedDesign = ~ 1) "
   ]
  },
  {
   "cell_type": "code",
   "execution_count": 64,
   "metadata": {},
   "outputs": [
    {
     "name": "stderr",
     "output_type": "stream",
     "text": [
      "Performing Likelihood Ratio Test...\n"
     ]
    },
    {
     "data": {
      "text/html": [
       "<table>\n",
       "<thead><tr><th></th><th scope=col>statistic</th><th scope=col>pval</th><th scope=col>fdr</th><th scope=col>df.test</th><th scope=col>df.dna</th><th scope=col>df.rna.full</th><th scope=col>df.rna.red</th><th scope=col>logFC</th></tr></thead>\n",
       "<tbody>\n",
       "\t<tr><th scope=row>h.2__div_lnc__m.1__div_lnc</th><td>0.4045306 </td><td>0.52475868</td><td>0.8555111 </td><td>1         </td><td>14        </td><td>5         </td><td>4         </td><td>-0.2173339</td></tr>\n",
       "\t<tr><th scope=row>h.3__div_lnc__m.2__antisense</th><td>4.1430825 </td><td>0.04180498</td><td>0.3536459 </td><td>1         </td><td>13        </td><td>5         </td><td>4         </td><td> 1.3000859</td></tr>\n",
       "\t<tr><th scope=row>h.4__antisense_upep__m.3__protein_coding</th><td>3.0864956 </td><td>0.07894466</td><td>0.4700069 </td><td>1         </td><td>14        </td><td>5         </td><td>4         </td><td> 0.4433665</td></tr>\n",
       "\t<tr><th scope=row>h.5__intergenic__m.4__intergenic_upep</th><td>2.8655214 </td><td>0.09049638</td><td>0.4925091 </td><td>1         </td><td>14        </td><td>5         </td><td>4         </td><td> 0.3126041</td></tr>\n",
       "\t<tr><th scope=row>h.6__intergenic__m.4__intergenic_upep</th><td>1.3258316 </td><td>0.24954814</td><td>0.6680255 </td><td>1         </td><td>14        </td><td>5         </td><td>4         </td><td> 0.2006312</td></tr>\n",
       "\t<tr><th scope=row>h.7__div_lnc__m.5__div_lnc</th><td>1.6034714 </td><td>0.20541196</td><td>0.6172471 </td><td>1         </td><td>14        </td><td>5         </td><td>4         </td><td> 0.2037850</td></tr>\n",
       "</tbody>\n",
       "</table>\n"
      ],
      "text/latex": [
       "\\begin{tabular}{r|llllllll}\n",
       "  & statistic & pval & fdr & df.test & df.dna & df.rna.full & df.rna.red & logFC\\\\\n",
       "\\hline\n",
       "\th.2\\_\\_div\\_lnc\\_\\_m.1\\_\\_div\\_lnc & 0.4045306  & 0.52475868 & 0.8555111  & 1          & 14         & 5          & 4          & -0.2173339\\\\\n",
       "\th.3\\_\\_div\\_lnc\\_\\_m.2\\_\\_antisense & 4.1430825  & 0.04180498 & 0.3536459  & 1          & 13         & 5          & 4          &  1.3000859\\\\\n",
       "\th.4\\_\\_antisense\\_upep\\_\\_m.3\\_\\_protein\\_coding & 3.0864956  & 0.07894466 & 0.4700069  & 1          & 14         & 5          & 4          &  0.4433665\\\\\n",
       "\th.5\\_\\_intergenic\\_\\_m.4\\_\\_intergenic\\_upep & 2.8655214  & 0.09049638 & 0.4925091  & 1          & 14         & 5          & 4          &  0.3126041\\\\\n",
       "\th.6\\_\\_intergenic\\_\\_m.4\\_\\_intergenic\\_upep & 1.3258316  & 0.24954814 & 0.6680255  & 1          & 14         & 5          & 4          &  0.2006312\\\\\n",
       "\th.7\\_\\_div\\_lnc\\_\\_m.5\\_\\_div\\_lnc & 1.6034714  & 0.20541196 & 0.6172471  & 1          & 14         & 5          & 4          &  0.2037850\\\\\n",
       "\\end{tabular}\n"
      ],
      "text/markdown": [
       "\n",
       "| <!--/--> | statistic | pval | fdr | df.test | df.dna | df.rna.full | df.rna.red | logFC | \n",
       "|---|---|---|---|---|---|\n",
       "| h.2__div_lnc__m.1__div_lnc | 0.4045306  | 0.52475868 | 0.8555111  | 1          | 14         | 5          | 4          | -0.2173339 | \n",
       "| h.3__div_lnc__m.2__antisense | 4.1430825  | 0.04180498 | 0.3536459  | 1          | 13         | 5          | 4          |  1.3000859 | \n",
       "| h.4__antisense_upep__m.3__protein_coding | 3.0864956  | 0.07894466 | 0.4700069  | 1          | 14         | 5          | 4          |  0.4433665 | \n",
       "| h.5__intergenic__m.4__intergenic_upep | 2.8655214  | 0.09049638 | 0.4925091  | 1          | 14         | 5          | 4          |  0.3126041 | \n",
       "| h.6__intergenic__m.4__intergenic_upep | 1.3258316  | 0.24954814 | 0.6680255  | 1          | 14         | 5          | 4          |  0.2006312 | \n",
       "| h.7__div_lnc__m.5__div_lnc | 1.6034714  | 0.20541196 | 0.6172471  | 1          | 14         | 5          | 4          |  0.2037850 | \n",
       "\n",
       "\n"
      ],
      "text/plain": [
       "                                         statistic pval       fdr       df.test\n",
       "h.2__div_lnc__m.1__div_lnc               0.4045306 0.52475868 0.8555111 1      \n",
       "h.3__div_lnc__m.2__antisense             4.1430825 0.04180498 0.3536459 1      \n",
       "h.4__antisense_upep__m.3__protein_coding 3.0864956 0.07894466 0.4700069 1      \n",
       "h.5__intergenic__m.4__intergenic_upep    2.8655214 0.09049638 0.4925091 1      \n",
       "h.6__intergenic__m.4__intergenic_upep    1.3258316 0.24954814 0.6680255 1      \n",
       "h.7__div_lnc__m.5__div_lnc               1.6034714 0.20541196 0.6172471 1      \n",
       "                                         df.dna df.rna.full df.rna.red\n",
       "h.2__div_lnc__m.1__div_lnc               14     5           4         \n",
       "h.3__div_lnc__m.2__antisense             13     5           4         \n",
       "h.4__antisense_upep__m.3__protein_coding 14     5           4         \n",
       "h.5__intergenic__m.4__intergenic_upep    14     5           4         \n",
       "h.6__intergenic__m.4__intergenic_upep    14     5           4         \n",
       "h.7__div_lnc__m.5__div_lnc               14     5           4         \n",
       "                                         logFC     \n",
       "h.2__div_lnc__m.1__div_lnc               -0.2173339\n",
       "h.3__div_lnc__m.2__antisense              1.3000859\n",
       "h.4__antisense_upep__m.3__protein_coding  0.4433665\n",
       "h.5__intergenic__m.4__intergenic_upep     0.3126041\n",
       "h.6__intergenic__m.4__intergenic_upep     0.2006312\n",
       "h.7__div_lnc__m.5__div_lnc                0.2037850"
      ]
     },
     "metadata": {},
     "output_type": "display_data"
    }
   ],
   "source": [
    "human_trans_res <- testLrt(obj4)\n",
    "head(human_trans_res)"
   ]
  },
  {
   "cell_type": "code",
   "execution_count": 65,
   "metadata": {},
   "outputs": [
    {
     "data": {
      "image/png": "[encoded data removed]",
      "text/plain": [
       "Plot with title “Histogram of human_trans_res[all_comp_ctrls, ]$pval”"
      ]
     },
     "metadata": {},
     "output_type": "display_data"
    }
   ],
   "source": [
    "hist(human_trans_res[all_comp_ctrls,]$pval)"
   ]
  },
  {
   "cell_type": "code",
   "execution_count": 66,
   "metadata": {
    "scrolled": true
   },
   "outputs": [
    {
     "data": {
      "image/png": "[encoded data removed]",
      "text/plain": [
       "Plot with title “Histogram of human_trans_res[!all_comp_ctrls, ]$pval”"
      ]
     },
     "metadata": {},
     "output_type": "display_data"
    }
   ],
   "source": [
    "hist(human_trans_res[!all_comp_ctrls,]$pval)"
   ]
  },
  {
   "cell_type": "markdown",
   "metadata": {},
   "source": [
    "## 8. run model to compare cells for mouse seq"
   ]
  },
  {
   "cell_type": "code",
   "execution_count": 67,
   "metadata": {},
   "outputs": [],
   "source": [
    "# note 13 will change depending how many barcodes there are per element\n",
    "mouse_rna_cols$depth <- c(rep(rna_depths[1], 13), rep(rna_depths[2], 13), rep(rna_depths[3], 13))"
   ]
  },
  {
   "cell_type": "code",
   "execution_count": 68,
   "metadata": {},
   "outputs": [],
   "source": [
    "# create MPRA object\n",
    "obj5 <- MpraObject(dnaCounts = all_comp_dna_counts, rnaCounts = mouse_rna_counts, \n",
    "                   dnaAnnot = all_comp_dna_cols, rnaAnnot = mouse_rna_cols, controls = all_comp_ctrls)"
   ]
  },
  {
   "cell_type": "code",
   "execution_count": 69,
   "metadata": {},
   "outputs": [],
   "source": [
    "obj5 <- setDepthFactors(obj5, dnaDepth = all_comp_dna_cols$depth, rnaDepth = mouse_rna_cols$depth)"
   ]
  },
  {
   "cell_type": "code",
   "execution_count": 70,
   "metadata": {},
   "outputs": [
    {
     "name": "stderr",
     "output_type": "stream",
     "text": [
      "Fitting controls-based background model...\n",
      "iter:2\tlog-likelihood:-44484552.2482215\n",
      "iter:3\tlog-likelihood:-44458566.9668512\n",
      "iter:4\tlog-likelihood:-44442503.8533297\n",
      "iter:5\tlog-likelihood:-44430391.997066\n",
      "iter:6\tlog-likelihood:-44421157.3214644\n",
      "iter:7\tlog-likelihood:-44414038.5150919\n",
      "iter:8\tlog-likelihood:-44408566.4694207\n",
      "iter:9\tlog-likelihood:-44404324.2961454\n",
      "iter:10\tlog-likelihood:-44401011.1835181\n",
      "iter:11\tlog-likelihood:-44398422.7300396\n",
      "iter:12\tlog-likelihood:-44396427.4122758\n",
      "iter:13\tlog-likelihood:-44394839.1664952\n",
      "iter:14\tlog-likelihood:-44393591.4447443\n",
      "iter:15\tlog-likelihood:-44392624.6110047\n",
      "iter:16\tlog-likelihood:-44391864.4028906\n",
      "iter:17\tlog-likelihood:-44391277.8486995\n",
      "iter:18\tlog-likelihood:-44390810.0412108\n",
      "iter:19\tlog-likelihood:-44390425.5747995\n",
      "iter:20\tlog-likelihood:-44390155.0357673\n",
      "iter:21\tlog-likelihood:-44389923.747754\n",
      "iter:22\tlog-likelihood:-44389758.9804601\n",
      "iter:23\tlog-likelihood:-44389613.4713472\n",
      "iter:24\tlog-likelihood:-44389490.7240594\n",
      "iter:25\tlog-likelihood:-44389398.4513865\n",
      "iter:26\tlog-likelihood:-44389334.5950822\n",
      "iter:27\tlog-likelihood:-44389282.6914495\n",
      "iter:28\tlog-likelihood:-44389232.4129622\n",
      "iter:29\tlog-likelihood:-44389191.533267\n",
      "Fitting model...\n",
      "[===========================================================] 100% (3679/3679)\n",
      "Fitting reduced model...\n",
      "Analysis Done!                                                                \n"
     ]
    }
   ],
   "source": [
    "obj5 <- analyzeComparative(obj = obj5, \n",
    "                           dnaDesign = ~ barcode, \n",
    "                           rnaDesign = ~ condition, \n",
    "                           reducedDesign = ~ 1) "
   ]
  },
  {
   "cell_type": "code",
   "execution_count": 71,
   "metadata": {},
   "outputs": [
    {
     "name": "stderr",
     "output_type": "stream",
     "text": [
      "Performing Likelihood Ratio Test...\n"
     ]
    },
    {
     "data": {
      "text/html": [
       "<table>\n",
       "<thead><tr><th></th><th scope=col>statistic</th><th scope=col>pval</th><th scope=col>fdr</th><th scope=col>df.test</th><th scope=col>df.dna</th><th scope=col>df.rna.full</th><th scope=col>df.rna.red</th><th scope=col>logFC</th></tr></thead>\n",
       "<tbody>\n",
       "\t<tr><th scope=row>h.2__div_lnc__m.1__div_lnc</th><td>1.6561972  </td><td>0.19811755 </td><td>0.5859184  </td><td>1          </td><td>14         </td><td>5          </td><td>4          </td><td>-0.38455910</td></tr>\n",
       "\t<tr><th scope=row>h.3__div_lnc__m.2__antisense</th><td>2.3045258  </td><td>0.12899765 </td><td>0.4921022  </td><td>1          </td><td>13         </td><td>5          </td><td>4          </td><td> 0.50022678</td></tr>\n",
       "\t<tr><th scope=row>h.4__antisense_upep__m.3__protein_coding</th><td>0.1309040  </td><td>0.71749661 </td><td>0.9023934  </td><td>1          </td><td>14         </td><td>5          </td><td>4          </td><td>-0.08848491</td></tr>\n",
       "\t<tr><th scope=row>h.5__intergenic__m.4__intergenic_upep</th><td>4.0839903  </td><td>0.04329131 </td><td>0.3110510  </td><td>1          </td><td>14         </td><td>5          </td><td>4          </td><td> 0.46058859</td></tr>\n",
       "\t<tr><th scope=row>h.6__intergenic__m.4__intergenic_upep</th><td>3.3455291  </td><td>0.06738781 </td><td>0.3759338  </td><td>1          </td><td>14         </td><td>5          </td><td>4          </td><td> 0.44738711</td></tr>\n",
       "\t<tr><th scope=row>h.7__div_lnc__m.5__div_lnc</th><td>0.8236296  </td><td>0.36412109 </td><td>0.7269964  </td><td>1          </td><td>14         </td><td>5          </td><td>4          </td><td> 0.26827661</td></tr>\n",
       "</tbody>\n",
       "</table>\n"
      ],
      "text/latex": [
       "\\begin{tabular}{r|llllllll}\n",
       "  & statistic & pval & fdr & df.test & df.dna & df.rna.full & df.rna.red & logFC\\\\\n",
       "\\hline\n",
       "\th.2\\_\\_div\\_lnc\\_\\_m.1\\_\\_div\\_lnc & 1.6561972   & 0.19811755  & 0.5859184   & 1           & 14          & 5           & 4           & -0.38455910\\\\\n",
       "\th.3\\_\\_div\\_lnc\\_\\_m.2\\_\\_antisense & 2.3045258   & 0.12899765  & 0.4921022   & 1           & 13          & 5           & 4           &  0.50022678\\\\\n",
       "\th.4\\_\\_antisense\\_upep\\_\\_m.3\\_\\_protein\\_coding & 0.1309040   & 0.71749661  & 0.9023934   & 1           & 14          & 5           & 4           & -0.08848491\\\\\n",
       "\th.5\\_\\_intergenic\\_\\_m.4\\_\\_intergenic\\_upep & 4.0839903   & 0.04329131  & 0.3110510   & 1           & 14          & 5           & 4           &  0.46058859\\\\\n",
       "\th.6\\_\\_intergenic\\_\\_m.4\\_\\_intergenic\\_upep & 3.3455291   & 0.06738781  & 0.3759338   & 1           & 14          & 5           & 4           &  0.44738711\\\\\n",
       "\th.7\\_\\_div\\_lnc\\_\\_m.5\\_\\_div\\_lnc & 0.8236296   & 0.36412109  & 0.7269964   & 1           & 14          & 5           & 4           &  0.26827661\\\\\n",
       "\\end{tabular}\n"
      ],
      "text/markdown": [
       "\n",
       "| <!--/--> | statistic | pval | fdr | df.test | df.dna | df.rna.full | df.rna.red | logFC | \n",
       "|---|---|---|---|---|---|\n",
       "| h.2__div_lnc__m.1__div_lnc | 1.6561972   | 0.19811755  | 0.5859184   | 1           | 14          | 5           | 4           | -0.38455910 | \n",
       "| h.3__div_lnc__m.2__antisense | 2.3045258   | 0.12899765  | 0.4921022   | 1           | 13          | 5           | 4           |  0.50022678 | \n",
       "| h.4__antisense_upep__m.3__protein_coding | 0.1309040   | 0.71749661  | 0.9023934   | 1           | 14          | 5           | 4           | -0.08848491 | \n",
       "| h.5__intergenic__m.4__intergenic_upep | 4.0839903   | 0.04329131  | 0.3110510   | 1           | 14          | 5           | 4           |  0.46058859 | \n",
       "| h.6__intergenic__m.4__intergenic_upep | 3.3455291   | 0.06738781  | 0.3759338   | 1           | 14          | 5           | 4           |  0.44738711 | \n",
       "| h.7__div_lnc__m.5__div_lnc | 0.8236296   | 0.36412109  | 0.7269964   | 1           | 14          | 5           | 4           |  0.26827661 | \n",
       "\n",
       "\n"
      ],
      "text/plain": [
       "                                         statistic pval       fdr       df.test\n",
       "h.2__div_lnc__m.1__div_lnc               1.6561972 0.19811755 0.5859184 1      \n",
       "h.3__div_lnc__m.2__antisense             2.3045258 0.12899765 0.4921022 1      \n",
       "h.4__antisense_upep__m.3__protein_coding 0.1309040 0.71749661 0.9023934 1      \n",
       "h.5__intergenic__m.4__intergenic_upep    4.0839903 0.04329131 0.3110510 1      \n",
       "h.6__intergenic__m.4__intergenic_upep    3.3455291 0.06738781 0.3759338 1      \n",
       "h.7__div_lnc__m.5__div_lnc               0.8236296 0.36412109 0.7269964 1      \n",
       "                                         df.dna df.rna.full df.rna.red\n",
       "h.2__div_lnc__m.1__div_lnc               14     5           4         \n",
       "h.3__div_lnc__m.2__antisense             13     5           4         \n",
       "h.4__antisense_upep__m.3__protein_coding 14     5           4         \n",
       "h.5__intergenic__m.4__intergenic_upep    14     5           4         \n",
       "h.6__intergenic__m.4__intergenic_upep    14     5           4         \n",
       "h.7__div_lnc__m.5__div_lnc               14     5           4         \n",
       "                                         logFC      \n",
       "h.2__div_lnc__m.1__div_lnc               -0.38455910\n",
       "h.3__div_lnc__m.2__antisense              0.50022678\n",
       "h.4__antisense_upep__m.3__protein_coding -0.08848491\n",
       "h.5__intergenic__m.4__intergenic_upep     0.46058859\n",
       "h.6__intergenic__m.4__intergenic_upep     0.44738711\n",
       "h.7__div_lnc__m.5__div_lnc                0.26827661"
      ]
     },
     "metadata": {},
     "output_type": "display_data"
    }
   ],
   "source": [
    "mouse_trans_res <- testLrt(obj5)\n",
    "head(mouse_trans_res)"
   ]
  },
  {
   "cell_type": "code",
   "execution_count": 72,
   "metadata": {},
   "outputs": [
    {
     "data": {
      "image/png": "[encoded data removed]",
      "text/plain": [
       "Plot with title “Histogram of mouse_trans_res[all_comp_ctrls, ]$pval”"
      ]
     },
     "metadata": {},
     "output_type": "display_data"
    }
   ],
   "source": [
    "hist(mouse_trans_res[all_comp_ctrls,]$pval)"
   ]
  },
  {
   "cell_type": "code",
   "execution_count": 73,
   "metadata": {},
   "outputs": [
    {
     "data": {
      "image/png": "[encoded data removed]",
      "text/plain": [
       "Plot with title “Histogram of mouse_trans_res[!all_comp_ctrls, ]$pval”"
      ]
     },
     "metadata": {},
     "output_type": "display_data"
    }
   ],
   "source": [
    "hist(mouse_trans_res[!all_comp_ctrls,]$pval)"
   ]
  },
  {
   "cell_type": "markdown",
   "metadata": {},
   "source": [
    "## 8. write all files"
   ]
  },
  {
   "cell_type": "code",
   "execution_count": 74,
   "metadata": {},
   "outputs": [],
   "source": [
    "write.table(native_res, file = \"../../../data/02__mpra/02__activs/native_results.txt\", sep = \"\\t\",\n",
    "            quote = FALSE)"
   ]
  },
  {
   "cell_type": "code",
   "execution_count": 75,
   "metadata": {},
   "outputs": [],
   "source": [
    "write.table(int_res, file = \"../../../data/02__mpra/02__activs/cis_trans_interaction_results.txt\", sep = \"\\t\",\n",
    "            quote = FALSE)"
   ]
  },
  {
   "cell_type": "code",
   "execution_count": 76,
   "metadata": {},
   "outputs": [],
   "source": [
    "write.table(hues64_res, file = \"../../../data/02__mpra/02__activs/HUES64_cis_results.txt\", sep = \"\\t\",\n",
    "            quote = FALSE)"
   ]
  },
  {
   "cell_type": "code",
   "execution_count": 77,
   "metadata": {},
   "outputs": [],
   "source": [
    "write.table(mesc_res, file = \"../../../data/02__mpra/02__activs/mESC_cis_results.txt\", sep = \"\\t\",\n",
    "            quote = FALSE)"
   ]
  },
  {
   "cell_type": "code",
   "execution_count": 78,
   "metadata": {},
   "outputs": [],
   "source": [
    "write.table(human_trans_res, file = \"../../../data/02__mpra/02__activs/human_trans_results.txt\", sep = \"\\t\",\n",
    "            quote = FALSE)"
   ]
  },
  {
   "cell_type": "code",
   "execution_count": 79,
   "metadata": {},
   "outputs": [],
   "source": [
    "write.table(mouse_trans_res, file = \"../../../data/02__mpra/02__activs/mouse_trans_results.txt\", sep = \"\\t\",\n",
    "            quote = FALSE)"
   ]
  },
  {
   "cell_type": "code",
   "execution_count": null,
   "metadata": {},
   "outputs": [],
   "source": []
  }
 ],
 "metadata": {
  "kernelspec": {
   "display_name": "R",
   "language": "R",
   "name": "ir"
  },
  "language_info": {
   "codemirror_mode": "r",
   "file_extension": ".r",
   "mimetype": "text/x-r-source",
   "name": "R",
   "pygments_lexer": "r",
   "version": "3.5.1"
  }
 },
 "nbformat": 4,
 "nbformat_minor": 2
}
