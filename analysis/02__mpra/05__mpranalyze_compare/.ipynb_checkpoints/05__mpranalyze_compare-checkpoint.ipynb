{
 "cells": [
  {
   "cell_type": "markdown",
   "metadata": {},
   "source": [
    "# 05__mpranalyze_compare\n",
    "\n",
    "in this notebook, i run MPRAnalyze in 'compare' mode to get log2 foldchanges and p-values between (a) sequence orthologs and (b) cell types."
   ]
  },
  {
   "cell_type": "code",
   "execution_count": 1,
   "metadata": {},
   "outputs": [
    {
     "name": "stderr",
     "output_type": "stream",
     "text": [
      "Bioconductor version 3.8 (BiocManager 1.30.4), R 3.5.1 (2018-07-02)\n",
      "Installing package(s) 'MPRAnalyze'\n",
      "Updating HTML index of packages in '.Library'\n",
      "Making 'packages.html' ... done\n",
      "Update old packages: 'assertthat', 'backports', 'BH', 'boot', 'broom', 'callr',\n",
      "  'caret', 'class', 'cli', 'clipr', 'cluster', 'codetools', 'colorspace',\n",
      "  'curl', 'data.table', 'dbplyr', 'ddalpha', 'digest', 'dimRed', 'dplyr',\n",
      "  'evaluate', 'fansi', 'forcats', 'formatR', 'geometry', 'ggplot2', 'glmnet',\n",
      "  'glue', 'gower', 'gtable', 'haven', 'hexbin', 'highr', 'htmlwidgets',\n",
      "  'httpuv', 'httr', 'ipred', 'IRdisplay', 'IRkernel', 'jsonlite', 'kernlab',\n",
      "  'knitr', 'later', 'lattice', 'lava', 'lazyeval', 'magic', 'markdown', 'MASS',\n",
      "  'Matrix', 'mgcv', 'mime', 'ModelMetrics', 'modelr', 'nlme', 'openssl',\n",
      "  'pillar', 'pkgconfig', 'pls', 'processx', 'progress', 'purrr', 'quantmod',\n",
      "  'R6', 'Rcpp', 'readr', 'readxl', 'recipes', 'repr', 'reprex', 'rlang',\n",
      "  'rmarkdown', 'robustbase', 'rpart', 'rstudioapi', 'rvest', 'scales',\n",
      "  'sfsmisc', 'shiny', 'stringi', 'stringr', 'survival', 'testthat', 'tibble',\n",
      "  'tidyr', 'tidyselect', 'tinytex', 'TTR', 'xfun', 'xtable', 'xts', 'zoo'\n"
     ]
    }
   ],
   "source": [
    "# install MPRAnalyze\n",
    "if (!requireNamespace(\"BiocManager\", quietly = TRUE))\n",
    "  install.packages(\"BiocManager\")\n",
    "BiocManager::install(\"MPRAnalyze\", version = \"3.8\")"
   ]
  },
  {
   "cell_type": "code",
   "execution_count": 2,
   "metadata": {},
   "outputs": [
    {
     "name": "stderr",
     "output_type": "stream",
     "text": [
      "Warning message in install.packages(\"RCurl\"):\n",
      "“installation of package ‘RCurl’ had non-zero exit status”Updating HTML index of packages in '.Library'\n",
      "Making 'packages.html' ... done\n"
     ]
    }
   ],
   "source": [
    "# install RCurl\n",
    "install.packages(\"RCurl\")"
   ]
  },
  {
   "cell_type": "code",
   "execution_count": 3,
   "metadata": {},
   "outputs": [],
   "source": [
    "# load the package\n",
    "library(MPRAnalyze)\n",
    "library(tidyr)"
   ]
  },
  {
   "cell_type": "markdown",
   "metadata": {},
   "source": [
    "## 1. load data\n",
    "\n",
    "### first load data for library depth correction"
   ]
  },
  {
   "cell_type": "code",
   "execution_count": 4,
   "metadata": {},
   "outputs": [],
   "source": [
    "dna_counts_depth <- read.table(\"../../../data/02__mpra/01__counts/mpranalyze_files/dna_counts.for_depth_estimation.mpranalyze.txt\", sep=\"\\t\", header=TRUE)\n",
    "\n",
    "# since we only have 1 dna replicate -- add another so code doesn't crash (expects matrix)\n",
    "dna_counts_depth[\"dna_2\"] <- dna_counts_depth[\"dna_1\"]\n",
    "\n",
    "row.names(dna_counts_depth) <- dna_counts_depth$element\n",
    "dna_counts_depth <- dna_counts_depth[ , !(names(dna_counts_depth) %in% c(\"element\")), drop=FALSE]\n",
    "dna_counts_depth <- as.matrix(dna_counts_depth)"
   ]
  },
  {
   "cell_type": "code",
   "execution_count": 5,
   "metadata": {},
   "outputs": [],
   "source": [
    "rna_counts_depth <- read.table(\"../../../data/02__mpra/01__counts/mpranalyze_files/rna_counts.for_depth_estimation.mpranalyze.txt\", sep=\"\\t\", header=TRUE)\n",
    "row.names(rna_counts_depth) <- rna_counts_depth$element\n",
    "rna_counts_depth <- rna_counts_depth[ , !(names(rna_counts_depth) %in% c(\"element\")), drop=FALSE]\n",
    "rna_counts_depth <- as.matrix(rna_counts_depth)"
   ]
  },
  {
   "cell_type": "code",
   "execution_count": 6,
   "metadata": {},
   "outputs": [
    {
     "data": {
      "text/html": [
       "<table>\n",
       "<thead><tr><th></th><th scope=col>id</th><th scope=col>condition</th><th scope=col>sample</th></tr></thead>\n",
       "<tbody>\n",
       "\t<tr><th scope=row>dna_1</th><td>dna_1</td><td>dna  </td><td>1    </td></tr>\n",
       "\t<tr><th scope=row>dna_2</th><td>dna_2</td><td>dna  </td><td>2    </td></tr>\n",
       "</tbody>\n",
       "</table>\n"
      ],
      "text/latex": [
       "\\begin{tabular}{r|lll}\n",
       "  & id & condition & sample\\\\\n",
       "\\hline\n",
       "\tdna\\_1 & dna\\_1 & dna     & 1      \\\\\n",
       "\tdna\\_2 & dna\\_2 & dna     & 2      \\\\\n",
       "\\end{tabular}\n"
      ],
      "text/markdown": [
       "\n",
       "| <!--/--> | id | condition | sample | \n",
       "|---|---|\n",
       "| dna_1 | dna_1 | dna   | 1     | \n",
       "| dna_2 | dna_2 | dna   | 2     | \n",
       "\n",
       "\n"
      ],
      "text/plain": [
       "      id    condition sample\n",
       "dna_1 dna_1 dna       1     \n",
       "dna_2 dna_2 dna       2     "
      ]
     },
     "metadata": {},
     "output_type": "display_data"
    }
   ],
   "source": [
    "dna_cols_depth <- read.table(\"../../../data/02__mpra/01__counts/mpranalyze_files/dna_col_ann.for_depth_estimation.mpranalyze.txt\", sep=\"\\t\", header=TRUE)\n",
    "names(dna_cols_depth) <- c(\"id\", \"condition\", \"sample\")\n",
    "\n",
    "# add second row to dna_cols_depth\n",
    "row2 <- data.frame(id=\"dna_2\", condition=\"dna\", sample=\"2\")\n",
    "dna_cols_depth <- rbind(dna_cols_depth, row2)\n",
    "row.names(dna_cols_depth) <- dna_cols_depth$id\n",
    "\n",
    "rna_cols_depth <- read.table(\"../../../data/02__mpra/01__counts/mpranalyze_files/rna_col_ann.for_depth_estimation.mpranalyze.txt\", sep=\"\\t\", header=TRUE)\n",
    "names(rna_cols_depth) <- c(\"id\", \"condition\", \"sample\")\n",
    "row.names(rna_cols_depth) <- rna_cols_depth$id\n",
    "dna_cols_depth"
   ]
  },
  {
   "cell_type": "code",
   "execution_count": 7,
   "metadata": {},
   "outputs": [],
   "source": [
    "# make sure everything is a factor\n",
    "dna_cols_depth$sample <- as.factor(dna_cols_depth$sample)\n",
    "rna_cols_depth$sample <- as.factor(rna_cols_depth$sample)\n",
    "dna_cols_depth$condition <- as.factor(dna_cols_depth$condition)\n",
    "rna_cols_depth$condition <- as.factor(rna_cols_depth$condition)"
   ]
  },
  {
   "cell_type": "markdown",
   "metadata": {},
   "source": [
    "### then data to model: all data for cis+ trans interactions"
   ]
  },
  {
   "cell_type": "code",
   "execution_count": 8,
   "metadata": {},
   "outputs": [],
   "source": [
    "seq_comp_dna_counts <- read.table(\"../../../data/02__mpra/01__counts/mpranalyze_files/dna_counts.seq_comp.mpranalyze.txt\", sep=\"\\t\", header=TRUE)\n",
    "row.names(seq_comp_dna_counts) <- seq_comp_dna_counts$comp_id\n",
    "seq_comp_dna_counts <- seq_comp_dna_counts[ , !(names(seq_comp_dna_counts) %in% c(\"comp_id\"))]\n",
    "seq_comp_dna_counts <- as.matrix(seq_comp_dna_counts)"
   ]
  },
  {
   "cell_type": "code",
   "execution_count": 9,
   "metadata": {},
   "outputs": [],
   "source": [
    "# load all cell lines first\n",
    "all_rna_counts <- read.table(\"../../../data/02__mpra/01__counts/mpranalyze_files/all_rna_counts.seq_comp.mpranalyze.txt\", sep=\"\\t\", header=TRUE)\n",
    "row.names(all_rna_counts) <- all_rna_counts$comp_id\n",
    "all_rna_counts <- all_rna_counts[ , !(names(all_rna_counts) %in% c(\"comp_id\"))]\n",
    "all_rna_counts <- as.matrix(all_rna_counts)"
   ]
  },
  {
   "cell_type": "code",
   "execution_count": 10,
   "metadata": {},
   "outputs": [],
   "source": [
    "seq_comp_dna_cols <- read.table(\"../../../data/02__mpra/01__counts/mpranalyze_files/dna_col_ann.seq_comp.mpranalyze.txt\", sep=\"\\t\", header=TRUE)\n",
    "row.names(seq_comp_dna_cols) <- seq_comp_dna_cols$X\n",
    "\n",
    "all_rna_cols <- read.table(\"../../../data/02__mpra/01__counts/mpranalyze_files/all_col_ann.seq_comp.mpranalyze.txt\", sep=\"\\t\", header=TRUE)\n",
    "row.names(all_rna_cols) <- all_rna_cols$X"
   ]
  },
  {
   "cell_type": "code",
   "execution_count": 11,
   "metadata": {},
   "outputs": [],
   "source": [
    "# make sure everything is a factor\n",
    "seq_comp_dna_cols$barcode <- as.factor(seq_comp_dna_cols$barcode)\n",
    "all_rna_cols$barcode <- as.factor(all_rna_cols$barcode)\n",
    "\n",
    "seq_comp_dna_cols$sample <- as.factor(seq_comp_dna_cols$sample)\n",
    "all_rna_cols$sample <- as.factor(all_rna_cols$sample)\n",
    "\n",
    "seq_comp_dna_cols$seq <- as.factor(seq_comp_dna_cols$seq)\n",
    "all_rna_cols$seq <- as.factor(all_rna_cols$seq)\n",
    "\n",
    "seq_comp_dna_cols$condition <- as.factor(seq_comp_dna_cols$condition)\n",
    "all_rna_cols$condition <- as.factor(all_rna_cols$condition)"
   ]
  },
  {
   "cell_type": "code",
   "execution_count": 12,
   "metadata": {},
   "outputs": [
    {
     "data": {
      "text/html": [
       "<ol class=list-inline>\n",
       "\t<li>FALSE</li>\n",
       "\t<li>FALSE</li>\n",
       "\t<li>FALSE</li>\n",
       "\t<li>FALSE</li>\n",
       "\t<li>FALSE</li>\n",
       "\t<li>FALSE</li>\n",
       "</ol>\n"
      ],
      "text/latex": [
       "\\begin{enumerate*}\n",
       "\\item FALSE\n",
       "\\item FALSE\n",
       "\\item FALSE\n",
       "\\item FALSE\n",
       "\\item FALSE\n",
       "\\item FALSE\n",
       "\\end{enumerate*}\n"
      ],
      "text/markdown": [
       "1. FALSE\n",
       "2. FALSE\n",
       "3. FALSE\n",
       "4. FALSE\n",
       "5. FALSE\n",
       "6. FALSE\n",
       "\n",
       "\n"
      ],
      "text/plain": [
       "[1] FALSE FALSE FALSE FALSE FALSE FALSE"
      ]
     },
     "metadata": {},
     "output_type": "display_data"
    }
   ],
   "source": [
    "seq_comp_ctrls <- read.table(\"../../../data/02__mpra/01__counts/mpranalyze_files/ctrl_status.seq_comp.mpranalyze.txt\", sep=\"\\t\", header=TRUE)\n",
    "seq_comp_ctrls <- as.logical(seq_comp_ctrls$ctrl_status)\n",
    "head(seq_comp_ctrls)"
   ]
  },
  {
   "cell_type": "code",
   "execution_count": 13,
   "metadata": {},
   "outputs": [
    {
     "data": {
      "text/html": [
       "3679"
      ],
      "text/latex": [
       "3679"
      ],
      "text/markdown": [
       "3679"
      ],
      "text/plain": [
       "[1] 3679"
      ]
     },
     "metadata": {},
     "output_type": "display_data"
    }
   ],
   "source": [
    "length(seq_comp_ctrls)"
   ]
  },
  {
   "cell_type": "markdown",
   "metadata": {},
   "source": [
    "### human/mouse data for cis effects in each cell line"
   ]
  },
  {
   "cell_type": "code",
   "execution_count": 14,
   "metadata": {},
   "outputs": [],
   "source": [
    "# for seq comparisons, load each cell line data separately\n",
    "hues64_rna_counts <- read.table(\"../../../data/02__mpra/01__counts/mpranalyze_files/HUES64_rna_counts.seq_comp.mpranalyze.txt\", sep=\"\\t\", header=TRUE)\n",
    "row.names(hues64_rna_counts) <- hues64_rna_counts$comp_id\n",
    "hues64_rna_counts <- hues64_rna_counts[ , !(names(hues64_rna_counts) %in% c(\"comp_id\"))]\n",
    "hues64_rna_counts <- as.matrix(hues64_rna_counts)\n",
    "\n",
    "mesc_rna_counts <- read.table(\"../../../data/02__mpra/01__counts/mpranalyze_files/mESC_rna_counts.seq_comp.mpranalyze.txt\", sep=\"\\t\", header=TRUE)\n",
    "row.names(mesc_rna_counts) <- mesc_rna_counts$comp_id\n",
    "mesc_rna_counts <- mesc_rna_counts[ , !(names(mesc_rna_counts) %in% c(\"comp_id\"))]\n",
    "mesc_rna_counts <- as.matrix(mesc_rna_counts)"
   ]
  },
  {
   "cell_type": "code",
   "execution_count": 15,
   "metadata": {},
   "outputs": [],
   "source": [
    "hues64_rna_cols <- read.table(\"../../../data/02__mpra/01__counts/mpranalyze_files/HUES64_col_ann.seq_comp.mpranalyze.txt\", sep=\"\\t\", header=TRUE)\n",
    "row.names(hues64_rna_cols) <- hues64_rna_cols$X\n",
    "\n",
    "mesc_rna_cols <- read.table(\"../../../data/02__mpra/01__counts/mpranalyze_files/mESC_col_ann.seq_comp.mpranalyze.txt\", sep=\"\\t\", header=TRUE)\n",
    "row.names(mesc_rna_cols) <- mesc_rna_cols$X"
   ]
  },
  {
   "cell_type": "code",
   "execution_count": 16,
   "metadata": {},
   "outputs": [],
   "source": [
    "# make sure everything is a factor\n",
    "hues64_rna_cols$barcode <- as.factor(hues64_rna_cols$barcode)\n",
    "mesc_rna_cols$barcode <- as.factor(mesc_rna_cols$barcode)\n",
    "\n",
    "hues64_rna_cols$sample <- as.factor(hues64_rna_cols$sample)\n",
    "mesc_rna_cols$sample <- as.factor(mesc_rna_cols$sample)\n",
    "\n",
    "hues64_rna_cols$seq <- as.factor(hues64_rna_cols$seq)\n",
    "mesc_rna_cols$seq <- as.factor(mesc_rna_cols$seq)\n",
    "\n",
    "hues64_rna_cols$condition <- as.factor(hues64_rna_cols$condition)\n",
    "mesc_rna_cols$condition <- as.factor(mesc_rna_cols$condition)"
   ]
  },
  {
   "cell_type": "markdown",
   "metadata": {},
   "source": [
    "### data for cell type comparison"
   ]
  },
  {
   "cell_type": "code",
   "execution_count": 17,
   "metadata": {},
   "outputs": [],
   "source": [
    "cell_comp_dna_counts <- read.table(\"../../../data/02__mpra/01__counts/mpranalyze_files/dna_counts.cell_comp.mpranalyze.txt\", sep=\"\\t\", header=TRUE)\n",
    "row.names(cell_comp_dna_counts) <- cell_comp_dna_counts$element\n",
    "cell_comp_dna_counts <- cell_comp_dna_counts[ , !(names(cell_comp_dna_counts) %in% c(\"element\"))]\n",
    "cell_comp_dna_counts <- as.matrix(cell_comp_dna_counts)"
   ]
  },
  {
   "cell_type": "code",
   "execution_count": 18,
   "metadata": {},
   "outputs": [],
   "source": [
    "cell_comp_rna_counts <- read.table(\"../../../data/02__mpra/01__counts/mpranalyze_files/rna_counts.cell_comp.mpranalyze.txt\", sep=\"\\t\", header=TRUE)\n",
    "row.names(cell_comp_rna_counts) <- cell_comp_rna_counts$element\n",
    "cell_comp_rna_counts <- cell_comp_rna_counts[ , !(names(cell_comp_rna_counts) %in% c(\"element\"))]\n",
    "cell_comp_rna_counts <- as.matrix(cell_comp_rna_counts)"
   ]
  },
  {
   "cell_type": "code",
   "execution_count": 19,
   "metadata": {},
   "outputs": [],
   "source": [
    "cell_comp_dna_cols <- read.table(\"../../../data/02__mpra/01__counts/mpranalyze_files/dna_col_ann.cell_comp.mpranalyze.txt\", sep=\"\\t\", header=TRUE)\n",
    "row.names(cell_comp_dna_cols) <- cell_comp_dna_cols$X\n",
    "\n",
    "cell_comp_rna_cols <- read.table(\"../../../data/02__mpra/01__counts/mpranalyze_files/rna_col_ann.cell_comp.mpranalyze.txt\", sep=\"\\t\", header=TRUE)\n",
    "row.names(cell_comp_rna_cols) <- cell_comp_rna_cols$X"
   ]
  },
  {
   "cell_type": "code",
   "execution_count": 20,
   "metadata": {},
   "outputs": [
    {
     "data": {
      "text/html": [
       "<table>\n",
       "<thead><tr><th></th><th scope=col>X</th><th scope=col>sample</th><th scope=col>condition</th><th scope=col>barcode</th></tr></thead>\n",
       "<tbody>\n",
       "\t<tr><th scope=row>samp:HUES64_rep1__barc:1</th><td>samp:HUES64_rep1__barc:1 </td><td>rep1                     </td><td>HUES64                   </td><td>1                        </td></tr>\n",
       "\t<tr><th scope=row>samp:HUES64_rep1__barc:10</th><td>samp:HUES64_rep1__barc:10</td><td>rep1                     </td><td>HUES64                   </td><td>10                       </td></tr>\n",
       "\t<tr><th scope=row>samp:HUES64_rep1__barc:11</th><td>samp:HUES64_rep1__barc:11</td><td>rep1                     </td><td>HUES64                   </td><td>11                       </td></tr>\n",
       "\t<tr><th scope=row>samp:HUES64_rep1__barc:12</th><td>samp:HUES64_rep1__barc:12</td><td>rep1                     </td><td>HUES64                   </td><td>12                       </td></tr>\n",
       "\t<tr><th scope=row>samp:HUES64_rep1__barc:13</th><td>samp:HUES64_rep1__barc:13</td><td>rep1                     </td><td>HUES64                   </td><td>13                       </td></tr>\n",
       "\t<tr><th scope=row>samp:HUES64_rep1__barc:2</th><td>samp:HUES64_rep1__barc:2 </td><td>rep1                     </td><td>HUES64                   </td><td>2                        </td></tr>\n",
       "</tbody>\n",
       "</table>\n"
      ],
      "text/latex": [
       "\\begin{tabular}{r|llll}\n",
       "  & X & sample & condition & barcode\\\\\n",
       "\\hline\n",
       "\tsamp:HUES64\\_rep1\\_\\_barc:1 & samp:HUES64\\_rep1\\_\\_barc:1  & rep1                            & HUES64                          & 1                              \\\\\n",
       "\tsamp:HUES64\\_rep1\\_\\_barc:10 & samp:HUES64\\_rep1\\_\\_barc:10 & rep1                            & HUES64                          & 10                             \\\\\n",
       "\tsamp:HUES64\\_rep1\\_\\_barc:11 & samp:HUES64\\_rep1\\_\\_barc:11 & rep1                            & HUES64                          & 11                             \\\\\n",
       "\tsamp:HUES64\\_rep1\\_\\_barc:12 & samp:HUES64\\_rep1\\_\\_barc:12 & rep1                            & HUES64                          & 12                             \\\\\n",
       "\tsamp:HUES64\\_rep1\\_\\_barc:13 & samp:HUES64\\_rep1\\_\\_barc:13 & rep1                            & HUES64                          & 13                             \\\\\n",
       "\tsamp:HUES64\\_rep1\\_\\_barc:2 & samp:HUES64\\_rep1\\_\\_barc:2  & rep1                            & HUES64                          & 2                              \\\\\n",
       "\\end{tabular}\n"
      ],
      "text/markdown": [
       "\n",
       "| <!--/--> | X | sample | condition | barcode | \n",
       "|---|---|---|---|---|---|\n",
       "| samp:HUES64_rep1__barc:1 | samp:HUES64_rep1__barc:1  | rep1                      | HUES64                    | 1                         | \n",
       "| samp:HUES64_rep1__barc:10 | samp:HUES64_rep1__barc:10 | rep1                      | HUES64                    | 10                        | \n",
       "| samp:HUES64_rep1__barc:11 | samp:HUES64_rep1__barc:11 | rep1                      | HUES64                    | 11                        | \n",
       "| samp:HUES64_rep1__barc:12 | samp:HUES64_rep1__barc:12 | rep1                      | HUES64                    | 12                        | \n",
       "| samp:HUES64_rep1__barc:13 | samp:HUES64_rep1__barc:13 | rep1                      | HUES64                    | 13                        | \n",
       "| samp:HUES64_rep1__barc:2 | samp:HUES64_rep1__barc:2  | rep1                      | HUES64                    | 2                         | \n",
       "\n",
       "\n"
      ],
      "text/plain": [
       "                          X                         sample condition barcode\n",
       "samp:HUES64_rep1__barc:1  samp:HUES64_rep1__barc:1  rep1   HUES64    1      \n",
       "samp:HUES64_rep1__barc:10 samp:HUES64_rep1__barc:10 rep1   HUES64    10     \n",
       "samp:HUES64_rep1__barc:11 samp:HUES64_rep1__barc:11 rep1   HUES64    11     \n",
       "samp:HUES64_rep1__barc:12 samp:HUES64_rep1__barc:12 rep1   HUES64    12     \n",
       "samp:HUES64_rep1__barc:13 samp:HUES64_rep1__barc:13 rep1   HUES64    13     \n",
       "samp:HUES64_rep1__barc:2  samp:HUES64_rep1__barc:2  rep1   HUES64    2      "
      ]
     },
     "metadata": {},
     "output_type": "display_data"
    }
   ],
   "source": [
    "# make sure everything is a factor\n",
    "cell_comp_dna_cols$barcode <- as.factor(cell_comp_dna_cols$barcode)\n",
    "cell_comp_rna_cols$barcode <- as.factor(cell_comp_rna_cols$barcode)\n",
    "\n",
    "cell_comp_dna_cols$sample <- as.factor(cell_comp_dna_cols$sample)\n",
    "cell_comp_rna_cols$sample <- as.factor(cell_comp_rna_cols$sample)\n",
    "\n",
    "cell_comp_dna_cols$condition <- as.factor(cell_comp_dna_cols$condition)\n",
    "cell_comp_rna_cols$condition <- as.factor(cell_comp_rna_cols$condition)\n",
    "head(cell_comp_rna_cols)"
   ]
  },
  {
   "cell_type": "code",
   "execution_count": 21,
   "metadata": {},
   "outputs": [
    {
     "data": {
      "text/html": [
       "<ol class=list-inline>\n",
       "\t<li>FALSE</li>\n",
       "\t<li>FALSE</li>\n",
       "\t<li>FALSE</li>\n",
       "\t<li>FALSE</li>\n",
       "\t<li>FALSE</li>\n",
       "\t<li>FALSE</li>\n",
       "</ol>\n"
      ],
      "text/latex": [
       "\\begin{enumerate*}\n",
       "\\item FALSE\n",
       "\\item FALSE\n",
       "\\item FALSE\n",
       "\\item FALSE\n",
       "\\item FALSE\n",
       "\\item FALSE\n",
       "\\end{enumerate*}\n"
      ],
      "text/markdown": [
       "1. FALSE\n",
       "2. FALSE\n",
       "3. FALSE\n",
       "4. FALSE\n",
       "5. FALSE\n",
       "6. FALSE\n",
       "\n",
       "\n"
      ],
      "text/plain": [
       "[1] FALSE FALSE FALSE FALSE FALSE FALSE"
      ]
     },
     "metadata": {},
     "output_type": "display_data"
    }
   ],
   "source": [
    "cell_comp_ctrls <- read.table(\"../../../data/02__mpra/01__counts/mpranalyze_files/ctrl_status.cell_comp.mpranalyze.txt\", sep=\"\\t\", header=TRUE)\n",
    "cell_comp_ctrls <- as.logical(cell_comp_ctrls$ctrl_status)\n",
    "head(cell_comp_ctrls)"
   ]
  },
  {
   "cell_type": "code",
   "execution_count": 22,
   "metadata": {},
   "outputs": [
    {
     "data": {
      "text/html": [
       "7004"
      ],
      "text/latex": [
       "7004"
      ],
      "text/markdown": [
       "7004"
      ],
      "text/plain": [
       "[1] 7004"
      ]
     },
     "metadata": {},
     "output_type": "display_data"
    }
   ],
   "source": [
    "length(cell_comp_ctrls)"
   ]
  },
  {
   "cell_type": "markdown",
   "metadata": {},
   "source": [
    "## 2. estimate library depth for sample/condition pair\n",
    "\n",
    "since our library has many more sequences than just the TSSs we want to model, estimate the library depth based on the full seq output (or downsampled counts, in HUES64 case), then manually provide this estimation to the model"
   ]
  },
  {
   "cell_type": "code",
   "execution_count": 23,
   "metadata": {},
   "outputs": [],
   "source": [
    "# create MPRA object\n",
    "depth_obj <- MpraObject(dnaCounts = dna_counts_depth, rnaCounts = rna_counts_depth, \n",
    "                        dnaAnnot = dna_cols_depth, rnaAnnot = rna_cols_depth)"
   ]
  },
  {
   "cell_type": "code",
   "execution_count": 24,
   "metadata": {},
   "outputs": [],
   "source": [
    "# estimate depth factors using uq -- here, a sample/condition pair == 1 library\n",
    "depth_obj <- estimateDepthFactors(depth_obj, lib.factor = c(\"sample\", \"condition\"),  depth.estimator='uq',\n",
    "                                  which.lib = \"both\")"
   ]
  },
  {
   "cell_type": "code",
   "execution_count": 25,
   "metadata": {},
   "outputs": [
    {
     "data": {
      "text/html": [
       "<ol class=list-inline>\n",
       "\t<li>1</li>\n",
       "\t<li>0.952685050798258</li>\n",
       "\t<li>1.02271407837446</li>\n",
       "</ol>\n"
      ],
      "text/latex": [
       "\\begin{enumerate*}\n",
       "\\item 1\n",
       "\\item 0.952685050798258\n",
       "\\item 1.02271407837446\n",
       "\\end{enumerate*}\n"
      ],
      "text/markdown": [
       "1. 1\n",
       "2. 0.952685050798258\n",
       "3. 1.02271407837446\n",
       "\n",
       "\n"
      ],
      "text/plain": [
       "[1] 1.0000000 0.9526851 1.0227141"
      ]
     },
     "metadata": {},
     "output_type": "display_data"
    }
   ],
   "source": [
    "rna_depths <- rnaDepth(depth_obj)\n",
    "rna_depths"
   ]
  },
  {
   "cell_type": "code",
   "execution_count": 26,
   "metadata": {},
   "outputs": [
    {
     "data": {
      "text/html": [
       "<table>\n",
       "<thead><tr><th></th><th scope=col>id</th><th scope=col>condition</th><th scope=col>sample</th></tr></thead>\n",
       "<tbody>\n",
       "\t<tr><th scope=row>HUES64_rep1</th><td>HUES64_rep1</td><td>HUES64     </td><td>1          </td></tr>\n",
       "\t<tr><th scope=row>HUES64_rep2</th><td>HUES64_rep2</td><td>HUES64     </td><td>2          </td></tr>\n",
       "\t<tr><th scope=row>mESC_rep1</th><td>mESC_rep1  </td><td>mESC       </td><td>1          </td></tr>\n",
       "</tbody>\n",
       "</table>\n"
      ],
      "text/latex": [
       "\\begin{tabular}{r|lll}\n",
       "  & id & condition & sample\\\\\n",
       "\\hline\n",
       "\tHUES64\\_rep1 & HUES64\\_rep1 & HUES64        & 1            \\\\\n",
       "\tHUES64\\_rep2 & HUES64\\_rep2 & HUES64        & 2            \\\\\n",
       "\tmESC\\_rep1 & mESC\\_rep1   & mESC          & 1            \\\\\n",
       "\\end{tabular}\n"
      ],
      "text/markdown": [
       "\n",
       "| <!--/--> | id | condition | sample | \n",
       "|---|---|---|\n",
       "| HUES64_rep1 | HUES64_rep1 | HUES64      | 1           | \n",
       "| HUES64_rep2 | HUES64_rep2 | HUES64      | 2           | \n",
       "| mESC_rep1 | mESC_rep1   | mESC        | 1           | \n",
       "\n",
       "\n"
      ],
      "text/plain": [
       "            id          condition sample\n",
       "HUES64_rep1 HUES64_rep1 HUES64    1     \n",
       "HUES64_rep2 HUES64_rep2 HUES64    2     \n",
       "mESC_rep1   mESC_rep1   mESC      1     "
      ]
     },
     "metadata": {},
     "output_type": "display_data"
    }
   ],
   "source": [
    "rna_cols_depth"
   ]
  },
  {
   "cell_type": "markdown",
   "metadata": {},
   "source": [
    "## 3. run model to compare seq / condition interactions"
   ]
  },
  {
   "cell_type": "code",
   "execution_count": 27,
   "metadata": {},
   "outputs": [],
   "source": [
    "# first need to set the dnadepths and rnadepths manually\n",
    "seq_comp_dna_cols$depth <- rep(1, nrow(seq_comp_dna_cols))\n",
    "\n",
    "# note 13 will change depending how many barcodes there are per element\n",
    "all_rna_cols$depth <- c(rep(rna_depths[1], 13*2), rep(rna_depths[2], 13*2), rep(rna_depths[3], 13*2))"
   ]
  },
  {
   "cell_type": "code",
   "execution_count": 28,
   "metadata": {},
   "outputs": [],
   "source": [
    "# create MPRA object\n",
    "obj1 <- MpraObject(dnaCounts = seq_comp_dna_counts, rnaCounts = all_rna_counts, \n",
    "                   dnaAnnot = seq_comp_dna_cols, rnaAnnot = all_rna_cols, controls = seq_comp_ctrls)"
   ]
  },
  {
   "cell_type": "code",
   "execution_count": 29,
   "metadata": {},
   "outputs": [],
   "source": [
    "obj1 <- setDepthFactors(obj1, dnaDepth = seq_comp_dna_cols$depth, rnaDepth = all_rna_cols$depth)"
   ]
  },
  {
   "cell_type": "code",
   "execution_count": 30,
   "metadata": {},
   "outputs": [
    {
     "data": {
      "text/html": [
       "<table>\n",
       "<thead><tr><th></th><th scope=col>X</th><th scope=col>sample</th><th scope=col>condition</th><th scope=col>barcode</th><th scope=col>seq</th><th scope=col>depth</th></tr></thead>\n",
       "<tbody>\n",
       "\t<tr><th scope=row>samp:HUES64_rep1__barc:10__seq:human</th><td>samp:HUES64_rep1__barc:10__seq:human</td><td>1                                   </td><td>HUES64                              </td><td>10                                  </td><td>human                               </td><td>1                                   </td></tr>\n",
       "\t<tr><th scope=row>samp:HUES64_rep1__barc:10__seq:mouse</th><td>samp:HUES64_rep1__barc:10__seq:mouse</td><td>1                                   </td><td>HUES64                              </td><td>10                                  </td><td>mouse                               </td><td>1                                   </td></tr>\n",
       "\t<tr><th scope=row>samp:HUES64_rep1__barc:11__seq:human</th><td>samp:HUES64_rep1__barc:11__seq:human</td><td>1                                   </td><td>HUES64                              </td><td>11                                  </td><td>human                               </td><td>1                                   </td></tr>\n",
       "\t<tr><th scope=row>samp:HUES64_rep1__barc:11__seq:mouse</th><td>samp:HUES64_rep1__barc:11__seq:mouse</td><td>1                                   </td><td>HUES64                              </td><td>11                                  </td><td>mouse                               </td><td>1                                   </td></tr>\n",
       "\t<tr><th scope=row>samp:HUES64_rep1__barc:12__seq:human</th><td>samp:HUES64_rep1__barc:12__seq:human</td><td>1                                   </td><td>HUES64                              </td><td>12                                  </td><td>human                               </td><td>1                                   </td></tr>\n",
       "\t<tr><th scope=row>samp:HUES64_rep1__barc:12__seq:mouse</th><td>samp:HUES64_rep1__barc:12__seq:mouse</td><td>1                                   </td><td>HUES64                              </td><td>12                                  </td><td>mouse                               </td><td>1                                   </td></tr>\n",
       "</tbody>\n",
       "</table>\n"
      ],
      "text/latex": [
       "\\begin{tabular}{r|llllll}\n",
       "  & X & sample & condition & barcode & seq & depth\\\\\n",
       "\\hline\n",
       "\tsamp:HUES64\\_rep1\\_\\_barc:10\\_\\_seq:human & samp:HUES64\\_rep1\\_\\_barc:10\\_\\_seq:human & 1                                              & HUES64                                         & 10                                             & human                                          & 1                                             \\\\\n",
       "\tsamp:HUES64\\_rep1\\_\\_barc:10\\_\\_seq:mouse & samp:HUES64\\_rep1\\_\\_barc:10\\_\\_seq:mouse & 1                                              & HUES64                                         & 10                                             & mouse                                          & 1                                             \\\\\n",
       "\tsamp:HUES64\\_rep1\\_\\_barc:11\\_\\_seq:human & samp:HUES64\\_rep1\\_\\_barc:11\\_\\_seq:human & 1                                              & HUES64                                         & 11                                             & human                                          & 1                                             \\\\\n",
       "\tsamp:HUES64\\_rep1\\_\\_barc:11\\_\\_seq:mouse & samp:HUES64\\_rep1\\_\\_barc:11\\_\\_seq:mouse & 1                                              & HUES64                                         & 11                                             & mouse                                          & 1                                             \\\\\n",
       "\tsamp:HUES64\\_rep1\\_\\_barc:12\\_\\_seq:human & samp:HUES64\\_rep1\\_\\_barc:12\\_\\_seq:human & 1                                              & HUES64                                         & 12                                             & human                                          & 1                                             \\\\\n",
       "\tsamp:HUES64\\_rep1\\_\\_barc:12\\_\\_seq:mouse & samp:HUES64\\_rep1\\_\\_barc:12\\_\\_seq:mouse & 1                                              & HUES64                                         & 12                                             & mouse                                          & 1                                             \\\\\n",
       "\\end{tabular}\n"
      ],
      "text/markdown": [
       "\n",
       "| <!--/--> | X | sample | condition | barcode | seq | depth | \n",
       "|---|---|---|---|---|---|\n",
       "| samp:HUES64_rep1__barc:10__seq:human | samp:HUES64_rep1__barc:10__seq:human | 1                                    | HUES64                               | 10                                   | human                                | 1                                    | \n",
       "| samp:HUES64_rep1__barc:10__seq:mouse | samp:HUES64_rep1__barc:10__seq:mouse | 1                                    | HUES64                               | 10                                   | mouse                                | 1                                    | \n",
       "| samp:HUES64_rep1__barc:11__seq:human | samp:HUES64_rep1__barc:11__seq:human | 1                                    | HUES64                               | 11                                   | human                                | 1                                    | \n",
       "| samp:HUES64_rep1__barc:11__seq:mouse | samp:HUES64_rep1__barc:11__seq:mouse | 1                                    | HUES64                               | 11                                   | mouse                                | 1                                    | \n",
       "| samp:HUES64_rep1__barc:12__seq:human | samp:HUES64_rep1__barc:12__seq:human | 1                                    | HUES64                               | 12                                   | human                                | 1                                    | \n",
       "| samp:HUES64_rep1__barc:12__seq:mouse | samp:HUES64_rep1__barc:12__seq:mouse | 1                                    | HUES64                               | 12                                   | mouse                                | 1                                    | \n",
       "\n",
       "\n"
      ],
      "text/plain": [
       "                                     X                                   \n",
       "samp:HUES64_rep1__barc:10__seq:human samp:HUES64_rep1__barc:10__seq:human\n",
       "samp:HUES64_rep1__barc:10__seq:mouse samp:HUES64_rep1__barc:10__seq:mouse\n",
       "samp:HUES64_rep1__barc:11__seq:human samp:HUES64_rep1__barc:11__seq:human\n",
       "samp:HUES64_rep1__barc:11__seq:mouse samp:HUES64_rep1__barc:11__seq:mouse\n",
       "samp:HUES64_rep1__barc:12__seq:human samp:HUES64_rep1__barc:12__seq:human\n",
       "samp:HUES64_rep1__barc:12__seq:mouse samp:HUES64_rep1__barc:12__seq:mouse\n",
       "                                     sample condition barcode seq   depth\n",
       "samp:HUES64_rep1__barc:10__seq:human 1      HUES64    10      human 1    \n",
       "samp:HUES64_rep1__barc:10__seq:mouse 1      HUES64    10      mouse 1    \n",
       "samp:HUES64_rep1__barc:11__seq:human 1      HUES64    11      human 1    \n",
       "samp:HUES64_rep1__barc:11__seq:mouse 1      HUES64    11      mouse 1    \n",
       "samp:HUES64_rep1__barc:12__seq:human 1      HUES64    12      human 1    \n",
       "samp:HUES64_rep1__barc:12__seq:mouse 1      HUES64    12      mouse 1    "
      ]
     },
     "metadata": {},
     "output_type": "display_data"
    }
   ],
   "source": [
    "head(all_rna_cols)"
   ]
  },
  {
   "cell_type": "code",
   "execution_count": 31,
   "metadata": {},
   "outputs": [
    {
     "name": "stderr",
     "output_type": "stream",
     "text": [
      "Fitting controls-based background model...\n",
      "iter:2\tlog-likelihood:-92574750.4379101\n",
      "iter:3\tlog-likelihood:-92568135.4495386\n",
      "iter:4\tlog-likelihood:-92565691.9676247\n",
      "iter:5\tlog-likelihood:-92563760.2699794\n",
      "iter:6\tlog-likelihood:-92562205.5033727\n",
      "iter:7\tlog-likelihood:-92560911.3130771\n",
      "iter:8\tlog-likelihood:-92559845.4401309\n",
      "iter:9\tlog-likelihood:-92558967.7370648\n",
      "iter:10\tlog-likelihood:-92558237.8481204\n",
      "iter:11\tlog-likelihood:-92557641.3887367\n",
      "iter:12\tlog-likelihood:-92557135.6563875\n",
      "iter:13\tlog-likelihood:-92556750.0440164\n",
      "iter:14\tlog-likelihood:-92556411.4722495\n",
      "iter:15\tlog-likelihood:-92556130.6835533\n",
      "iter:16\tlog-likelihood:-92555900.3984164\n",
      "iter:17\tlog-likelihood:-92555704.1375813\n",
      "iter:18\tlog-likelihood:-92555541.9546488\n",
      "iter:19\tlog-likelihood:-92555405.9867185\n",
      "iter:20\tlog-likelihood:-92555304.9521196\n",
      "iter:21\tlog-likelihood:-92555210.8565766\n",
      "iter:22\tlog-likelihood:-92555138.4139946\n",
      "Fitting model...\n",
      "[===========================================================] 100% (3679/3679)\n",
      "Fitting reduced model...\n",
      "Analysis Done!                                                                \n"
     ]
    }
   ],
   "source": [
    "obj1 <- analyzeComparative(obj = obj1, \n",
    "                           dnaDesign = ~ barcode, \n",
    "                           rnaDesign = ~ seq + condition + seq:condition, \n",
    "                           reducedDesign = ~ seq + condition) "
   ]
  },
  {
   "cell_type": "code",
   "execution_count": 32,
   "metadata": {},
   "outputs": [
    {
     "name": "stderr",
     "output_type": "stream",
     "text": [
      "Performing Likelihood Ratio Test...\n"
     ]
    },
    {
     "data": {
      "text/html": [
       "<table>\n",
       "<thead><tr><th></th><th scope=col>statistic</th><th scope=col>pval</th><th scope=col>fdr</th><th scope=col>df.test</th><th scope=col>df.dna</th><th scope=col>df.rna.full</th><th scope=col>df.rna.red</th><th scope=col>logFC</th></tr></thead>\n",
       "<tbody>\n",
       "\t<tr><th scope=row>h.2__div_lnc__m.1__div_lnc</th><td>0.14296228 </td><td>0.7053537  </td><td>1.0000000  </td><td>1          </td><td>14         </td><td>9          </td><td>8          </td><td>-0.18279370</td></tr>\n",
       "\t<tr><th scope=row>h.3__div_lnc__m.2__antisense</th><td>2.04958359 </td><td>0.1522478  </td><td>0.8386325  </td><td>1          </td><td>13         </td><td>9          </td><td>8          </td><td>-1.06936371</td></tr>\n",
       "\t<tr><th scope=row>h.4__antisense_upep__m.3__protein_coding</th><td>2.35723529 </td><td>0.1247030  </td><td>0.7882859  </td><td>1          </td><td>14         </td><td>9          </td><td>8          </td><td>-0.59674066</td></tr>\n",
       "\t<tr><th scope=row>h.5__intergenic__m.4__intergenic_upep</th><td>0.34456850 </td><td>0.5572040  </td><td>0.9996505  </td><td>1          </td><td>14         </td><td>9          </td><td>8          </td><td> 0.20422372</td></tr>\n",
       "\t<tr><th scope=row>h.6__intergenic__m.4__intergenic_upep</th><td>0.47627958 </td><td>0.4901124  </td><td>0.9828614  </td><td>1          </td><td>14         </td><td>9          </td><td>8          </td><td> 0.23278796</td></tr>\n",
       "\t<tr><th scope=row>h.7__div_lnc__m.5__div_lnc</th><td>0.08248619 </td><td>0.7739560  </td><td>1.0000000  </td><td>1          </td><td>14         </td><td>9          </td><td>8          </td><td> 0.09733262</td></tr>\n",
       "</tbody>\n",
       "</table>\n"
      ],
      "text/latex": [
       "\\begin{tabular}{r|llllllll}\n",
       "  & statistic & pval & fdr & df.test & df.dna & df.rna.full & df.rna.red & logFC\\\\\n",
       "\\hline\n",
       "\th.2\\_\\_div\\_lnc\\_\\_m.1\\_\\_div\\_lnc & 0.14296228  & 0.7053537   & 1.0000000   & 1           & 14          & 9           & 8           & -0.18279370\\\\\n",
       "\th.3\\_\\_div\\_lnc\\_\\_m.2\\_\\_antisense & 2.04958359  & 0.1522478   & 0.8386325   & 1           & 13          & 9           & 8           & -1.06936371\\\\\n",
       "\th.4\\_\\_antisense\\_upep\\_\\_m.3\\_\\_protein\\_coding & 2.35723529  & 0.1247030   & 0.7882859   & 1           & 14          & 9           & 8           & -0.59674066\\\\\n",
       "\th.5\\_\\_intergenic\\_\\_m.4\\_\\_intergenic\\_upep & 0.34456850  & 0.5572040   & 0.9996505   & 1           & 14          & 9           & 8           &  0.20422372\\\\\n",
       "\th.6\\_\\_intergenic\\_\\_m.4\\_\\_intergenic\\_upep & 0.47627958  & 0.4901124   & 0.9828614   & 1           & 14          & 9           & 8           &  0.23278796\\\\\n",
       "\th.7\\_\\_div\\_lnc\\_\\_m.5\\_\\_div\\_lnc & 0.08248619  & 0.7739560   & 1.0000000   & 1           & 14          & 9           & 8           &  0.09733262\\\\\n",
       "\\end{tabular}\n"
      ],
      "text/markdown": [
       "\n",
       "| <!--/--> | statistic | pval | fdr | df.test | df.dna | df.rna.full | df.rna.red | logFC | \n",
       "|---|---|---|---|---|---|\n",
       "| h.2__div_lnc__m.1__div_lnc | 0.14296228  | 0.7053537   | 1.0000000   | 1           | 14          | 9           | 8           | -0.18279370 | \n",
       "| h.3__div_lnc__m.2__antisense | 2.04958359  | 0.1522478   | 0.8386325   | 1           | 13          | 9           | 8           | -1.06936371 | \n",
       "| h.4__antisense_upep__m.3__protein_coding | 2.35723529  | 0.1247030   | 0.7882859   | 1           | 14          | 9           | 8           | -0.59674066 | \n",
       "| h.5__intergenic__m.4__intergenic_upep | 0.34456850  | 0.5572040   | 0.9996505   | 1           | 14          | 9           | 8           |  0.20422372 | \n",
       "| h.6__intergenic__m.4__intergenic_upep | 0.47627958  | 0.4901124   | 0.9828614   | 1           | 14          | 9           | 8           |  0.23278796 | \n",
       "| h.7__div_lnc__m.5__div_lnc | 0.08248619  | 0.7739560   | 1.0000000   | 1           | 14          | 9           | 8           |  0.09733262 | \n",
       "\n",
       "\n"
      ],
      "text/plain": [
       "                                         statistic  pval      fdr       df.test\n",
       "h.2__div_lnc__m.1__div_lnc               0.14296228 0.7053537 1.0000000 1      \n",
       "h.3__div_lnc__m.2__antisense             2.04958359 0.1522478 0.8386325 1      \n",
       "h.4__antisense_upep__m.3__protein_coding 2.35723529 0.1247030 0.7882859 1      \n",
       "h.5__intergenic__m.4__intergenic_upep    0.34456850 0.5572040 0.9996505 1      \n",
       "h.6__intergenic__m.4__intergenic_upep    0.47627958 0.4901124 0.9828614 1      \n",
       "h.7__div_lnc__m.5__div_lnc               0.08248619 0.7739560 1.0000000 1      \n",
       "                                         df.dna df.rna.full df.rna.red\n",
       "h.2__div_lnc__m.1__div_lnc               14     9           8         \n",
       "h.3__div_lnc__m.2__antisense             13     9           8         \n",
       "h.4__antisense_upep__m.3__protein_coding 14     9           8         \n",
       "h.5__intergenic__m.4__intergenic_upep    14     9           8         \n",
       "h.6__intergenic__m.4__intergenic_upep    14     9           8         \n",
       "h.7__div_lnc__m.5__div_lnc               14     9           8         \n",
       "                                         logFC      \n",
       "h.2__div_lnc__m.1__div_lnc               -0.18279370\n",
       "h.3__div_lnc__m.2__antisense             -1.06936371\n",
       "h.4__antisense_upep__m.3__protein_coding -0.59674066\n",
       "h.5__intergenic__m.4__intergenic_upep     0.20422372\n",
       "h.6__intergenic__m.4__intergenic_upep     0.23278796\n",
       "h.7__div_lnc__m.5__div_lnc                0.09733262"
      ]
     },
     "metadata": {},
     "output_type": "display_data"
    }
   ],
   "source": [
    "int_res <- testLrt(obj1)\n",
    "head(int_res)"
   ]
  },
  {
   "cell_type": "code",
   "execution_count": 33,
   "metadata": {},
   "outputs": [
    {
     "data": {
      "image/png": "[encoded data removed]",
      "text/plain": [
       "Plot with title “Histogram of int_res[seq_comp_ctrls, ]$pval”"
      ]
     },
     "metadata": {},
     "output_type": "display_data"
    }
   ],
   "source": [
    "hist(int_res[seq_comp_ctrls,]$pval)"
   ]
  },
  {
   "cell_type": "code",
   "execution_count": 34,
   "metadata": {},
   "outputs": [
    {
     "data": {
      "image/png": "[encoded data removed]",
      "text/plain": [
       "Plot with title “Histogram of int_res[!seq_comp_ctrls, ]$pval”"
      ]
     },
     "metadata": {},
     "output_type": "display_data"
    }
   ],
   "source": [
    "hist(int_res[!seq_comp_ctrls,]$pval)"
   ]
  },
  {
   "cell_type": "markdown",
   "metadata": {},
   "source": [
    "## 4. run model to compare seqs in HUES64"
   ]
  },
  {
   "cell_type": "code",
   "execution_count": 35,
   "metadata": {},
   "outputs": [],
   "source": [
    "# note 13 will change depending how many barcodes there are per element\n",
    "hues64_rna_cols$depth <- c(rep(rna_depths[1], 13*2), rep(rna_depths[2], 13*2))"
   ]
  },
  {
   "cell_type": "code",
   "execution_count": 36,
   "metadata": {},
   "outputs": [],
   "source": [
    "# create MPRA object\n",
    "obj2 <- MpraObject(dnaCounts = seq_comp_dna_counts, rnaCounts = hues64_rna_counts, \n",
    "                   dnaAnnot = seq_comp_dna_cols, rnaAnnot = hues64_rna_cols, controls = seq_comp_ctrls)"
   ]
  },
  {
   "cell_type": "code",
   "execution_count": 37,
   "metadata": {},
   "outputs": [],
   "source": [
    "obj2 <- setDepthFactors(obj2, dnaDepth = seq_comp_dna_cols$depth, rnaDepth = hues64_rna_cols$depth)"
   ]
  },
  {
   "cell_type": "code",
   "execution_count": 38,
   "metadata": {},
   "outputs": [
    {
     "name": "stderr",
     "output_type": "stream",
     "text": [
      "Fitting controls-based background model...\n",
      "iter:2\tlog-likelihood:-61911433.9540646\n",
      "iter:3\tlog-likelihood:-61917681.071945\n",
      "Fitting model...\n",
      "[===========================================================] 100% (3679/3679)\n",
      "Fitting reduced model...\n",
      "Analysis Done!                                                                \n"
     ]
    }
   ],
   "source": [
    "obj2 <- analyzeComparative(obj = obj2, \n",
    "                           dnaDesign = ~ barcode, \n",
    "                           rnaDesign = ~ seq, \n",
    "                           reducedDesign = ~ 1) "
   ]
  },
  {
   "cell_type": "code",
   "execution_count": 39,
   "metadata": {},
   "outputs": [
    {
     "name": "stderr",
     "output_type": "stream",
     "text": [
      "Performing Likelihood Ratio Test...\n"
     ]
    },
    {
     "data": {
      "text/html": [
       "<table>\n",
       "<thead><tr><th></th><th scope=col>statistic</th><th scope=col>pval</th><th scope=col>fdr</th><th scope=col>df.test</th><th scope=col>df.dna</th><th scope=col>df.rna.full</th><th scope=col>df.rna.red</th><th scope=col>logFC</th></tr></thead>\n",
       "<tbody>\n",
       "\t<tr><th scope=row>h.2__div_lnc__m.1__div_lnc</th><td> 0.07495666 </td><td>7.842521e-01</td><td>8.483573e-01</td><td>1           </td><td>14          </td><td>5           </td><td>4           </td><td>-0.08615497 </td></tr>\n",
       "\t<tr><th scope=row>h.3__div_lnc__m.2__antisense</th><td>12.19240998 </td><td>4.798435e-04</td><td>1.695816e-03</td><td>1           </td><td>13          </td><td>5           </td><td>4           </td><td> 1.63136357 </td></tr>\n",
       "\t<tr><th scope=row>h.4__antisense_upep__m.3__protein_coding</th><td> 1.92994850 </td><td>1.647641e-01</td><td>2.521494e-01</td><td>1           </td><td>14          </td><td>5           </td><td>4           </td><td>-0.33261533 </td></tr>\n",
       "\t<tr><th scope=row>h.5__intergenic__m.4__intergenic_upep</th><td> 0.37558497 </td><td>5.399756e-01</td><td>6.451998e-01</td><td>1           </td><td>14          </td><td>5           </td><td>4           </td><td> 0.13808808 </td></tr>\n",
       "\t<tr><th scope=row>h.6__intergenic__m.4__intergenic_upep</th><td>19.42851730 </td><td>1.044359e-05</td><td>5.947675e-05</td><td>1           </td><td>14          </td><td>5           </td><td>4           </td><td>-1.02262648 </td></tr>\n",
       "\t<tr><th scope=row>h.7__div_lnc__m.5__div_lnc</th><td> 0.47376362 </td><td>4.912608e-01</td><td>6.016473e-01</td><td>1           </td><td>14          </td><td>5           </td><td>4           </td><td>-0.15784955 </td></tr>\n",
       "</tbody>\n",
       "</table>\n"
      ],
      "text/latex": [
       "\\begin{tabular}{r|llllllll}\n",
       "  & statistic & pval & fdr & df.test & df.dna & df.rna.full & df.rna.red & logFC\\\\\n",
       "\\hline\n",
       "\th.2\\_\\_div\\_lnc\\_\\_m.1\\_\\_div\\_lnc &  0.07495666  & 7.842521e-01 & 8.483573e-01 & 1            & 14           & 5            & 4            & -0.08615497 \\\\\n",
       "\th.3\\_\\_div\\_lnc\\_\\_m.2\\_\\_antisense & 12.19240998  & 4.798435e-04 & 1.695816e-03 & 1            & 13           & 5            & 4            &  1.63136357 \\\\\n",
       "\th.4\\_\\_antisense\\_upep\\_\\_m.3\\_\\_protein\\_coding &  1.92994850  & 1.647641e-01 & 2.521494e-01 & 1            & 14           & 5            & 4            & -0.33261533 \\\\\n",
       "\th.5\\_\\_intergenic\\_\\_m.4\\_\\_intergenic\\_upep &  0.37558497  & 5.399756e-01 & 6.451998e-01 & 1            & 14           & 5            & 4            &  0.13808808 \\\\\n",
       "\th.6\\_\\_intergenic\\_\\_m.4\\_\\_intergenic\\_upep & 19.42851730  & 1.044359e-05 & 5.947675e-05 & 1            & 14           & 5            & 4            & -1.02262648 \\\\\n",
       "\th.7\\_\\_div\\_lnc\\_\\_m.5\\_\\_div\\_lnc &  0.47376362  & 4.912608e-01 & 6.016473e-01 & 1            & 14           & 5            & 4            & -0.15784955 \\\\\n",
       "\\end{tabular}\n"
      ],
      "text/markdown": [
       "\n",
       "| <!--/--> | statistic | pval | fdr | df.test | df.dna | df.rna.full | df.rna.red | logFC | \n",
       "|---|---|---|---|---|---|\n",
       "| h.2__div_lnc__m.1__div_lnc |  0.07495666  | 7.842521e-01 | 8.483573e-01 | 1            | 14           | 5            | 4            | -0.08615497  | \n",
       "| h.3__div_lnc__m.2__antisense | 12.19240998  | 4.798435e-04 | 1.695816e-03 | 1            | 13           | 5            | 4            |  1.63136357  | \n",
       "| h.4__antisense_upep__m.3__protein_coding |  1.92994850  | 1.647641e-01 | 2.521494e-01 | 1            | 14           | 5            | 4            | -0.33261533  | \n",
       "| h.5__intergenic__m.4__intergenic_upep |  0.37558497  | 5.399756e-01 | 6.451998e-01 | 1            | 14           | 5            | 4            |  0.13808808  | \n",
       "| h.6__intergenic__m.4__intergenic_upep | 19.42851730  | 1.044359e-05 | 5.947675e-05 | 1            | 14           | 5            | 4            | -1.02262648  | \n",
       "| h.7__div_lnc__m.5__div_lnc |  0.47376362  | 4.912608e-01 | 6.016473e-01 | 1            | 14           | 5            | 4            | -0.15784955  | \n",
       "\n",
       "\n"
      ],
      "text/plain": [
       "                                         statistic   pval         fdr         \n",
       "h.2__div_lnc__m.1__div_lnc                0.07495666 7.842521e-01 8.483573e-01\n",
       "h.3__div_lnc__m.2__antisense             12.19240998 4.798435e-04 1.695816e-03\n",
       "h.4__antisense_upep__m.3__protein_coding  1.92994850 1.647641e-01 2.521494e-01\n",
       "h.5__intergenic__m.4__intergenic_upep     0.37558497 5.399756e-01 6.451998e-01\n",
       "h.6__intergenic__m.4__intergenic_upep    19.42851730 1.044359e-05 5.947675e-05\n",
       "h.7__div_lnc__m.5__div_lnc                0.47376362 4.912608e-01 6.016473e-01\n",
       "                                         df.test df.dna df.rna.full df.rna.red\n",
       "h.2__div_lnc__m.1__div_lnc               1       14     5           4         \n",
       "h.3__div_lnc__m.2__antisense             1       13     5           4         \n",
       "h.4__antisense_upep__m.3__protein_coding 1       14     5           4         \n",
       "h.5__intergenic__m.4__intergenic_upep    1       14     5           4         \n",
       "h.6__intergenic__m.4__intergenic_upep    1       14     5           4         \n",
       "h.7__div_lnc__m.5__div_lnc               1       14     5           4         \n",
       "                                         logFC      \n",
       "h.2__div_lnc__m.1__div_lnc               -0.08615497\n",
       "h.3__div_lnc__m.2__antisense              1.63136357\n",
       "h.4__antisense_upep__m.3__protein_coding -0.33261533\n",
       "h.5__intergenic__m.4__intergenic_upep     0.13808808\n",
       "h.6__intergenic__m.4__intergenic_upep    -1.02262648\n",
       "h.7__div_lnc__m.5__div_lnc               -0.15784955"
      ]
     },
     "metadata": {},
     "output_type": "display_data"
    }
   ],
   "source": [
    "hues64_res <- testLrt(obj2)\n",
    "head(hues64_res)"
   ]
  },
  {
   "cell_type": "code",
   "execution_count": 40,
   "metadata": {},
   "outputs": [
    {
     "data": {
      "image/png": "[encoded data removed]",
      "text/plain": [
       "Plot with title “Histogram of hues64_res[seq_comp_ctrls, ]$pval”"
      ]
     },
     "metadata": {},
     "output_type": "display_data"
    }
   ],
   "source": [
    "hist(hues64_res[seq_comp_ctrls,]$pval)"
   ]
  },
  {
   "cell_type": "code",
   "execution_count": 41,
   "metadata": {},
   "outputs": [
    {
     "data": {
      "image/png": "[encoded data removed]",
      "text/plain": [
       "Plot with title “Histogram of hues64_res[!seq_comp_ctrls, ]$pval”"
      ]
     },
     "metadata": {},
     "output_type": "display_data"
    }
   ],
   "source": [
    "hist(hues64_res[!seq_comp_ctrls,]$pval)"
   ]
  },
  {
   "cell_type": "markdown",
   "metadata": {},
   "source": [
    "## 4. run model to compare seqs in mESC"
   ]
  },
  {
   "cell_type": "code",
   "execution_count": 42,
   "metadata": {},
   "outputs": [],
   "source": [
    "# note 13 will change depending how many barcodes there are per element\n",
    "mesc_rna_cols$depth <- c(rep(rna_depths[3], 13*2))"
   ]
  },
  {
   "cell_type": "code",
   "execution_count": 43,
   "metadata": {},
   "outputs": [],
   "source": [
    "# create MPRA object\n",
    "obj3 <- MpraObject(dnaCounts = seq_comp_dna_counts, rnaCounts = mesc_rna_counts, \n",
    "                   dnaAnnot = seq_comp_dna_cols, rnaAnnot = mesc_rna_cols, controls = seq_comp_ctrls)"
   ]
  },
  {
   "cell_type": "code",
   "execution_count": 44,
   "metadata": {},
   "outputs": [],
   "source": [
    "obj3 <- setDepthFactors(obj3, dnaDepth = seq_comp_dna_cols$depth, rnaDepth = mesc_rna_cols$depth)"
   ]
  },
  {
   "cell_type": "code",
   "execution_count": 45,
   "metadata": {},
   "outputs": [
    {
     "name": "stderr",
     "output_type": "stream",
     "text": [
      "Fitting controls-based background model...\n",
      "iter:2\tlog-likelihood:-31096655.5303648\n",
      "iter:3\tlog-likelihood:-31095798.6105447\n",
      "iter:4\tlog-likelihood:-31095219.1130329\n",
      "iter:5\tlog-likelihood:-31094791.507774\n",
      "iter:6\tlog-likelihood:-31094496.7512412\n",
      "iter:7\tlog-likelihood:-31094284.2506225\n",
      "iter:8\tlog-likelihood:-31094117.0756736\n",
      "iter:9\tlog-likelihood:-31093998.355801\n",
      "iter:10\tlog-likelihood:-31093913.1374035\n",
      "iter:11\tlog-likelihood:-31093847.5337253\n",
      "iter:12\tlog-likelihood:-31093793.9012969\n",
      "iter:13\tlog-likelihood:-31093747.15832\n",
      "iter:14\tlog-likelihood:-31093716.4688578\n",
      "Fitting model...\n",
      "[===========================================================] 100% (3679/3679)\n",
      "Fitting reduced model...\n",
      "Analysis Done!                                                                \n"
     ]
    }
   ],
   "source": [
    "obj3 <- analyzeComparative(obj = obj3, \n",
    "                           dnaDesign = ~ barcode, \n",
    "                           rnaDesign = ~ seq, \n",
    "                           reducedDesign = ~ 1) "
   ]
  },
  {
   "cell_type": "code",
   "execution_count": 46,
   "metadata": {},
   "outputs": [
    {
     "name": "stderr",
     "output_type": "stream",
     "text": [
      "Performing Likelihood Ratio Test...\n"
     ]
    },
    {
     "data": {
      "text/html": [
       "<table>\n",
       "<thead><tr><th></th><th scope=col>statistic</th><th scope=col>pval</th><th scope=col>fdr</th><th scope=col>df.test</th><th scope=col>df.dna</th><th scope=col>df.rna.full</th><th scope=col>df.rna.red</th><th scope=col>logFC</th></tr></thead>\n",
       "<tbody>\n",
       "\t<tr><th scope=row>h.2__div_lnc__m.1__div_lnc</th><td>0.193978494</td><td>0.65962578 </td><td>0.78569402 </td><td>1          </td><td>14         </td><td>5          </td><td>4          </td><td>-0.19077105</td></tr>\n",
       "\t<tr><th scope=row>h.3__div_lnc__m.2__antisense</th><td>0.909813652</td><td>0.34016387 </td><td>0.50810510 </td><td>1          </td><td>13         </td><td>5          </td><td>4          </td><td> 0.73436122</td></tr>\n",
       "\t<tr><th scope=row>h.4__antisense_upep__m.3__protein_coding</th><td>5.227359974</td><td>0.02223426 </td><td>0.07616371 </td><td>1          </td><td>14         </td><td>5          </td><td>4          </td><td>-0.83361599</td></tr>\n",
       "\t<tr><th scope=row>h.5__intergenic__m.4__intergenic_upep</th><td>0.810164881</td><td>0.36807151 </td><td>0.53778200 </td><td>1          </td><td>14         </td><td>5          </td><td>4          </td><td> 0.27113256</td></tr>\n",
       "\t<tr><th scope=row>h.6__intergenic__m.4__intergenic_upep</th><td>4.555038093</td><td>0.03282203 </td><td>0.10004330 </td><td>1          </td><td>14         </td><td>5          </td><td>4          </td><td>-0.67982444</td></tr>\n",
       "\t<tr><th scope=row>h.7__div_lnc__m.5__div_lnc</th><td>0.007840688</td><td>0.92944140 </td><td>0.95997050 </td><td>1          </td><td>14         </td><td>5          </td><td>4          </td><td> 0.02746459</td></tr>\n",
       "</tbody>\n",
       "</table>\n"
      ],
      "text/latex": [
       "\\begin{tabular}{r|llllllll}\n",
       "  & statistic & pval & fdr & df.test & df.dna & df.rna.full & df.rna.red & logFC\\\\\n",
       "\\hline\n",
       "\th.2\\_\\_div\\_lnc\\_\\_m.1\\_\\_div\\_lnc & 0.193978494 & 0.65962578  & 0.78569402  & 1           & 14          & 5           & 4           & -0.19077105\\\\\n",
       "\th.3\\_\\_div\\_lnc\\_\\_m.2\\_\\_antisense & 0.909813652 & 0.34016387  & 0.50810510  & 1           & 13          & 5           & 4           &  0.73436122\\\\\n",
       "\th.4\\_\\_antisense\\_upep\\_\\_m.3\\_\\_protein\\_coding & 5.227359974 & 0.02223426  & 0.07616371  & 1           & 14          & 5           & 4           & -0.83361599\\\\\n",
       "\th.5\\_\\_intergenic\\_\\_m.4\\_\\_intergenic\\_upep & 0.810164881 & 0.36807151  & 0.53778200  & 1           & 14          & 5           & 4           &  0.27113256\\\\\n",
       "\th.6\\_\\_intergenic\\_\\_m.4\\_\\_intergenic\\_upep & 4.555038093 & 0.03282203  & 0.10004330  & 1           & 14          & 5           & 4           & -0.67982444\\\\\n",
       "\th.7\\_\\_div\\_lnc\\_\\_m.5\\_\\_div\\_lnc & 0.007840688 & 0.92944140  & 0.95997050  & 1           & 14          & 5           & 4           &  0.02746459\\\\\n",
       "\\end{tabular}\n"
      ],
      "text/markdown": [
       "\n",
       "| <!--/--> | statistic | pval | fdr | df.test | df.dna | df.rna.full | df.rna.red | logFC | \n",
       "|---|---|---|---|---|---|\n",
       "| h.2__div_lnc__m.1__div_lnc | 0.193978494 | 0.65962578  | 0.78569402  | 1           | 14          | 5           | 4           | -0.19077105 | \n",
       "| h.3__div_lnc__m.2__antisense | 0.909813652 | 0.34016387  | 0.50810510  | 1           | 13          | 5           | 4           |  0.73436122 | \n",
       "| h.4__antisense_upep__m.3__protein_coding | 5.227359974 | 0.02223426  | 0.07616371  | 1           | 14          | 5           | 4           | -0.83361599 | \n",
       "| h.5__intergenic__m.4__intergenic_upep | 0.810164881 | 0.36807151  | 0.53778200  | 1           | 14          | 5           | 4           |  0.27113256 | \n",
       "| h.6__intergenic__m.4__intergenic_upep | 4.555038093 | 0.03282203  | 0.10004330  | 1           | 14          | 5           | 4           | -0.67982444 | \n",
       "| h.7__div_lnc__m.5__div_lnc | 0.007840688 | 0.92944140  | 0.95997050  | 1           | 14          | 5           | 4           |  0.02746459 | \n",
       "\n",
       "\n"
      ],
      "text/plain": [
       "                                         statistic   pval       fdr       \n",
       "h.2__div_lnc__m.1__div_lnc               0.193978494 0.65962578 0.78569402\n",
       "h.3__div_lnc__m.2__antisense             0.909813652 0.34016387 0.50810510\n",
       "h.4__antisense_upep__m.3__protein_coding 5.227359974 0.02223426 0.07616371\n",
       "h.5__intergenic__m.4__intergenic_upep    0.810164881 0.36807151 0.53778200\n",
       "h.6__intergenic__m.4__intergenic_upep    4.555038093 0.03282203 0.10004330\n",
       "h.7__div_lnc__m.5__div_lnc               0.007840688 0.92944140 0.95997050\n",
       "                                         df.test df.dna df.rna.full df.rna.red\n",
       "h.2__div_lnc__m.1__div_lnc               1       14     5           4         \n",
       "h.3__div_lnc__m.2__antisense             1       13     5           4         \n",
       "h.4__antisense_upep__m.3__protein_coding 1       14     5           4         \n",
       "h.5__intergenic__m.4__intergenic_upep    1       14     5           4         \n",
       "h.6__intergenic__m.4__intergenic_upep    1       14     5           4         \n",
       "h.7__div_lnc__m.5__div_lnc               1       14     5           4         \n",
       "                                         logFC      \n",
       "h.2__div_lnc__m.1__div_lnc               -0.19077105\n",
       "h.3__div_lnc__m.2__antisense              0.73436122\n",
       "h.4__antisense_upep__m.3__protein_coding -0.83361599\n",
       "h.5__intergenic__m.4__intergenic_upep     0.27113256\n",
       "h.6__intergenic__m.4__intergenic_upep    -0.67982444\n",
       "h.7__div_lnc__m.5__div_lnc                0.02746459"
      ]
     },
     "metadata": {},
     "output_type": "display_data"
    }
   ],
   "source": [
    "mesc_res <- testLrt(obj3)\n",
    "head(mesc_res)"
   ]
  },
  {
   "cell_type": "code",
   "execution_count": 47,
   "metadata": {},
   "outputs": [
    {
     "data": {
      "image/png": "[encoded data removed]",
      "text/plain": [
       "Plot with title “Histogram of mesc_res[seq_comp_ctrls, ]$pval”"
      ]
     },
     "metadata": {},
     "output_type": "display_data"
    }
   ],
   "source": [
    "hist(mesc_res[seq_comp_ctrls,]$pval)"
   ]
  },
  {
   "cell_type": "code",
   "execution_count": 48,
   "metadata": {},
   "outputs": [
    {
     "data": {
      "image/png": "[encoded data removed]",
      "text/plain": [
       "Plot with title “Histogram of mesc_res[!seq_comp_ctrls, ]$pval”"
      ]
     },
     "metadata": {},
     "output_type": "display_data"
    }
   ],
   "source": [
    "hist(mesc_res[!seq_comp_ctrls,]$pval)"
   ]
  },
  {
   "cell_type": "markdown",
   "metadata": {},
   "source": [
    "## 4. run model to compare cells"
   ]
  },
  {
   "cell_type": "code",
   "execution_count": 49,
   "metadata": {},
   "outputs": [],
   "source": [
    "# first need to set the dnadepths and rnadepths manually\n",
    "cell_comp_dna_cols$depth <- rep(1, nrow(cell_comp_dna_cols))\n",
    "\n",
    "# note 13 will change depending how many barcodes there are per element\n",
    "cell_comp_rna_cols$depth <- c(rep(rna_depths[1], 13), rep(rna_depths[2], 13), rep(rna_depths[3], 13))"
   ]
  },
  {
   "cell_type": "code",
   "execution_count": 50,
   "metadata": {},
   "outputs": [],
   "source": [
    "# create MPRA object\n",
    "obj4 <- MpraObject(dnaCounts = cell_comp_dna_counts, rnaCounts = cell_comp_rna_counts, \n",
    "                   dnaAnnot = cell_comp_dna_cols, rnaAnnot = cell_comp_rna_cols, controls = cell_comp_ctrls)"
   ]
  },
  {
   "cell_type": "code",
   "execution_count": 51,
   "metadata": {},
   "outputs": [],
   "source": [
    "obj4 <- setDepthFactors(obj4, dnaDepth = cell_comp_dna_cols$depth, rnaDepth = cell_comp_rna_cols$depth)"
   ]
  },
  {
   "cell_type": "code",
   "execution_count": 52,
   "metadata": {},
   "outputs": [
    {
     "name": "stderr",
     "output_type": "stream",
     "text": [
      "Fitting controls-based background model...\n",
      "iter:2\tlog-likelihood:-42127143.1963027\n",
      "iter:3\tlog-likelihood:-42121847.505022\n",
      "iter:4\tlog-likelihood:-42123849.2515923\n",
      "Fitting model...\n",
      "[===========================================================] 100% (7004/7004)\n",
      "Fitting reduced model...\n",
      "Analysis Done!                                                                \n"
     ]
    }
   ],
   "source": [
    "obj4 <- analyzeComparative(obj = obj4, \n",
    "                           dnaDesign = ~ barcode, \n",
    "                           rnaDesign = ~ condition, \n",
    "                           reducedDesign = ~ 1) "
   ]
  },
  {
   "cell_type": "code",
   "execution_count": 53,
   "metadata": {},
   "outputs": [
    {
     "name": "stderr",
     "output_type": "stream",
     "text": [
      "Performing Likelihood Ratio Test...\n"
     ]
    },
    {
     "data": {
      "text/html": [
       "<table>\n",
       "<thead><tr><th></th><th scope=col>statistic</th><th scope=col>pval</th><th scope=col>fdr</th><th scope=col>df.test</th><th scope=col>df.dna</th><th scope=col>df.rna.full</th><th scope=col>df.rna.red</th><th scope=col>logFC</th></tr></thead>\n",
       "<tbody>\n",
       "\t<tr><th scope=row>GCCCTCTCGCCCCGCCCTTGCCCAGGCAGCCCCCGGTCGCGACGGCTCTCCTCGGGGCTCGGGGGCGCTGGGCGGCGGCCCTGGGCTGCTTTGGCTAACTTGGCTGCGGGGCAGGCGCGAGGAGCGGCGCGCCGACCGGGCCGA</th><td> 3.7590774  </td><td>0.0525215493</td><td>0.138815446 </td><td>1           </td><td> 8          </td><td>5           </td><td>4           </td><td>-0.9803612  </td></tr>\n",
       "\t<tr><th scope=row>GGGCGGGACGGAGACTCTGGGCTCAAGGCTCCTGGAAATGGGCGGGGCTCGAGGGCGGGAAGCGGCCCGTCTTGCTGGAAGTTCGGGGCTGGGGGCGGGGTCTGAAGGCGGGGCTGGGAGGGAGCGGGGCCTGAAGGCGGGGCG</th><td> 1.0907821  </td><td>0.2962979753</td><td>0.465204983 </td><td>1           </td><td>11          </td><td>5           </td><td>4           </td><td> 0.2399123  </td></tr>\n",
       "\t<tr><th scope=row>AAAAGGCAGTGCTTGATTCAATTCAACATTCACTGCGCCACTTACCAAGAGCCAGAAAAAGAAAAAAAAAAAAAAAAAAAGCCAACCAGCTGGGCGTTATTTCGAGCACGGGGCCCTGCAGGTGGGCCTGTGGGCGGGGACCCG</th><td> 0.5118548  </td><td>0.4743370229</td><td>0.634139437 </td><td>1           </td><td>14          </td><td>5           </td><td>4           </td><td> 0.1247084  </td></tr>\n",
       "\t<tr><th scope=row>CGGAGGGGCGGGGCAAGAGTGGGAGGAGACCCTGCGCGCGGCCGCCAGCGCTCCGGGATCTCGAGATAGCCGCAGCTCTCGCGATCTTTCTGGAGCCGCACCTCCACGCGGAGTCCGAGCGCGTGTGCTGAGACCCCAGGGTCG</th><td>13.5466723  </td><td>0.0002327036</td><td>0.002097627 </td><td>1           </td><td>11          </td><td>5           </td><td>4           </td><td> 0.6097634  </td></tr>\n",
       "\t<tr><th scope=row>AGGGTGGTGCGTGGTCTACGGCGAGCGGAGTGGGGCGGGGTCGCGCGCCTTGGCGGGGAGTCCGCGAGCCAGGAGGGGCGGGGGGTGAATGAAGGAGCGGGCGGAGGAGGAAGTGTCATGGCGTCGGGCCGTGGAGCTTCTTCT</th><td> 2.6894382  </td><td>0.1010154213</td><td>0.223542499 </td><td>1           </td><td> 9          </td><td>5           </td><td>4           </td><td> 0.6079985  </td></tr>\n",
       "\t<tr><th scope=row>ACACCCGAACCAGCAGCGAGAGAAGGAGCCCGGCATGCGGCGACTCAGAGTGACGACACACGCGAGTCTCCGCCCGAGTACGTCACTTCCGCAACGCTTCCTTCGCGGGGCTTTGTGGGTAGCCGACTGGGGTCTCCTGGCGAC</th><td> 0.3140010  </td><td>0.5752353154</td><td>0.720097971 </td><td>1           </td><td>14          </td><td>5           </td><td>4           </td><td>-0.0846883  </td></tr>\n",
       "</tbody>\n",
       "</table>\n"
      ],
      "text/latex": [
       "\\begin{tabular}{r|llllllll}\n",
       "  & statistic & pval & fdr & df.test & df.dna & df.rna.full & df.rna.red & logFC\\\\\n",
       "\\hline\n",
       "\tGCCCTCTCGCCCCGCCCTTGCCCAGGCAGCCCCCGGTCGCGACGGCTCTCCTCGGGGCTCGGGGGCGCTGGGCGGCGGCCCTGGGCTGCTTTGGCTAACTTGGCTGCGGGGCAGGCGCGAGGAGCGGCGCGCCGACCGGGCCGA &  3.7590774   & 0.0525215493 & 0.138815446  & 1            &  8           & 5            & 4            & -0.9803612  \\\\\n",
       "\tGGGCGGGACGGAGACTCTGGGCTCAAGGCTCCTGGAAATGGGCGGGGCTCGAGGGCGGGAAGCGGCCCGTCTTGCTGGAAGTTCGGGGCTGGGGGCGGGGTCTGAAGGCGGGGCTGGGAGGGAGCGGGGCCTGAAGGCGGGGCG &  1.0907821   & 0.2962979753 & 0.465204983  & 1            & 11           & 5            & 4            &  0.2399123  \\\\\n",
       "\tAAAAGGCAGTGCTTGATTCAATTCAACATTCACTGCGCCACTTACCAAGAGCCAGAAAAAGAAAAAAAAAAAAAAAAAAAGCCAACCAGCTGGGCGTTATTTCGAGCACGGGGCCCTGCAGGTGGGCCTGTGGGCGGGGACCCG &  0.5118548   & 0.4743370229 & 0.634139437  & 1            & 14           & 5            & 4            &  0.1247084  \\\\\n",
       "\tCGGAGGGGCGGGGCAAGAGTGGGAGGAGACCCTGCGCGCGGCCGCCAGCGCTCCGGGATCTCGAGATAGCCGCAGCTCTCGCGATCTTTCTGGAGCCGCACCTCCACGCGGAGTCCGAGCGCGTGTGCTGAGACCCCAGGGTCG & 13.5466723   & 0.0002327036 & 0.002097627  & 1            & 11           & 5            & 4            &  0.6097634  \\\\\n",
       "\tAGGGTGGTGCGTGGTCTACGGCGAGCGGAGTGGGGCGGGGTCGCGCGCCTTGGCGGGGAGTCCGCGAGCCAGGAGGGGCGGGGGGTGAATGAAGGAGCGGGCGGAGGAGGAAGTGTCATGGCGTCGGGCCGTGGAGCTTCTTCT &  2.6894382   & 0.1010154213 & 0.223542499  & 1            &  9           & 5            & 4            &  0.6079985  \\\\\n",
       "\tACACCCGAACCAGCAGCGAGAGAAGGAGCCCGGCATGCGGCGACTCAGAGTGACGACACACGCGAGTCTCCGCCCGAGTACGTCACTTCCGCAACGCTTCCTTCGCGGGGCTTTGTGGGTAGCCGACTGGGGTCTCCTGGCGAC &  0.3140010   & 0.5752353154 & 0.720097971  & 1            & 14           & 5            & 4            & -0.0846883  \\\\\n",
       "\\end{tabular}\n"
      ],
      "text/markdown": [
       "\n",
       "| <!--/--> | statistic | pval | fdr | df.test | df.dna | df.rna.full | df.rna.red | logFC | \n",
       "|---|---|---|---|---|---|\n",
       "| GCCCTCTCGCCCCGCCCTTGCCCAGGCAGCCCCCGGTCGCGACGGCTCTCCTCGGGGCTCGGGGGCGCTGGGCGGCGGCCCTGGGCTGCTTTGGCTAACTTGGCTGCGGGGCAGGCGCGAGGAGCGGCGCGCCGACCGGGCCGA |  3.7590774   | 0.0525215493 | 0.138815446  | 1            |  8           | 5            | 4            | -0.9803612   | \n",
       "| GGGCGGGACGGAGACTCTGGGCTCAAGGCTCCTGGAAATGGGCGGGGCTCGAGGGCGGGAAGCGGCCCGTCTTGCTGGAAGTTCGGGGCTGGGGGCGGGGTCTGAAGGCGGGGCTGGGAGGGAGCGGGGCCTGAAGGCGGGGCG |  1.0907821   | 0.2962979753 | 0.465204983  | 1            | 11           | 5            | 4            |  0.2399123   | \n",
       "| AAAAGGCAGTGCTTGATTCAATTCAACATTCACTGCGCCACTTACCAAGAGCCAGAAAAAGAAAAAAAAAAAAAAAAAAAGCCAACCAGCTGGGCGTTATTTCGAGCACGGGGCCCTGCAGGTGGGCCTGTGGGCGGGGACCCG |  0.5118548   | 0.4743370229 | 0.634139437  | 1            | 14           | 5            | 4            |  0.1247084   | \n",
       "| CGGAGGGGCGGGGCAAGAGTGGGAGGAGACCCTGCGCGCGGCCGCCAGCGCTCCGGGATCTCGAGATAGCCGCAGCTCTCGCGATCTTTCTGGAGCCGCACCTCCACGCGGAGTCCGAGCGCGTGTGCTGAGACCCCAGGGTCG | 13.5466723   | 0.0002327036 | 0.002097627  | 1            | 11           | 5            | 4            |  0.6097634   | \n",
       "| AGGGTGGTGCGTGGTCTACGGCGAGCGGAGTGGGGCGGGGTCGCGCGCCTTGGCGGGGAGTCCGCGAGCCAGGAGGGGCGGGGGGTGAATGAAGGAGCGGGCGGAGGAGGAAGTGTCATGGCGTCGGGCCGTGGAGCTTCTTCT |  2.6894382   | 0.1010154213 | 0.223542499  | 1            |  9           | 5            | 4            |  0.6079985   | \n",
       "| ACACCCGAACCAGCAGCGAGAGAAGGAGCCCGGCATGCGGCGACTCAGAGTGACGACACACGCGAGTCTCCGCCCGAGTACGTCACTTCCGCAACGCTTCCTTCGCGGGGCTTTGTGGGTAGCCGACTGGGGTCTCCTGGCGAC |  0.3140010   | 0.5752353154 | 0.720097971  | 1            | 14           | 5            | 4            | -0.0846883   | \n",
       "\n",
       "\n"
      ],
      "text/plain": [
       "                                                                                                                                                 statistic \n",
       "GCCCTCTCGCCCCGCCCTTGCCCAGGCAGCCCCCGGTCGCGACGGCTCTCCTCGGGGCTCGGGGGCGCTGGGCGGCGGCCCTGGGCTGCTTTGGCTAACTTGGCTGCGGGGCAGGCGCGAGGAGCGGCGCGCCGACCGGGCCGA  3.7590774\n",
       "GGGCGGGACGGAGACTCTGGGCTCAAGGCTCCTGGAAATGGGCGGGGCTCGAGGGCGGGAAGCGGCCCGTCTTGCTGGAAGTTCGGGGCTGGGGGCGGGGTCTGAAGGCGGGGCTGGGAGGGAGCGGGGCCTGAAGGCGGGGCG  1.0907821\n",
       "AAAAGGCAGTGCTTGATTCAATTCAACATTCACTGCGCCACTTACCAAGAGCCAGAAAAAGAAAAAAAAAAAAAAAAAAAGCCAACCAGCTGGGCGTTATTTCGAGCACGGGGCCCTGCAGGTGGGCCTGTGGGCGGGGACCCG  0.5118548\n",
       "CGGAGGGGCGGGGCAAGAGTGGGAGGAGACCCTGCGCGCGGCCGCCAGCGCTCCGGGATCTCGAGATAGCCGCAGCTCTCGCGATCTTTCTGGAGCCGCACCTCCACGCGGAGTCCGAGCGCGTGTGCTGAGACCCCAGGGTCG 13.5466723\n",
       "AGGGTGGTGCGTGGTCTACGGCGAGCGGAGTGGGGCGGGGTCGCGCGCCTTGGCGGGGAGTCCGCGAGCCAGGAGGGGCGGGGGGTGAATGAAGGAGCGGGCGGAGGAGGAAGTGTCATGGCGTCGGGCCGTGGAGCTTCTTCT  2.6894382\n",
       "ACACCCGAACCAGCAGCGAGAGAAGGAGCCCGGCATGCGGCGACTCAGAGTGACGACACACGCGAGTCTCCGCCCGAGTACGTCACTTCCGCAACGCTTCCTTCGCGGGGCTTTGTGGGTAGCCGACTGGGGTCTCCTGGCGAC  0.3140010\n",
       "                                                                                                                                                 pval        \n",
       "GCCCTCTCGCCCCGCCCTTGCCCAGGCAGCCCCCGGTCGCGACGGCTCTCCTCGGGGCTCGGGGGCGCTGGGCGGCGGCCCTGGGCTGCTTTGGCTAACTTGGCTGCGGGGCAGGCGCGAGGAGCGGCGCGCCGACCGGGCCGA 0.0525215493\n",
       "GGGCGGGACGGAGACTCTGGGCTCAAGGCTCCTGGAAATGGGCGGGGCTCGAGGGCGGGAAGCGGCCCGTCTTGCTGGAAGTTCGGGGCTGGGGGCGGGGTCTGAAGGCGGGGCTGGGAGGGAGCGGGGCCTGAAGGCGGGGCG 0.2962979753\n",
       "AAAAGGCAGTGCTTGATTCAATTCAACATTCACTGCGCCACTTACCAAGAGCCAGAAAAAGAAAAAAAAAAAAAAAAAAAGCCAACCAGCTGGGCGTTATTTCGAGCACGGGGCCCTGCAGGTGGGCCTGTGGGCGGGGACCCG 0.4743370229\n",
       "CGGAGGGGCGGGGCAAGAGTGGGAGGAGACCCTGCGCGCGGCCGCCAGCGCTCCGGGATCTCGAGATAGCCGCAGCTCTCGCGATCTTTCTGGAGCCGCACCTCCACGCGGAGTCCGAGCGCGTGTGCTGAGACCCCAGGGTCG 0.0002327036\n",
       "AGGGTGGTGCGTGGTCTACGGCGAGCGGAGTGGGGCGGGGTCGCGCGCCTTGGCGGGGAGTCCGCGAGCCAGGAGGGGCGGGGGGTGAATGAAGGAGCGGGCGGAGGAGGAAGTGTCATGGCGTCGGGCCGTGGAGCTTCTTCT 0.1010154213\n",
       "ACACCCGAACCAGCAGCGAGAGAAGGAGCCCGGCATGCGGCGACTCAGAGTGACGACACACGCGAGTCTCCGCCCGAGTACGTCACTTCCGCAACGCTTCCTTCGCGGGGCTTTGTGGGTAGCCGACTGGGGTCTCCTGGCGAC 0.5752353154\n",
       "                                                                                                                                                 fdr        \n",
       "GCCCTCTCGCCCCGCCCTTGCCCAGGCAGCCCCCGGTCGCGACGGCTCTCCTCGGGGCTCGGGGGCGCTGGGCGGCGGCCCTGGGCTGCTTTGGCTAACTTGGCTGCGGGGCAGGCGCGAGGAGCGGCGCGCCGACCGGGCCGA 0.138815446\n",
       "GGGCGGGACGGAGACTCTGGGCTCAAGGCTCCTGGAAATGGGCGGGGCTCGAGGGCGGGAAGCGGCCCGTCTTGCTGGAAGTTCGGGGCTGGGGGCGGGGTCTGAAGGCGGGGCTGGGAGGGAGCGGGGCCTGAAGGCGGGGCG 0.465204983\n",
       "AAAAGGCAGTGCTTGATTCAATTCAACATTCACTGCGCCACTTACCAAGAGCCAGAAAAAGAAAAAAAAAAAAAAAAAAAGCCAACCAGCTGGGCGTTATTTCGAGCACGGGGCCCTGCAGGTGGGCCTGTGGGCGGGGACCCG 0.634139437\n",
       "CGGAGGGGCGGGGCAAGAGTGGGAGGAGACCCTGCGCGCGGCCGCCAGCGCTCCGGGATCTCGAGATAGCCGCAGCTCTCGCGATCTTTCTGGAGCCGCACCTCCACGCGGAGTCCGAGCGCGTGTGCTGAGACCCCAGGGTCG 0.002097627\n",
       "AGGGTGGTGCGTGGTCTACGGCGAGCGGAGTGGGGCGGGGTCGCGCGCCTTGGCGGGGAGTCCGCGAGCCAGGAGGGGCGGGGGGTGAATGAAGGAGCGGGCGGAGGAGGAAGTGTCATGGCGTCGGGCCGTGGAGCTTCTTCT 0.223542499\n",
       "ACACCCGAACCAGCAGCGAGAGAAGGAGCCCGGCATGCGGCGACTCAGAGTGACGACACACGCGAGTCTCCGCCCGAGTACGTCACTTCCGCAACGCTTCCTTCGCGGGGCTTTGTGGGTAGCCGACTGGGGTCTCCTGGCGAC 0.720097971\n",
       "                                                                                                                                                 df.test\n",
       "GCCCTCTCGCCCCGCCCTTGCCCAGGCAGCCCCCGGTCGCGACGGCTCTCCTCGGGGCTCGGGGGCGCTGGGCGGCGGCCCTGGGCTGCTTTGGCTAACTTGGCTGCGGGGCAGGCGCGAGGAGCGGCGCGCCGACCGGGCCGA 1      \n",
       "GGGCGGGACGGAGACTCTGGGCTCAAGGCTCCTGGAAATGGGCGGGGCTCGAGGGCGGGAAGCGGCCCGTCTTGCTGGAAGTTCGGGGCTGGGGGCGGGGTCTGAAGGCGGGGCTGGGAGGGAGCGGGGCCTGAAGGCGGGGCG 1      \n",
       "AAAAGGCAGTGCTTGATTCAATTCAACATTCACTGCGCCACTTACCAAGAGCCAGAAAAAGAAAAAAAAAAAAAAAAAAAGCCAACCAGCTGGGCGTTATTTCGAGCACGGGGCCCTGCAGGTGGGCCTGTGGGCGGGGACCCG 1      \n",
       "CGGAGGGGCGGGGCAAGAGTGGGAGGAGACCCTGCGCGCGGCCGCCAGCGCTCCGGGATCTCGAGATAGCCGCAGCTCTCGCGATCTTTCTGGAGCCGCACCTCCACGCGGAGTCCGAGCGCGTGTGCTGAGACCCCAGGGTCG 1      \n",
       "AGGGTGGTGCGTGGTCTACGGCGAGCGGAGTGGGGCGGGGTCGCGCGCCTTGGCGGGGAGTCCGCGAGCCAGGAGGGGCGGGGGGTGAATGAAGGAGCGGGCGGAGGAGGAAGTGTCATGGCGTCGGGCCGTGGAGCTTCTTCT 1      \n",
       "ACACCCGAACCAGCAGCGAGAGAAGGAGCCCGGCATGCGGCGACTCAGAGTGACGACACACGCGAGTCTCCGCCCGAGTACGTCACTTCCGCAACGCTTCCTTCGCGGGGCTTTGTGGGTAGCCGACTGGGGTCTCCTGGCGAC 1      \n",
       "                                                                                                                                                 df.dna\n",
       "GCCCTCTCGCCCCGCCCTTGCCCAGGCAGCCCCCGGTCGCGACGGCTCTCCTCGGGGCTCGGGGGCGCTGGGCGGCGGCCCTGGGCTGCTTTGGCTAACTTGGCTGCGGGGCAGGCGCGAGGAGCGGCGCGCCGACCGGGCCGA  8    \n",
       "GGGCGGGACGGAGACTCTGGGCTCAAGGCTCCTGGAAATGGGCGGGGCTCGAGGGCGGGAAGCGGCCCGTCTTGCTGGAAGTTCGGGGCTGGGGGCGGGGTCTGAAGGCGGGGCTGGGAGGGAGCGGGGCCTGAAGGCGGGGCG 11    \n",
       "AAAAGGCAGTGCTTGATTCAATTCAACATTCACTGCGCCACTTACCAAGAGCCAGAAAAAGAAAAAAAAAAAAAAAAAAAGCCAACCAGCTGGGCGTTATTTCGAGCACGGGGCCCTGCAGGTGGGCCTGTGGGCGGGGACCCG 14    \n",
       "CGGAGGGGCGGGGCAAGAGTGGGAGGAGACCCTGCGCGCGGCCGCCAGCGCTCCGGGATCTCGAGATAGCCGCAGCTCTCGCGATCTTTCTGGAGCCGCACCTCCACGCGGAGTCCGAGCGCGTGTGCTGAGACCCCAGGGTCG 11    \n",
       "AGGGTGGTGCGTGGTCTACGGCGAGCGGAGTGGGGCGGGGTCGCGCGCCTTGGCGGGGAGTCCGCGAGCCAGGAGGGGCGGGGGGTGAATGAAGGAGCGGGCGGAGGAGGAAGTGTCATGGCGTCGGGCCGTGGAGCTTCTTCT  9    \n",
       "ACACCCGAACCAGCAGCGAGAGAAGGAGCCCGGCATGCGGCGACTCAGAGTGACGACACACGCGAGTCTCCGCCCGAGTACGTCACTTCCGCAACGCTTCCTTCGCGGGGCTTTGTGGGTAGCCGACTGGGGTCTCCTGGCGAC 14    \n",
       "                                                                                                                                                 df.rna.full\n",
       "GCCCTCTCGCCCCGCCCTTGCCCAGGCAGCCCCCGGTCGCGACGGCTCTCCTCGGGGCTCGGGGGCGCTGGGCGGCGGCCCTGGGCTGCTTTGGCTAACTTGGCTGCGGGGCAGGCGCGAGGAGCGGCGCGCCGACCGGGCCGA 5          \n",
       "GGGCGGGACGGAGACTCTGGGCTCAAGGCTCCTGGAAATGGGCGGGGCTCGAGGGCGGGAAGCGGCCCGTCTTGCTGGAAGTTCGGGGCTGGGGGCGGGGTCTGAAGGCGGGGCTGGGAGGGAGCGGGGCCTGAAGGCGGGGCG 5          \n",
       "AAAAGGCAGTGCTTGATTCAATTCAACATTCACTGCGCCACTTACCAAGAGCCAGAAAAAGAAAAAAAAAAAAAAAAAAAGCCAACCAGCTGGGCGTTATTTCGAGCACGGGGCCCTGCAGGTGGGCCTGTGGGCGGGGACCCG 5          \n",
       "CGGAGGGGCGGGGCAAGAGTGGGAGGAGACCCTGCGCGCGGCCGCCAGCGCTCCGGGATCTCGAGATAGCCGCAGCTCTCGCGATCTTTCTGGAGCCGCACCTCCACGCGGAGTCCGAGCGCGTGTGCTGAGACCCCAGGGTCG 5          \n",
       "AGGGTGGTGCGTGGTCTACGGCGAGCGGAGTGGGGCGGGGTCGCGCGCCTTGGCGGGGAGTCCGCGAGCCAGGAGGGGCGGGGGGTGAATGAAGGAGCGGGCGGAGGAGGAAGTGTCATGGCGTCGGGCCGTGGAGCTTCTTCT 5          \n",
       "ACACCCGAACCAGCAGCGAGAGAAGGAGCCCGGCATGCGGCGACTCAGAGTGACGACACACGCGAGTCTCCGCCCGAGTACGTCACTTCCGCAACGCTTCCTTCGCGGGGCTTTGTGGGTAGCCGACTGGGGTCTCCTGGCGAC 5          \n",
       "                                                                                                                                                 df.rna.red\n",
       "GCCCTCTCGCCCCGCCCTTGCCCAGGCAGCCCCCGGTCGCGACGGCTCTCCTCGGGGCTCGGGGGCGCTGGGCGGCGGCCCTGGGCTGCTTTGGCTAACTTGGCTGCGGGGCAGGCGCGAGGAGCGGCGCGCCGACCGGGCCGA 4         \n",
       "GGGCGGGACGGAGACTCTGGGCTCAAGGCTCCTGGAAATGGGCGGGGCTCGAGGGCGGGAAGCGGCCCGTCTTGCTGGAAGTTCGGGGCTGGGGGCGGGGTCTGAAGGCGGGGCTGGGAGGGAGCGGGGCCTGAAGGCGGGGCG 4         \n",
       "AAAAGGCAGTGCTTGATTCAATTCAACATTCACTGCGCCACTTACCAAGAGCCAGAAAAAGAAAAAAAAAAAAAAAAAAAGCCAACCAGCTGGGCGTTATTTCGAGCACGGGGCCCTGCAGGTGGGCCTGTGGGCGGGGACCCG 4         \n",
       "CGGAGGGGCGGGGCAAGAGTGGGAGGAGACCCTGCGCGCGGCCGCCAGCGCTCCGGGATCTCGAGATAGCCGCAGCTCTCGCGATCTTTCTGGAGCCGCACCTCCACGCGGAGTCCGAGCGCGTGTGCTGAGACCCCAGGGTCG 4         \n",
       "AGGGTGGTGCGTGGTCTACGGCGAGCGGAGTGGGGCGGGGTCGCGCGCCTTGGCGGGGAGTCCGCGAGCCAGGAGGGGCGGGGGGTGAATGAAGGAGCGGGCGGAGGAGGAAGTGTCATGGCGTCGGGCCGTGGAGCTTCTTCT 4         \n",
       "ACACCCGAACCAGCAGCGAGAGAAGGAGCCCGGCATGCGGCGACTCAGAGTGACGACACACGCGAGTCTCCGCCCGAGTACGTCACTTCCGCAACGCTTCCTTCGCGGGGCTTTGTGGGTAGCCGACTGGGGTCTCCTGGCGAC 4         \n",
       "                                                                                                                                                 logFC     \n",
       "GCCCTCTCGCCCCGCCCTTGCCCAGGCAGCCCCCGGTCGCGACGGCTCTCCTCGGGGCTCGGGGGCGCTGGGCGGCGGCCCTGGGCTGCTTTGGCTAACTTGGCTGCGGGGCAGGCGCGAGGAGCGGCGCGCCGACCGGGCCGA -0.9803612\n",
       "GGGCGGGACGGAGACTCTGGGCTCAAGGCTCCTGGAAATGGGCGGGGCTCGAGGGCGGGAAGCGGCCCGTCTTGCTGGAAGTTCGGGGCTGGGGGCGGGGTCTGAAGGCGGGGCTGGGAGGGAGCGGGGCCTGAAGGCGGGGCG  0.2399123\n",
       "AAAAGGCAGTGCTTGATTCAATTCAACATTCACTGCGCCACTTACCAAGAGCCAGAAAAAGAAAAAAAAAAAAAAAAAAAGCCAACCAGCTGGGCGTTATTTCGAGCACGGGGCCCTGCAGGTGGGCCTGTGGGCGGGGACCCG  0.1247084\n",
       "CGGAGGGGCGGGGCAAGAGTGGGAGGAGACCCTGCGCGCGGCCGCCAGCGCTCCGGGATCTCGAGATAGCCGCAGCTCTCGCGATCTTTCTGGAGCCGCACCTCCACGCGGAGTCCGAGCGCGTGTGCTGAGACCCCAGGGTCG  0.6097634\n",
       "AGGGTGGTGCGTGGTCTACGGCGAGCGGAGTGGGGCGGGGTCGCGCGCCTTGGCGGGGAGTCCGCGAGCCAGGAGGGGCGGGGGGTGAATGAAGGAGCGGGCGGAGGAGGAAGTGTCATGGCGTCGGGCCGTGGAGCTTCTTCT  0.6079985\n",
       "ACACCCGAACCAGCAGCGAGAGAAGGAGCCCGGCATGCGGCGACTCAGAGTGACGACACACGCGAGTCTCCGCCCGAGTACGTCACTTCCGCAACGCTTCCTTCGCGGGGCTTTGTGGGTAGCCGACTGGGGTCTCCTGGCGAC -0.0846883"
      ]
     },
     "metadata": {},
     "output_type": "display_data"
    }
   ],
   "source": [
    "trans_res <- testLrt(obj4)\n",
    "head(trans_res)"
   ]
  },
  {
   "cell_type": "code",
   "execution_count": 54,
   "metadata": {},
   "outputs": [
    {
     "data": {
      "image/png": "[encoded data removed]",
      "text/plain": [
       "Plot with title “Histogram of trans_res[cell_comp_ctrls, ]$pval”"
      ]
     },
     "metadata": {},
     "output_type": "display_data"
    }
   ],
   "source": [
    "hist(trans_res[cell_comp_ctrls,]$pval)"
   ]
  },
  {
   "cell_type": "code",
   "execution_count": 55,
   "metadata": {},
   "outputs": [
    {
     "data": {
      "image/png": "[encoded data removed]",
      "text/plain": [
       "Plot with title “Histogram of trans_res[!cell_comp_ctrls, ]$pval”"
      ]
     },
     "metadata": {},
     "output_type": "display_data"
    }
   ],
   "source": [
    "hist(trans_res[!cell_comp_ctrls,]$pval)"
   ]
  },
  {
   "cell_type": "markdown",
   "metadata": {},
   "source": [
    "## 5. write all files"
   ]
  },
  {
   "cell_type": "code",
   "execution_count": 56,
   "metadata": {},
   "outputs": [],
   "source": [
    "write.table(int_res, file = \"../../../data/02__mpra/02__activs/cis_trans_interaction_results.txt\", sep = \"\\t\",\n",
    "            quote = FALSE)"
   ]
  },
  {
   "cell_type": "code",
   "execution_count": 57,
   "metadata": {},
   "outputs": [],
   "source": [
    "write.table(hues64_res, file = \"../../../data/02__mpra/02__activs/HUES64_cis_results.txt\", sep = \"\\t\",\n",
    "            quote = FALSE)"
   ]
  },
  {
   "cell_type": "code",
   "execution_count": 58,
   "metadata": {},
   "outputs": [],
   "source": [
    "write.table(mesc_res, file = \"../../../data/02__mpra/02__activs/mESC_cis_results.txt\", sep = \"\\t\",\n",
    "            quote = FALSE)"
   ]
  },
  {
   "cell_type": "code",
   "execution_count": 59,
   "metadata": {},
   "outputs": [],
   "source": [
    "write.table(trans_res, file = \"../../../data/02__mpra/02__activs/trans_results.txt\", sep = \"\\t\",\n",
    "            quote = FALSE)"
   ]
  }
 ],
 "metadata": {
  "kernelspec": {
   "display_name": "R",
   "language": "R",
   "name": "ir"
  },
  "language_info": {
   "codemirror_mode": "r",
   "file_extension": ".r",
   "mimetype": "text/x-r-source",
   "name": "R",
   "pygments_lexer": "r",
   "version": "3.5.1"
  }
 },
 "nbformat": 4,
 "nbformat_minor": 2
}
